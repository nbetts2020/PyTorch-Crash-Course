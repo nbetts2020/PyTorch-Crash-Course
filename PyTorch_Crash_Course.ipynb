{
  "cells": [
    {
      "cell_type": "markdown",
      "source": [
        "# PyTorch Crash Course\n",
        "\n",
        "Welcome to this PyTorch Crash Course! In this course, we'll cover everything from the basics of PyTorch (tensor and tensor manipulation) to more intermediate concepts such as building neural networks, culminating in a final project that fine-tunes a transformed based architecture (GPT2-Medium) for lyric completion. Let's get into it!"
      ],
      "metadata": {
        "id": "WOzssjGHEw23"
      }
    },
    {
      "cell_type": "markdown",
      "metadata": {
        "id": "qqoIxrmvqi5k"
      },
      "source": [
        "# PyTorch\n",
        "\n",
        "PyTorch is an open-source deep learning framework developed by Facebook's AI Research lab. It's popular for its dynamic computation graph, which allows for flexible and interactive model design. PyTorch is widely used in academia, research, and industry for building deep learning models.\n"
      ]
    },
    {
      "cell_type": "markdown",
      "metadata": {
        "id": "hEhpzGARrAvt"
      },
      "source": [
        "# Installation and Setup"
      ]
    },
    {
      "cell_type": "code",
      "execution_count": 62,
      "metadata": {
        "colab": {
          "base_uri": "https://localhost:8080/"
        },
        "id": "v3p3Jh1EpzDa",
        "outputId": "0770ab0b-1d64-4d3b-820f-bbcd72568e34"
      },
      "outputs": [
        {
          "output_type": "stream",
          "name": "stdout",
          "text": [
            "Requirement already satisfied: torch in /usr/local/lib/python3.10/dist-packages (2.0.1+cu118)\n",
            "Requirement already satisfied: torchvision in /usr/local/lib/python3.10/dist-packages (0.15.2+cu118)\n",
            "Requirement already satisfied: filelock in /usr/local/lib/python3.10/dist-packages (from torch) (3.12.2)\n",
            "Requirement already satisfied: typing-extensions in /usr/local/lib/python3.10/dist-packages (from torch) (4.5.0)\n",
            "Requirement already satisfied: sympy in /usr/local/lib/python3.10/dist-packages (from torch) (1.12)\n",
            "Requirement already satisfied: networkx in /usr/local/lib/python3.10/dist-packages (from torch) (3.1)\n",
            "Requirement already satisfied: jinja2 in /usr/local/lib/python3.10/dist-packages (from torch) (3.1.2)\n",
            "Requirement already satisfied: triton==2.0.0 in /usr/local/lib/python3.10/dist-packages (from torch) (2.0.0)\n",
            "Requirement already satisfied: cmake in /usr/local/lib/python3.10/dist-packages (from triton==2.0.0->torch) (3.27.4.1)\n",
            "Requirement already satisfied: lit in /usr/local/lib/python3.10/dist-packages (from triton==2.0.0->torch) (16.0.6)\n",
            "Requirement already satisfied: numpy in /usr/local/lib/python3.10/dist-packages (from torchvision) (1.23.5)\n",
            "Requirement already satisfied: requests in /usr/local/lib/python3.10/dist-packages (from torchvision) (2.31.0)\n",
            "Requirement already satisfied: pillow!=8.3.*,>=5.3.0 in /usr/local/lib/python3.10/dist-packages (from torchvision) (9.4.0)\n",
            "Requirement already satisfied: MarkupSafe>=2.0 in /usr/local/lib/python3.10/dist-packages (from jinja2->torch) (2.1.3)\n",
            "Requirement already satisfied: charset-normalizer<4,>=2 in /usr/local/lib/python3.10/dist-packages (from requests->torchvision) (3.2.0)\n",
            "Requirement already satisfied: idna<4,>=2.5 in /usr/local/lib/python3.10/dist-packages (from requests->torchvision) (3.4)\n",
            "Requirement already satisfied: urllib3<3,>=1.21.1 in /usr/local/lib/python3.10/dist-packages (from requests->torchvision) (2.0.4)\n",
            "Requirement already satisfied: certifi>=2017.4.17 in /usr/local/lib/python3.10/dist-packages (from requests->torchvision) (2023.7.22)\n",
            "Requirement already satisfied: mpmath>=0.19 in /usr/local/lib/python3.10/dist-packages (from sympy->torch) (1.3.0)\n"
          ]
        }
      ],
      "source": [
        "# Uncomment and run this cell to install PyTorch\n",
        "!pip install torch torchvision"
      ]
    },
    {
      "cell_type": "markdown",
      "metadata": {
        "id": "A1YqmkP1rRKx"
      },
      "source": [
        "## Basics of PyTorch: Tensors\n",
        "\n",
        "Tensors are the primary data structures in PyTorch. They're akin to multi-dimensional arrays, and they form the backbone of many operations in deep learning. These tensors can be used to represent data in various dimensions:\n",
        "\n",
        "- A 0-dimensional tensor is a scalar (a single number).\n",
        "- A 1-dimensional tensor is a vector (like an array of numbers).\n",
        "- A 2-dimensional tensor is a matrix.\n",
        "- Tensors with three or more dimensions don't have special mathematical names but can be thought of as matrices with higher dimensions.\n",
        "\n",
        "In PyTorch, tensors can be created and manipulated using a variety of functions. They can also be operated on CPUs and GPUs (not to mention TPUs!), making computations faster and more efficient, especially for large-scale data.\n",
        "\n",
        "A crucial advantage of PyTorch tensors over NumPy arrays is their ability to run on GPUs. This accelerates computations manyfold, making PyTorch particularly suitable for modern deep learning tasks.\n",
        "\n",
        "  Let's create some:"
      ]
    },
    {
      "cell_type": "code",
      "execution_count": 2,
      "metadata": {
        "colab": {
          "base_uri": "https://localhost:8080/"
        },
        "id": "8LK7KQaHtgbn",
        "outputId": "3899f87a-8712-48b7-d489-4cd417adf9f2"
      },
      "outputs": [
        {
          "output_type": "stream",
          "name": "stdout",
          "text": [
            "Scalar: tensor(4.)\n",
            "\n",
            "Vector: tensor([1, 2, 3, 4])\n",
            "\n",
            "Matrix: tensor([[1, 2],\n",
            "        [3, 4],\n",
            "        [5, 6]])\n",
            "\n",
            "3D Tensor: tensor([[[1, 2],\n",
            "         [3, 4]],\n",
            "\n",
            "        [[5, 6],\n",
            "         [7, 8]]])\n"
          ]
        }
      ],
      "source": [
        "import torch\n",
        "\n",
        "# Creating a scalar\n",
        "scalar = torch.tensor(4.0)\n",
        "print(\"Scalar:\", scalar)\n",
        "\n",
        "# Creating a vector\n",
        "vector = torch.tensor([1, 2, 3, 4])\n",
        "print(\"\\nVector:\", vector)\n",
        "\n",
        "# Creating a matrix\n",
        "matrix = torch.tensor([[1, 2], [3, 4], [5, 6]])\n",
        "print(\"\\nMatrix:\", matrix)\n",
        "\n",
        "# Creating a 3D tensor\n",
        "tensor3d = torch.tensor([[[1, 2], [3, 4]], [[5, 6], [7, 8]]])\n",
        "print(\"\\n3D Tensor:\", tensor3d)"
      ]
    },
    {
      "cell_type": "markdown",
      "metadata": {
        "id": "3XBV4S3tuyS_"
      },
      "source": [
        "### Tensor Attributes\n",
        "\n",
        "Tensors have attributes that allow us to retrieve information about their nature:\n",
        "- `dtype`: The data type of the tensor (e.g., `float32`, `int64`).\n",
        "- `shape`: The dimensions of the tensor.\n",
        "- `device`: The device on which the tensor is stored, either `cpu` or `gpu`."
      ]
    },
    {
      "cell_type": "code",
      "execution_count": 3,
      "metadata": {
        "colab": {
          "base_uri": "https://localhost:8080/"
        },
        "id": "cGD6b7NEuqKw",
        "outputId": "85085fc9-e731-45ab-e48d-1c235f6ec267"
      },
      "outputs": [
        {
          "output_type": "stream",
          "name": "stdout",
          "text": [
            "Matrix Data Type: torch.int64\n",
            "Matrix Shape: torch.Size([3, 2])\n",
            "Matrix Device: cpu\n"
          ]
        }
      ],
      "source": [
        "print(\"Matrix Data Type:\", matrix.dtype)\n",
        "print(\"Matrix Shape:\", matrix.shape)\n",
        "print(\"Matrix Device:\", matrix.device)"
      ]
    },
    {
      "cell_type": "markdown",
      "metadata": {
        "id": "1QXwqd42u-LC"
      },
      "source": [
        "### Tensor Operations\n",
        "\n",
        "Tensors support an abundance of operations, from basic arithmetic to advanced linear algebra. Let's explore some of these operations:"
      ]
    },
    {
      "cell_type": "code",
      "execution_count": 4,
      "metadata": {
        "colab": {
          "base_uri": "https://localhost:8080/"
        },
        "id": "kCOb12cpuwhL",
        "outputId": "b6662644-162c-493b-e946-7889e66c6adb"
      },
      "outputs": [
        {
          "output_type": "stream",
          "name": "stdout",
          "text": [
            "Element-wise Addition: tensor([5, 7, 9])\n",
            "\n",
            "Element-wise Multiplication: tensor([ 4, 10, 18])\n",
            "\n",
            "Dot Product: tensor(32)\n",
            "\n",
            "Matrix Multiplication:\n",
            " tensor([[2, 4],\n",
            "        [6, 8]])\n"
          ]
        }
      ],
      "source": [
        "# Basic Arithmetic\n",
        "a = torch.tensor([1, 2, 3])\n",
        "b = torch.tensor([4, 5, 6])\n",
        "\n",
        "# Element-wise addition\n",
        "sum_ab = a + b\n",
        "print(\"Element-wise Addition:\", sum_ab)\n",
        "\n",
        "# Element-wise multiplication\n",
        "product_ab = a * b\n",
        "print(\"\\nElement-wise Multiplication:\", product_ab)\n",
        "\n",
        "# Dot product\n",
        "dot_product = torch.dot(a, b)\n",
        "print(\"\\nDot Product:\", dot_product)\n",
        "\n",
        "# Matrix multiplication\n",
        "mat1 = torch.tensor([[1, 2], [3, 4]])\n",
        "mat2 = torch.tensor([[2, 0], [0, 2]])\n",
        "mat_product = torch.mm(mat1, mat2)\n",
        "print(\"\\nMatrix Multiplication:\\n\", mat_product)"
      ]
    },
    {
      "cell_type": "markdown",
      "metadata": {
        "id": "h2EWPHElvjGY"
      },
      "source": [
        "### Reshaping Tensors\n",
        "\n",
        "It's a common need in deep learning to reshape tensors. For example, when passing data through neural networks, the expected input shape of one layer might be different from the output shape of the previous layer.\n",
        "\n",
        "`view()` and `reshape()` are two methods to achieve this. While they generally serve the same purpose, there are nuances in their behavior, especially concerning memory layout. However, for most purposes, they can be used interchangeably. For more information: https://saturncloud.io/blog/whats-the-difference-between-reshape-and-view-in-pytorch/\n"
      ]
    },
    {
      "cell_type": "code",
      "execution_count": 5,
      "metadata": {
        "colab": {
          "base_uri": "https://localhost:8080/"
        },
        "id": "cgZjoGZnvOZT",
        "outputId": "07bd2634-5df6-468f-d490-21ebfe0cf196"
      },
      "outputs": [
        {
          "output_type": "stream",
          "name": "stdout",
          "text": [
            "matrix:\n",
            " tensor([[1, 2],\n",
            "        [3, 4],\n",
            "        [5, 6]])\n",
            "\n",
            "matrix reshaped using view(2,3) 3x2 -> 2x3:\n",
            " tensor([[1, 2, 3],\n",
            "        [4, 5, 6]])\n",
            "\n",
            "vector:\n",
            " tensor([1, 2, 3, 4])\n",
            "\n",
            "vector reshaped using reshape(2,2) 1x4 -> 2x2:\n",
            " tensor([[1, 2],\n",
            "        [3, 4]])\n"
          ]
        }
      ],
      "source": [
        "# Using view()\n",
        "reshaped_matrix = matrix.view(2, 3)\n",
        "print(\"matrix:\\n\", matrix)\n",
        "print(\"\\nmatrix reshaped using view(2,3) 3x2 -> 2x3:\\n\", reshaped_matrix)\n",
        "\n",
        "# Using reshape()\n",
        "reshaped_vector = vector.reshape(2, 2)\n",
        "print(\"\\nvector:\\n\", vector)\n",
        "print(\"\\nvector reshaped using reshape(2,2) 1x4 -> 2x2:\\n\", reshaped_vector)"
      ]
    },
    {
      "cell_type": "markdown",
      "metadata": {
        "id": "rU_ZGcfyyXvX"
      },
      "source": [
        "### Broadcasting\n",
        "\n",
        "Broadcasting is a powerful mechanism that allows PyTorch to work with tensors of different shapes when performing arithmetic operations. With broadcasting, the smaller tensor is 'broadcast' over the larger tensor so they have compatible shapes.\n",
        "\n",
        "This is useful because it eliminates the need for manually reshaping tensors in many scenarios. For more information: https://pytorch.org/docs/stable/notes/broadcasting.html\n",
        "\n",
        "Let's try it out:"
      ]
    },
    {
      "cell_type": "code",
      "execution_count": 6,
      "metadata": {
        "colab": {
          "base_uri": "https://localhost:8080/"
        },
        "id": "VzWaef89yYIl",
        "outputId": "67afcfac-a7b9-4c79-c1da-959987252938"
      },
      "outputs": [
        {
          "output_type": "stream",
          "name": "stdout",
          "text": [
            "tensor([2, 4, 6])\n"
          ]
        }
      ],
      "source": [
        "# Broadcasting in action\n",
        "x = torch.tensor([1, 2, 3])\n",
        "y = 2  # Scalar\n",
        "\n",
        "# This will multiply every element of 'x' by 'y'\n",
        "result = x * y\n",
        "print(result)"
      ]
    },
    {
      "cell_type": "markdown",
      "metadata": {
        "id": "-OHiyNcIz6_G"
      },
      "source": [
        "### Tensor Indexing\n",
        "\n",
        "Just like with Python lists and NumPy arrays, you can index and slice PyTorch tensors. This allows for selecting specific parts of a tensor, which is useful for data manipulation and preprocessing. For more information: https://deeplearninguniversity.com/pytorch/pytorch-tensor-indexing/\n"
      ]
    },
    {
      "cell_type": "code",
      "execution_count": 7,
      "metadata": {
        "colab": {
          "base_uri": "https://localhost:8080/"
        },
        "id": "jMzYefo9zCtB",
        "outputId": "6054fa96-dd7d-4dd3-ddf6-268f5e76fa8f"
      },
      "outputs": [
        {
          "output_type": "stream",
          "name": "stdout",
          "text": [
            "Second Row: tensor([4, 5, 6])\n",
            "\n",
            "First Column: tensor([1, 4, 7])\n",
            "\n",
            "Sub-tensor: tensor([8, 9])\n"
          ]
        }
      ],
      "source": [
        "# Tensor Indexing\n",
        "tensor = torch.tensor([[1, 2, 3], [4, 5, 6], [7, 8, 9]])\n",
        "\n",
        "# Get the second row\n",
        "second_row = tensor[1]\n",
        "print(\"Second Row:\", second_row)\n",
        "\n",
        "# Get the first column - [row:column] -> [:, 0] -> ':' = all rows,\n",
        "# '0' = 0th element of all rows (first column)\n",
        "first_column = tensor[:, 0]\n",
        "print(\"\\nFirst Column:\", first_column)\n",
        "\n",
        "# Get the last two elements of the last row\n",
        "sub_tensor = tensor[-1, -2:]\n",
        "print(\"\\nSub-tensor:\", sub_tensor)"
      ]
    },
    {
      "cell_type": "markdown",
      "metadata": {
        "id": "ALb4Ta2q1hYU"
      },
      "source": [
        "### In-place Operations\n",
        "\n",
        "PyTorch supports in-place operations, which modify tensors directly without creating a new one. Such operations are suffixed with an underscore (`_`). While they save memory by not creating new tensors, caution is needed, especially when computing gradients, as in-place modifications can sometimes hinder the process of computing gradients. For more information on in-place operations and its downsides: https://towardsdatascience.com/in-place-operations-in-pytorch-f91d493e970e\n"
      ]
    },
    {
      "cell_type": "markdown",
      "metadata": {
        "id": "Sp1K11f-3yvD"
      },
      "source": [
        "### Tensor to Numpy and Back\n",
        "\n",
        "If you are unfamiliar with NumPy, NumPy is a library in Python that supports the use of \"large, multi-dimensional arrays and matrices, as well as accompanying high-level mathematical functions to opperate on these arrays\". PyTorch provides easy conversions between PyTorch tensors and NumPy arrays. This interoperability is particularly useful for data manipulation and preprocessing.\n"
      ]
    },
    {
      "cell_type": "code",
      "execution_count": 8,
      "metadata": {
        "colab": {
          "base_uri": "https://localhost:8080/"
        },
        "id": "5RLWDiS401X7",
        "outputId": "59948427-cbd7-42e4-91fa-ff2ecfc50f75"
      },
      "outputs": [
        {
          "output_type": "stream",
          "name": "stdout",
          "text": [
            "Numpy Array:\n",
            " [[1 2 3]\n",
            " [4 5 6]\n",
            " [7 8 9]]\n",
            "\n",
            "Tensor:\n",
            " tensor([[1, 2, 3],\n",
            "        [4, 5, 6],\n",
            "        [7, 8, 9]])\n"
          ]
        }
      ],
      "source": [
        "# Convert tensor to numpy array\n",
        "numpy_arr = tensor.numpy()\n",
        "print(\"Numpy Array:\\n\", numpy_arr)\n",
        "\n",
        "# Convert numpy array back to tensor\n",
        "new_tensor = torch.from_numpy(numpy_arr)\n",
        "print(\"\\nTensor:\\n\", new_tensor)"
      ]
    },
    {
      "cell_type": "markdown",
      "metadata": {
        "id": "4algfz2d43BN"
      },
      "source": [
        "### Using GPUs\n",
        "\n",
        "One of the strengths of PyTorch is its ability to perform computations on GPUs. This is especially useful for deep learning tasks, as GPUs can significantly accelerate these computations. Moving tensors between the CPU and GPU is a line of code away!\n"
      ]
    },
    {
      "cell_type": "code",
      "execution_count": 9,
      "metadata": {
        "colab": {
          "base_uri": "https://localhost:8080/"
        },
        "id": "DxxKonWe4sif",
        "outputId": "1394e8cf-04c2-49a2-dd8c-dc1e6d17d6fe"
      },
      "outputs": [
        {
          "output_type": "stream",
          "name": "stdout",
          "text": [
            "Tensor on GPU:  cuda:0\n"
          ]
        }
      ],
      "source": [
        "# Check if CUDA (GPU interface) is available\n",
        "if torch.cuda.is_available():\n",
        "    # Move tensor to GPU\n",
        "    tensor_gpu = tensor.cuda()\n",
        "    print(\"Tensor on GPU: \", tensor_gpu.device)\n",
        "else:\n",
        "    print(\"CUDA not available. Cannot move tensor to GPU.\")\n"
      ]
    },
    {
      "cell_type": "markdown",
      "metadata": {
        "id": "7zVIRWdxWWik"
      },
      "source": [
        "## Building Basic Neural Networks with PyTorch\n",
        "\n",
        "Now that we've explored tensors, let's explore one of the most exciting aspects of working with PyTorch: building neural networks! PyTorch provides the `nn` module, a comprehensive suite of tools to create and train neural networks. Let's start by understanding the basic components:"
      ]
    },
    {
      "cell_type": "markdown",
      "metadata": {
        "id": "qcda5wL1W5MK"
      },
      "source": [
        "### Layers\n",
        "\n",
        "Neural networks are composed of layers. Each layer contains neurons that process some input and produce an output. PyTorch's `nn` module provides pre-defined layers that can be easily plugged into models. We'll discuss a few common ones:"
      ]
    },
    {
      "cell_type": "markdown",
      "metadata": {
        "id": "M4bqktwiYhz5"
      },
      "source": [
        "#### Linear (Fully Connected) Layers\n",
        "\n",
        "The Linear layer, often termed as \"fully connected layer\", connects every neuron from the previous layer to every neuron in the current layer. It is the most fundamental layer in neural networks and is utilized in a wide variety of architectures, from simple feed-forward networks to more complex models.\n"
      ]
    },
    {
      "cell_type": "code",
      "execution_count": 10,
      "metadata": {
        "colab": {
          "base_uri": "https://localhost:8080/"
        },
        "id": "sZYOst7XWwhm",
        "outputId": "636ec908-e55f-4b49-e84e-0d1d837770f5"
      },
      "outputs": [
        {
          "output_type": "stream",
          "name": "stdout",
          "text": [
            "Linear(in_features=5, out_features=3, bias=True)\n"
          ]
        }
      ],
      "source": [
        "import torch.nn as nn\n",
        "\n",
        "# A linear layer with 5 input features and 3 output features\n",
        "linear_layer = nn.Linear(in_features=5, out_features=3)\n",
        "print(linear_layer)"
      ]
    },
    {
      "cell_type": "markdown",
      "metadata": {
        "id": "C2m9liTsY1vH"
      },
      "source": [
        "#### Convolutional Layers\n",
        "\n",
        "Convolutional layers are the cornerstone of Convolutional Neural Networks (CNNs). They are specially designed to recognize patterns in images, such as edges, corners, textures, etc. Unlike fully connected layers, they look for patterns in local regions of the input, making them more efficient for image data.\n"
      ]
    },
    {
      "cell_type": "code",
      "execution_count": 11,
      "metadata": {
        "colab": {
          "base_uri": "https://localhost:8080/"
        },
        "id": "WfviECsDYpg2",
        "outputId": "46331d75-aad8-43cd-81e8-a4c2059c5645"
      },
      "outputs": [
        {
          "output_type": "stream",
          "name": "stdout",
          "text": [
            "Conv2d(1, 3, kernel_size=(3, 3), stride=(1, 1))\n"
          ]
        }
      ],
      "source": [
        "# A 2D convolutional layer with 1 input channel, 3 output channels, and a kernel size of 3\n",
        "conv_layer = nn.Conv2d(in_channels=1, out_channels=3, kernel_size=3)\n",
        "print(conv_layer)"
      ]
    },
    {
      "cell_type": "markdown",
      "metadata": {
        "id": "KdrcmLpMY9xZ"
      },
      "source": [
        "#### Pooling Layers\n",
        "\n",
        "Pooling layers are often used after convolutional layers in CNNs. They reduce the spatial dimensions (width, height) of the input, making the network less computationally intensive and more invariant to small translations in the image. The most common type of pooling is MaxPooling, which takes the maximum value in a local region of the input.\n"
      ]
    },
    {
      "cell_type": "code",
      "execution_count": 12,
      "metadata": {
        "colab": {
          "base_uri": "https://localhost:8080/"
        },
        "id": "EM01rurfY5kH",
        "outputId": "723caedd-7d1d-4c9a-a032-592e2a216d26"
      },
      "outputs": [
        {
          "output_type": "stream",
          "name": "stdout",
          "text": [
            "MaxPool2d(kernel_size=2, stride=2, padding=0, dilation=1, ceil_mode=False)\n"
          ]
        }
      ],
      "source": [
        "# A 2D max pooling layer with a kernel size of 2 and stride of 2\n",
        "pooling_layer = nn.MaxPool2d(kernel_size=2, stride=2)\n",
        "print(pooling_layer)"
      ]
    },
    {
      "cell_type": "markdown",
      "metadata": {
        "id": "-y9kUSOmY8QR"
      },
      "source": [
        "#### Linear Layer Example\n",
        "\n",
        "Now that we've introduced a few different types of layers, let's delve into a more in-depth example using the Linear layer. We'll demonstrate how data passes through this layer and how it transforms the input. Remember, a Linear layer essentially learns a linear transformation of the data. It multiplies the input with learned weights and adds a bias term.\n"
      ]
    },
    {
      "cell_type": "code",
      "execution_count": 13,
      "metadata": {
        "colab": {
          "base_uri": "https://localhost:8080/"
        },
        "id": "f4ypRAWnZnCa",
        "outputId": "4f15013c-8d38-42aa-987a-b6b016efe645"
      },
      "outputs": [
        {
          "output_type": "stream",
          "name": "stdout",
          "text": [
            "Initial weights: Parameter containing:\n",
            "tensor([[0.2805, 0.4429]], requires_grad=True)\n",
            "Initial bias: Parameter containing:\n",
            "tensor([0.3375], requires_grad=True)\n"
          ]
        }
      ],
      "source": [
        "# Define a linear layer\n",
        "# Input features = 2 (for simplicity, consider this as 2D data points: x and y coordinates)\n",
        "# Output features = 1 (a transformed single value for each 2D data point)\n",
        "linear = nn.Linear(2, 1)\n",
        "\n",
        "# Let's print out the initial weights and bias - set initially to random values\n",
        "print(\"Initial weights:\", linear.weight)\n",
        "print(\"Initial bias:\", linear.bias)"
      ]
    },
    {
      "cell_type": "markdown",
      "metadata": {
        "id": "8ETJ4ZbQaolf"
      },
      "source": [
        "The Linear layer has initialized weights and biases. These values will be learned and adjusted during the training process to minimize the loss. For now, let's see how our layer transforms a sample input using these initial values:"
      ]
    },
    {
      "cell_type": "code",
      "execution_count": 14,
      "metadata": {
        "colab": {
          "base_uri": "https://localhost:8080/"
        },
        "id": "iuQTcA7raJsS",
        "outputId": "9202c194-f41d-443e-e12d-2931b0e95637"
      },
      "outputs": [
        {
          "output_type": "stream",
          "name": "stdout",
          "text": [
            "Transformed Data: tensor([[1.5038],\n",
            "        [2.9505]], grad_fn=<AddmmBackward0>)\n"
          ]
        }
      ],
      "source": [
        "# Sample input: Two 2D points\n",
        "input_data = torch.tensor([[1.0, 2.0], [3.0, 4.0]])\n",
        "\n",
        "# Pass the data through the linear layer\n",
        "output_data = linear(input_data)\n",
        "\n",
        "print(\"Transformed Data:\", output_data)"
      ]
    },
    {
      "cell_type": "markdown",
      "metadata": {
        "id": "yKjN7QcPbNBj"
      },
      "source": [
        "As you can see, our 2D data points are transformed into 1D values. The transformation is a result of the matrix multiplication between the input data and the layer's weights, followed by the addition of the bias term.\n",
        "\n",
        "This example provides a basic understanding of how data flows through a Linear layer. When building neural networks, these layers are stacked together, often with activation functions in between, to learn more complex and nuanced transformations from the input to the output. For more information: https://ecoagi.ai/topics/Python/nn-linear"
      ]
    },
    {
      "cell_type": "markdown",
      "metadata": {
        "id": "TYkY-xJh7s6S"
      },
      "source": [
        "### Activation Functions\n",
        "\n",
        "After processing input through a layer, it's common to pass the output through an activation function. These functions introduce non-linearity into the model, enabling it to learn complex patterns. Popular activation functions include ReLU, Sigmoid, and Tanh. Let's focus on ReLU. Here's the ReLU activation function:\n",
        "\n",
        "- $ \\text{ReLU}(x) = \\max(0, x)$\n",
        "\n"
      ]
    },
    {
      "cell_type": "code",
      "execution_count": 15,
      "metadata": {
        "colab": {
          "base_uri": "https://localhost:8080/"
        },
        "id": "tENhZzVPbEkg",
        "outputId": "16624492-6990-40e3-da59-7de277444ed7"
      },
      "outputs": [
        {
          "output_type": "stream",
          "name": "stdout",
          "text": [
            "tensor([0., 0., 0., 1., 2.])\n"
          ]
        }
      ],
      "source": [
        "# Define a ReLU activation function\n",
        "relu = nn.ReLU()\n",
        "\n",
        "# Sample tensor\n",
        "x = torch.tensor([-2.0, -1.0, 0.0, 1.0, 2.0])\n",
        "\n",
        "# Pass tensor through ReLU - passing through every element (say x) in tensor: if\n",
        "# less than 0, return 0, else return x\n",
        "activated_x = relu(x)\n",
        "print(activated_x)"
      ]
    },
    {
      "cell_type": "markdown",
      "metadata": {
        "id": "gkJfZKnPGFUp"
      },
      "source": [
        "### Building a Simple Feed-forward Neural Network\n",
        "\n",
        "With knowledge of layers and activation functions, we can now assemble them into a neural network. Here, we'll construct a basic feed-forward neural network, also known as a multi-layer perceptron (MLP). An MLP is a type of neural network where information flows in one direction: from the input layer, through hidden layers, to the output layer. There are no loops or cycles in the network. For more information about MLPs: https://towardsdatascience.com/multilayer-perceptron-explained-with-a-real-life-example-and-python-code-sentiment-analysis-cb408ee93141 (code written in sklearn, but same idea conceptually). Let's build a simple MLP with one hidden layer:"
      ]
    },
    {
      "cell_type": "code",
      "execution_count": 16,
      "metadata": {
        "colab": {
          "base_uri": "https://localhost:8080/"
        },
        "id": "aNstfGV-7yNl",
        "outputId": "522882cd-d2d1-4624-ad61-24aff72bc7da"
      },
      "outputs": [
        {
          "output_type": "stream",
          "name": "stdout",
          "text": [
            "MLP(\n",
            "  (fc1): Linear(in_features=2, out_features=3, bias=True)\n",
            "  (fc2): Linear(in_features=3, out_features=1, bias=True)\n",
            ")\n"
          ]
        }
      ],
      "source": [
        "class MLP(nn.Module):\n",
        "    def __init__(self):\n",
        "        super(MLP, self).__init__()\n",
        "        self.fc1 = nn.Linear(2, 3)  # Input layer with 2 features, outputs 3 values\n",
        "        self.fc2 = nn.Linear(3, 1)  # Hidden layer with 3 input values, outputs 1 value\n",
        "\n",
        "    def forward(self, x):\n",
        "        x = nn.ReLU()(self.fc1(x))\n",
        "        return self.fc2(x)\n",
        "\n",
        "# Instantiating the network\n",
        "mlp = MLP()\n",
        "print(mlp)"
      ]
    },
    {
      "cell_type": "markdown",
      "metadata": {
        "id": "ip-3oak6ZH_2"
      },
      "source": [
        "Now that our network is defined, we need a loss function to measure how well our network is performing. Since our task is a regression (predicting a continuous value), we'll use Mean Squared Error (MSE) as our loss function. Additionally, we'll define an optimizer to adjust the weights of our network based on this loss."
      ]
    },
    {
      "cell_type": "code",
      "execution_count": 17,
      "metadata": {
        "id": "lmxvcmXHGRz8"
      },
      "outputs": [],
      "source": [
        "import torch.optim as optim\n",
        "# Defining a mean squared error loss\n",
        "mse_loss = nn.MSELoss()\n",
        "\n",
        "# Defining an SGD optimizer\n",
        "optimizer = optim.SGD(mlp.parameters(), lr=0.01)"
      ]
    },
    {
      "cell_type": "markdown",
      "metadata": {
        "id": "VAWeVUyUZkdF"
      },
      "source": [
        "With our network, loss function, and optimizer in place, let's create some example data to demonstrate how this MLP works. We are creating a simple example of how neural networks can approximate functions (in this case a very trivial example of summing two numbers together!)."
      ]
    },
    {
      "cell_type": "code",
      "execution_count": 18,
      "metadata": {
        "colab": {
          "base_uri": "https://localhost:8080/"
        },
        "id": "cXTwDwjwZNFU",
        "outputId": "5cc6ef4e-a0c4-43ce-a1b7-e7106d21ce32"
      },
      "outputs": [
        {
          "output_type": "stream",
          "name": "stdout",
          "text": [
            "Inputs:\n",
            " tensor([[0.2043, 0.9169],\n",
            "        [0.8721, 0.6896],\n",
            "        [0.8142, 0.5720],\n",
            "        [0.0549, 0.9922],\n",
            "        [0.3759, 0.5397],\n",
            "        [0.1375, 0.1726],\n",
            "        [0.2875, 0.4938],\n",
            "        [0.0281, 0.8853],\n",
            "        [0.2009, 0.1033],\n",
            "        [0.2137, 0.3116]])\n",
            "\n",
            "Targets:\n",
            " tensor([[1.1212],\n",
            "        [1.5617],\n",
            "        [1.3862],\n",
            "        [1.0471],\n",
            "        [0.9156],\n",
            "        [0.3100],\n",
            "        [0.7813],\n",
            "        [0.9134],\n",
            "        [0.3042],\n",
            "        [0.5253]])\n"
          ]
        }
      ],
      "source": [
        "# Generate some synthetic data\n",
        "# Input: 10 samples with 2 features each\n",
        "inputs = torch.rand(10, 2)\n",
        "\n",
        "# Target: A simple function of the inputs (sum of the two features)\n",
        "# This will be our ground truth for training\n",
        "targets = inputs.sum(dim=1, keepdim=True)\n",
        "\n",
        "print(\"Inputs:\\n\", inputs)\n",
        "print(\"\\nTargets:\\n\", targets)"
      ]
    },
    {
      "cell_type": "markdown",
      "metadata": {
        "id": "8pJ8EMzGZ_6f"
      },
      "source": [
        "Now, let's train our MLP on this data for a few epochs. An epoch is one complete forward and backward pass of all training samples. Remember:\n",
        "\n",
        "- A **forward pass** is when you input your data into the model to get the predictions. This involves passing the input data through each layer of the neural network and applying the associated weights and biases to produce the final output (predictions).\n",
        "\n",
        "- A **backward pass** (often referred to as backpropagation) is the process by which the neural network adjusts its weights and biases in response to the error in its predictions. This involves calculating the gradient of the loss function with respect to the model's weights and biases and updating them in a direction that reduces the error. The magnitude of this update is determined by the learning rate.\n",
        "\n",
        "During each epoch, the model will make predictions (forward pass), calculate the loss (difference between predictions and actual values), and then update its weights and biases to reduce the loss (backward pass)."
      ]
    },
    {
      "cell_type": "code",
      "execution_count": 19,
      "metadata": {
        "colab": {
          "base_uri": "https://localhost:8080/"
        },
        "id": "o8rdmAsuZp4C",
        "outputId": "d3821067-21db-4936-b74b-0809325ab0b0"
      },
      "outputs": [
        {
          "output_type": "stream",
          "name": "stdout",
          "text": [
            "Epoch [20/100], Loss: 0.1386\n",
            "Epoch [40/100], Loss: 0.0340\n",
            "Epoch [60/100], Loss: 0.0270\n",
            "Epoch [80/100], Loss: 0.0252\n",
            "Epoch [100/100], Loss: 0.0237\n"
          ]
        }
      ],
      "source": [
        "# Training loop\n",
        "num_epochs = 100\n",
        "for epoch in range(num_epochs):\n",
        "    # Forward pass\n",
        "    outputs = mlp(inputs)\n",
        "    loss = mse_loss(outputs, targets)\n",
        "\n",
        "    # Backward pass and optimization\n",
        "    optimizer.zero_grad()\n",
        "    loss.backward()\n",
        "    optimizer.step()\n",
        "\n",
        "    # Print loss every 20 epochs\n",
        "    if (epoch+1) % 20 == 0:\n",
        "        print(f'Epoch [{epoch+1}/{num_epochs}], Loss: {loss.item():.4f}')"
      ]
    },
    {
      "cell_type": "markdown",
      "metadata": {
        "id": "AaTyeLUJaILe"
      },
      "source": [
        "After training, our network has adjusted its weights to minimize the loss. You can now pass new data through this trained MLP to make predictions. This hands-on example provides a glimpse into the process of defining, training, and using a neural network in PyTorch."
      ]
    },
    {
      "cell_type": "markdown",
      "metadata": {
        "id": "SIdqxNYLf2Ds"
      },
      "source": [
        "### Testing the Trained MLP\n",
        "\n",
        "After training our model, it's crucial to test its performance on new, unseen data. This allows us to evaluate how well our model generalizes beyond the training data. Let's generate some test data and see how our MLP predicts the target values."
      ]
    },
    {
      "cell_type": "code",
      "execution_count": 20,
      "metadata": {
        "colab": {
          "base_uri": "https://localhost:8080/"
        },
        "id": "pvlEz8AyaDCp",
        "outputId": "033ac625-5c0c-4645-e8c0-eb8ac2cf0355"
      },
      "outputs": [
        {
          "output_type": "stream",
          "name": "stdout",
          "text": [
            "Test Inputs:\n",
            " tensor([[0.9294, 0.7881],\n",
            "        [0.6182, 0.4253],\n",
            "        [0.6256, 0.7128],\n",
            "        [0.1772, 0.3841],\n",
            "        [0.8534, 0.0169]])\n",
            "\n",
            "True Test Targets:\n",
            " tensor([[1.7175],\n",
            "        [1.0435],\n",
            "        [1.3384],\n",
            "        [0.5613],\n",
            "        [0.8703]])\n",
            "\n",
            "Predicted Test Targets:\n",
            " tensor([[1.3689],\n",
            "        [0.9260],\n",
            "        [1.1703],\n",
            "        [0.7255],\n",
            "        [0.5708]], grad_fn=<AddmmBackward0>)\n"
          ]
        }
      ],
      "source": [
        "# Generate synthetic test data\n",
        "test_inputs = torch.rand(5, 2)\n",
        "test_targets = test_inputs.sum(dim=1, keepdim=True)\n",
        "\n",
        "# Predict using the trained model\n",
        "test_outputs = mlp(test_inputs)\n",
        "\n",
        "print(\"Test Inputs:\\n\", test_inputs)\n",
        "print(\"\\nTrue Test Targets:\\n\", test_targets)\n",
        "print(\"\\nPredicted Test Targets:\\n\", test_outputs)"
      ]
    },
    {
      "cell_type": "markdown",
      "metadata": {
        "id": "uhwAh5lSgHRq"
      },
      "source": [
        "By comparing the true test targets with the predicted values, we can now get a precise sense of how close our model's predictions are to the actual values. Remember, the closer the predictions are to the true targets, the better our model is performing on the test data."
      ]
    },
    {
      "cell_type": "markdown",
      "metadata": {
        "id": "GZXF4vSyiJFG"
      },
      "source": [
        "### Datasets\n",
        "\n",
        "In PyTorch, a dataset is represented by a class that extends the `Dataset` class. This class requires two essential methods to be implemented:\n",
        "- `__len__()`: Returns the number of samples in the dataset.\n",
        "- `__getitem__()`: Allows indexing to fetch a specific data sample.\n",
        "\n",
        "Let's explore a simple custom dataset:"
      ]
    },
    {
      "cell_type": "code",
      "execution_count": 21,
      "metadata": {
        "colab": {
          "base_uri": "https://localhost:8080/"
        },
        "id": "2_b3o38ziJ8k",
        "outputId": "84166c21-0041-4387-ba2d-6705ba71a4af"
      },
      "outputs": [
        {
          "output_type": "stream",
          "name": "stdout",
          "text": [
            "(tensor([1.1058, 0.2856]), tensor(1))\n"
          ]
        }
      ],
      "source": [
        "from torch.utils.data import Dataset\n",
        "\n",
        "class CustomDataset(Dataset):\n",
        "    def __init__(self, data, labels):\n",
        "        self.data = data\n",
        "        self.labels = labels\n",
        "\n",
        "    def __len__(self):\n",
        "        return len(self.data)\n",
        "\n",
        "    def __getitem__(self, idx):\n",
        "        return self.data[idx], self.labels[idx]\n",
        "\n",
        "# Example usage\n",
        "data_samples = torch.randn(10, 2)  # 10 samples with 2 features each\n",
        "labels = torch.randint(0, 2, (10,))  # Binary labels for each sample\n",
        "\n",
        "dataset = CustomDataset(data_samples, labels)\n",
        "\n",
        "# Fetch the fourth sample - (tensor with 2 features, binary classification tensor)\n",
        "print(dataset[3])"
      ]
    },
    {
      "cell_type": "markdown",
      "metadata": {
        "id": "5xgs7hpJi17z"
      },
      "source": [
        "### DataLoaders\n",
        "\n",
        "While `Dataset` provides a representation of data, `DataLoader` wraps a dataset and provides utilities to create batches of data, shuffle the data, and load data in parallel. It's an essential tool for training models, as it feeds data in manageable chunks, allowing for efficient memory usage and faster training. For more information about `DataLoader` and the different types of datasets included in the PyTorch library: https://blog.paperspace.com/dataloaders-abstractions-pytorch/"
      ]
    },
    {
      "cell_type": "code",
      "execution_count": 22,
      "metadata": {
        "colab": {
          "base_uri": "https://localhost:8080/"
        },
        "id": "DIxijcFDiTlg",
        "outputId": "a1afad2a-f01b-4ef0-8606-c8a1d24412cb"
      },
      "outputs": [
        {
          "output_type": "stream",
          "name": "stdout",
          "text": [
            "Batch data: tensor([[-1.9449, -0.2543],\n",
            "        [-0.0483,  0.7800],\n",
            "        [-0.3012, -0.4856],\n",
            "        [ 0.5865,  0.8241]])\n",
            "Batch labels: tensor([0, 0, 0, 1])\n"
          ]
        }
      ],
      "source": [
        "from torch.utils.data import DataLoader\n",
        "\n",
        "# Create a DataLoader\n",
        "dataloader = DataLoader(dataset, batch_size=4, shuffle=True)\n",
        "\n",
        "# Iterate over the dataloader to fetch batches\n",
        "for batch_data, batch_labels in dataloader:\n",
        "    print(\"Batch data:\", batch_data)\n",
        "    print(\"Batch labels:\", batch_labels)\n",
        "    break  # Just print the first batch for demonstration"
      ]
    },
    {
      "cell_type": "markdown",
      "metadata": {
        "id": "h38XIUUIpZkf"
      },
      "source": [
        "## Building Advanced Neural Networks with PyTorch\n",
        "\n",
        "Now that we've explored some of the basics of building basic neural networks in PyTorch, let's journey into making more advanced neural networks!"
      ]
    },
    {
      "cell_type": "markdown",
      "metadata": {
        "id": "0Un1NmcTp7Re"
      },
      "source": [
        "### Convolutional Neural Networks (CNNs)\n",
        "\n",
        "Convolutional Neural Networks (CNNs) have revolutionized the field of computer vision. They're designed to automatically and adaptively learn spatial hierarchies of features from images. CNNs are characterized by their use of convolutional layers, which apply convolutional filters to the input data. For a more in-depth look at CNNs: https://colah.github.io/posts/2014-07-Conv-Nets-Modular/"
      ]
    },
    {
      "cell_type": "code",
      "execution_count": 23,
      "metadata": {
        "colab": {
          "base_uri": "https://localhost:8080/"
        },
        "id": "BGKq6gsKjCwO",
        "outputId": "e64ea11c-1824-4f09-acb8-8aca03a00c62"
      },
      "outputs": [
        {
          "output_type": "stream",
          "name": "stdout",
          "text": [
            "SimpleCNN(\n",
            "  (conv1): Conv2d(1, 16, kernel_size=(3, 3), stride=(1, 1))\n",
            "  (pool): MaxPool2d(kernel_size=2, stride=2, padding=0, dilation=1, ceil_mode=False)\n",
            "  (fc1): Linear(in_features=2704, out_features=10, bias=True)\n",
            ")\n"
          ]
        }
      ],
      "source": [
        "# A simple CNN architecture\n",
        "class SimpleCNN(nn.Module):\n",
        "    def __init__(self):\n",
        "        super(SimpleCNN, self).__init__()\n",
        "        self.conv1 = nn.Conv2d(in_channels=1, out_channels=16, kernel_size=3)  # First convolutional layer\n",
        "        self.pool = nn.MaxPool2d(kernel_size=2, stride=2)  # Pooling layer\n",
        "        self.fc1 = nn.Linear(16 * 13 * 13, 10)  # Fully connected layer (for a 28x28 input image)\n",
        "\n",
        "    def forward(self, x):\n",
        "        x = self.pool(nn.ReLU()(self.conv1(x)))\n",
        "        x = x.view(-1, 16 * 13 * 13)\n",
        "        x = nn.ReLU()(self.fc1(x))\n",
        "        return x\n",
        "\n",
        "cnn = SimpleCNN()\n",
        "print(cnn)"
      ]
    },
    {
      "cell_type": "markdown",
      "metadata": {
        "id": "i2oY_sukD4uK"
      },
      "source": [
        "### Recurrent Neural Networks (RNNs)\n",
        "\n",
        "Recurrent Neural Networks (RNNs) are designed to recognize patterns in sequences of data, such as text, genomes, and time series data. They maintain a 'memory' of previous inputs in their internal state, allowing them to produce output influenced by the entire observed sequence. For more (a lot more) information, check out this blog post by Andrej Karpathy: http://karpathy.github.io/2015/05/21/rnn-effectiveness/"
      ]
    },
    {
      "cell_type": "code",
      "execution_count": 24,
      "metadata": {
        "colab": {
          "base_uri": "https://localhost:8080/"
        },
        "id": "flFsmVigDmBK",
        "outputId": "17a05f0c-00d7-4965-c8b5-b7ae6c787310"
      },
      "outputs": [
        {
          "output_type": "stream",
          "name": "stdout",
          "text": [
            "SimpleRNN(\n",
            "  (rnn): RNN(10, 20, batch_first=True)\n",
            "  (fc): Linear(in_features=20, out_features=2, bias=True)\n",
            ")\n"
          ]
        }
      ],
      "source": [
        "# A simple RNN architecture\n",
        "class SimpleRNN(nn.Module):\n",
        "    def __init__(self, input_size, hidden_size, output_size):\n",
        "        super(SimpleRNN, self).__init__()\n",
        "        self.rnn = nn.RNN(input_size, hidden_size, batch_first=True)\n",
        "        self.fc = nn.Linear(hidden_size, output_size)\n",
        "\n",
        "    def forward(self, x):\n",
        "        out, _ = self.rnn(x)\n",
        "        out = self.fc(out[:, -1, :])\n",
        "        return out\n",
        "\n",
        "rnn = SimpleRNN(input_size=10, hidden_size=20, output_size=2)\n",
        "print(rnn)"
      ]
    },
    {
      "cell_type": "markdown",
      "metadata": {
        "id": "wC1fAJ7gFGa6"
      },
      "source": [
        "### CNN Example: Cat vs. Dog Image Classification using CIFAR-10\n",
        "\n",
        "While CIFAR-10 contains 10 classes, for our binary classification task, we'll focus on just two: cats and dogs. Let's first load and preprocess the CIFAR-10 dataset, filtering out only the images of cats and dogs."
      ]
    },
    {
      "cell_type": "code",
      "execution_count": 25,
      "metadata": {
        "colab": {
          "base_uri": "https://localhost:8080/"
        },
        "id": "IA1w2EAwD8Jn",
        "outputId": "fa5acc6d-7622-4486-8802-dda76f7ae91d"
      },
      "outputs": [
        {
          "output_type": "stream",
          "name": "stdout",
          "text": [
            "Downloading https://www.cs.toronto.edu/~kriz/cifar-10-python.tar.gz to ./data/cifar-10-python.tar.gz\n"
          ]
        },
        {
          "output_type": "stream",
          "name": "stderr",
          "text": [
            "100%|██████████| 170498071/170498071 [00:03<00:00, 42635513.85it/s]\n"
          ]
        },
        {
          "output_type": "stream",
          "name": "stdout",
          "text": [
            "Extracting ./data/cifar-10-python.tar.gz to ./data\n",
            "Files already downloaded and verified\n"
          ]
        }
      ],
      "source": [
        "from torchvision import transforms, datasets\n",
        "\n",
        "# Defining transformations for the dataset\n",
        "# 1. Convert image data to a PyTorch tensor\n",
        "# 2. Normalize the image data to have values between -1 and 1\n",
        "transform = transforms.Compose([\n",
        "    transforms.ToTensor(),\n",
        "    transforms.Normalize((0.5, 0.5, 0.5), (0.5, 0.5, 0.5))\n",
        "])\n",
        "\n",
        "# Downloading the CIFAR-10 dataset\n",
        "# - root: Specifies the directory where the dataset will be stored\n",
        "# - train: Specifies whether to download the training set or the test set\n",
        "# - download: If True, downloads the dataset from the internet\n",
        "# - transform: Specifies the transformations to be applied on the data\n",
        "\n",
        "train_dataset = datasets.CIFAR10(root='./data', train=True, download=True, transform=transform)\n",
        "test_dataset = datasets.CIFAR10(root='./data', train=False, download=True, transform=transform)\n",
        "\n",
        "# Filter the dataset to retain only images of cats and dogs\n",
        "# In CIFAR-10, cats are labeled as 3 and dogs as 5\n",
        "\n",
        "# For the training dataset\n",
        "# Filter images\n",
        "train_dataset.data = train_dataset.data[(train_dataset.targets == 3) | (train_dataset.targets == 5)]\n",
        "# Adjust labels: Set dogs (label 5) as 1 and cats (label 3) as 0\n",
        "train_dataset.targets = [1 if label == 5 else 0 for label in train_dataset.targets if label == 3 or label == 5]\n",
        "\n",
        "# For the test dataset\n",
        "# Filter images\n",
        "test_dataset.data = test_dataset.data[(test_dataset.targets == 3) | (test_dataset.targets == 5)]\n",
        "# Adjust labels: Set dogs (label 5) as 1 and cats (label 3) as 0\n",
        "test_dataset.targets = [1 if label == 5 else 0 for label in test_dataset.targets if label == 3 or label == 5]"
      ]
    },
    {
      "cell_type": "markdown",
      "metadata": {
        "id": "9kLfgHv1FWQT"
      },
      "source": [
        "With our data loaded and preprocessed, we can now define a simple CNN model suitable for the CIFAR-10 dataset's image dimensions."
      ]
    },
    {
      "cell_type": "markdown",
      "metadata": {
        "id": "sZ_M8BFBGZ4e"
      },
      "source": [
        "### Building the CNN Model\n",
        "\n",
        "For our binary classification task (Cat vs. Dog), we'll construct a simple CNN model. This model will have a couple of convolutional layers followed by pooling layers, and finally some fully connected layers for classification."
      ]
    },
    {
      "cell_type": "code",
      "execution_count": 26,
      "metadata": {
        "colab": {
          "base_uri": "https://localhost:8080/"
        },
        "id": "Pjvg07jIFYiC",
        "outputId": "698d36e2-b79e-434a-84b1-e8cd76d47908"
      },
      "outputs": [
        {
          "output_type": "stream",
          "name": "stdout",
          "text": [
            "CatDogCNN(\n",
            "  (conv1): Conv2d(3, 16, kernel_size=(3, 3), stride=(1, 1), padding=(1, 1))\n",
            "  (conv2): Conv2d(16, 32, kernel_size=(3, 3), stride=(1, 1), padding=(1, 1))\n",
            "  (pool): MaxPool2d(kernel_size=2, stride=2, padding=0, dilation=1, ceil_mode=False)\n",
            "  (fc1): Linear(in_features=2048, out_features=256, bias=True)\n",
            "  (fc2): Linear(in_features=256, out_features=2, bias=True)\n",
            ")\n"
          ]
        }
      ],
      "source": [
        "import torch.nn as nn\n",
        "import torch.nn.functional as F\n",
        "\n",
        "class CatDogCNN(nn.Module):\n",
        "    def __init__(self):\n",
        "        super(CatDogCNN, self).__init__()\n",
        "        # First convolutional layer (3 input channels, 16 output channels, 3x3 kernel)\n",
        "        self.conv1 = nn.Conv2d(3, 16, 3, padding=1)\n",
        "        # Second convolutional layer (16 input channels, 32 output channels, 3x3 kernel)\n",
        "        self.conv2 = nn.Conv2d(16, 32, 3, padding=1)\n",
        "        # Pooling layer to reduce spatial dimensions by half\n",
        "        self.pool = nn.MaxPool2d(2, 2)\n",
        "        # Fully connected layer (32 channels * 8 * 8 image size to 256 nodes)\n",
        "        self.fc1 = nn.Linear(32 * 8 * 8, 256)\n",
        "        # Final output layer (from 256 nodes to 2 nodes - Cat & Dog)\n",
        "        self.fc2 = nn.Linear(256, 2)\n",
        "\n",
        "    def forward(self, x):\n",
        "        x = self.pool(F.relu(self.conv1(x)))\n",
        "        x = self.pool(F.relu(self.conv2(x)))\n",
        "        x = x.view(-1, 32 * 8 * 8)\n",
        "        x = F.relu(self.fc1(x))\n",
        "        x = self.fc2(x)\n",
        "        return x\n",
        "\n",
        "# Instantiate the CNN model\n",
        "model = CatDogCNN()\n",
        "print(model)"
      ]
    },
    {
      "cell_type": "markdown",
      "metadata": {
        "id": "qM3pOUA_GuIb"
      },
      "source": [
        "### Training the CNN Model\n",
        "\n",
        "With our model defined, it's time to train it on our Cat vs. Dog dataset. Training involves:\n",
        "1. Passing input data through the model (forward pass).\n",
        "2. Calculating the loss using the predictions and actual labels.\n",
        "3. Backpropagating the error and adjusting the model weights."
      ]
    },
    {
      "cell_type": "code",
      "execution_count": 27,
      "metadata": {
        "colab": {
          "base_uri": "https://localhost:8080/"
        },
        "id": "9gMmmuNrGleq",
        "outputId": "19ea9d1c-05e8-4076-df3a-e78ee9e3d419"
      },
      "outputs": [
        {
          "output_type": "stream",
          "name": "stdout",
          "text": [
            "Files already downloaded and verified\n",
            "Files already downloaded and verified\n",
            "Length of filtered training dataset: 10000\n",
            "Length of filtered test dataset: 2000\n",
            "Epoch 1/10, Loss: 0.6245547389260496\n",
            "Epoch 2/10, Loss: 0.5472287994604141\n",
            "Epoch 3/10, Loss: 0.5008013965413213\n",
            "Epoch 4/10, Loss: 0.4596219630287097\n",
            "Epoch 5/10, Loss: 0.4108318118527294\n",
            "Epoch 6/10, Loss: 0.352888639218891\n",
            "Epoch 7/10, Loss: 0.2912300823690792\n",
            "Epoch 8/10, Loss: 0.226358330644929\n",
            "Epoch 9/10, Loss: 0.15721397754697564\n",
            "Epoch 10/10, Loss: 0.09762207758479034\n",
            "Finished Training!\n"
          ]
        }
      ],
      "source": [
        "# Filter the dataset for only cats (class label 3) and dogs (class label 5)\n",
        "def filter_cats_dogs(data, targets):\n",
        "    filtered_data = [data[i] for i, label in enumerate(targets) if label in [3, 5]]\n",
        "    # Adjust labels: Set dogs (label 5) as 1 and cats (label 3) as 0\n",
        "    filtered_targets = [1 if label == 5 else 0 for label in targets if label in [3, 5]]\n",
        "    return filtered_data, filtered_targets\n",
        "\n",
        "# Redownload and initialize the CIFAR-10 dataset\n",
        "original_train_dataset = datasets.CIFAR10(root='./data', train=True, download=True, transform=transform)\n",
        "original_test_dataset = datasets.CIFAR10(root='./data', train=False, download=True, transform=transform)\n",
        "\n",
        "# Use the filter_cats_dogs function to filter the dataset\n",
        "train_dataset.data, train_dataset.targets = filter_cats_dogs(original_train_dataset.data, original_train_dataset.targets)\n",
        "test_dataset.data, test_dataset.targets = filter_cats_dogs(original_test_dataset.data, original_test_dataset.targets)\n",
        "\n",
        "# Check the lengths after filtering\n",
        "print(\"Length of filtered training dataset:\", len(train_dataset.data))\n",
        "print(\"Length of filtered test dataset:\", len(test_dataset.data))\n",
        "\n",
        "# Define DataLoader for the training dataset\n",
        "train_loader = DataLoader(train_dataset, batch_size=32, shuffle=True)\n",
        "\n",
        "# Define the loss function and optimizer\n",
        "criterion = nn.CrossEntropyLoss()  # Since it's a classification problem with 2 classes\n",
        "optimizer = optim.Adam(model.parameters(), lr=0.001)  # Using the Adam optimizer with a learning rate of 0.001\n",
        "\n",
        "# Training loop\n",
        "num_epochs = 10\n",
        "for epoch in range(num_epochs):\n",
        "    running_loss = 0.0\n",
        "    for images, labels in train_loader:\n",
        "        # Zero the parameter gradients\n",
        "        optimizer.zero_grad()\n",
        "        # Forward pass\n",
        "        outputs = model(images)\n",
        "        # Calculate loss\n",
        "        loss = criterion(outputs, labels)\n",
        "        # Backward pass and optimize\n",
        "        loss.backward()\n",
        "        optimizer.step()\n",
        "\n",
        "        running_loss += loss.item()\n",
        "\n",
        "    print(f\"Epoch {epoch+1}/{num_epochs}, Loss: {running_loss/len(train_loader)}\")\n",
        "\n",
        "print(\"Finished Training!\")"
      ]
    },
    {
      "cell_type": "markdown",
      "metadata": {
        "id": "wHjca33vIwHB"
      },
      "source": [
        "### Evaluating the CNN Model\n",
        "\n",
        "After training, it's essential to evaluate our model's performance on unseen data. We'll assess our model using the test dataset and compute the accuracy of the predictions."
      ]
    },
    {
      "cell_type": "code",
      "execution_count": 28,
      "metadata": {
        "colab": {
          "base_uri": "https://localhost:8080/"
        },
        "id": "GUYacq44G7Jq",
        "outputId": "a636719c-c013-4ce0-bfa2-db4cd9796cc2"
      },
      "outputs": [
        {
          "output_type": "stream",
          "name": "stdout",
          "text": [
            "Accuracy on test data: 75.35%\n"
          ]
        }
      ],
      "source": [
        "correct = 0\n",
        "total = 0\n",
        "with torch.no_grad():\n",
        "    for images, labels in test_dataset:\n",
        "        outputs = model(images.unsqueeze(0))  # Add batch dimension\n",
        "        _, predicted = torch.max(outputs.data, 1)\n",
        "        total += 1  # Since labels is an integer, just increment total by 1\n",
        "        correct += (predicted.item() == labels)\n",
        "\n",
        "print(f\"Accuracy on test data: {100 * (correct / total)}%\")"
      ]
    },
    {
      "cell_type": "markdown",
      "metadata": {
        "id": "yiV4i-4oh2sp"
      },
      "source": [
        "Try it for yourself!"
      ]
    },
    {
      "cell_type": "code",
      "execution_count": 29,
      "metadata": {
        "colab": {
          "base_uri": "https://localhost:8080/"
        },
        "id": "crTGsdVkeSzt",
        "outputId": "202088ab-c744-4179-fd00-7c20eb184e7f"
      },
      "outputs": [
        {
          "output_type": "stream",
          "name": "stdout",
          "text": [
            "Dog\n"
          ]
        }
      ],
      "source": [
        "import requests\n",
        "from PIL import Image\n",
        "from io import BytesIO\n",
        "import torchvision.transforms as transforms\n",
        "\n",
        "def predict_from_url(url, model):\n",
        "    # Fetch image from the internet\n",
        "    response = requests.get(url)\n",
        "    img = Image.open(BytesIO(response.content))\n",
        "\n",
        "    # Process the image\n",
        "    transform = transforms.Compose([\n",
        "        transforms.Resize((32, 32)),  # Assuming the model expects 32x32 images\n",
        "        transforms.ToTensor(),\n",
        "        # Add any other required preprocessing steps here\n",
        "    ])\n",
        "    img_tensor = transform(img).unsqueeze(0)  # Add batch dimension\n",
        "\n",
        "    # Get the model's prediction\n",
        "    with torch.no_grad():\n",
        "        output = model(img_tensor)\n",
        "        _, predicted = torch.max(output.data, 1)\n",
        "        if predicted.item() == 1:\n",
        "            return \"Dog\"\n",
        "        else:\n",
        "            return \"Cat\"\n",
        "\n",
        "# Example usage:\n",
        "url = \"https://cdn.britannica.com/79/232779-050-6B0411D7/German-Shepherd-dog-Alsatian.jpg\"\n",
        "print(predict_from_url(url, model))"
      ]
    },
    {
      "cell_type": "markdown",
      "metadata": {
        "id": "UcZMIHyCk097"
      },
      "source": [
        "## Regularization and Optimization Techniques\n",
        "\n",
        "As we build deeper and more complex neural networks, there's a risk of overfitting, where our model performs exceptionally well on the training data but poorly on unseen data. Regularization techniques help prevent overfitting, making the model more generalizable. Additionally, optimization techniques can aid in faster and more stable training.\n",
        "\n",
        "In this section, we will explore some of these techniques, including Dropout, Batch normalization, and Learning rate scheduling."
      ]
    },
    {
      "cell_type": "markdown",
      "metadata": {
        "id": "c5AnF2mplBi3"
      },
      "source": [
        "### Dropout\n",
        "\n",
        "Dropout is a regularization technique that can help prevent overfitting in neural networks. During training, dropout is implemented by only keeping a neuron active with some probability $ p$ (a hyperparameter), or setting it to zero otherwise. By \"dropping out\" a random set of activations in this way, we ensure that no single neuron can memorize the data, making the model more robust.\n",
        "\n",
        "The probability $ p$ is the fraction of the input units to drop. For example, if $ p$ is set to 0.5, then roughly half of the input units will be dropped out during training. For a visual understanding of it: https://www.youtube.com/watch?v=ARq74QuavAo\n",
        "\n",
        "Let's see how to implement dropout in PyTorch."
      ]
    },
    {
      "cell_type": "code",
      "execution_count": 30,
      "metadata": {
        "colab": {
          "base_uri": "https://localhost:8080/"
        },
        "id": "ab2lCz0UIy1u",
        "outputId": "8b39955e-8bd3-4601-f2fc-ed2e1308c9ae"
      },
      "outputs": [
        {
          "output_type": "stream",
          "name": "stdout",
          "text": [
            "DropoutNN(\n",
            "  (fc1): Linear(in_features=784, out_features=256, bias=True)\n",
            "  (dropout): Dropout(p=0.5, inplace=False)\n",
            "  (fc2): Linear(in_features=256, out_features=10, bias=True)\n",
            ")\n"
          ]
        }
      ],
      "source": [
        "class DropoutNN(nn.Module):\n",
        "    def __init__(self, input_size, hidden_size, output_size):\n",
        "        super(DropoutNN, self).__init__()\n",
        "        self.fc1 = nn.Linear(input_size, hidden_size)\n",
        "        # Dropout layer: during training, randomly sets approximately 50% of its input units to 0\n",
        "        # to prevent over-reliance on any individual neuron.\n",
        "        self.dropout = nn.Dropout(0.5)  # 0.5 is the probability of dropping an activation\n",
        "        self.fc2 = nn.Linear(hidden_size, output_size)\n",
        "\n",
        "    def forward(self, x):\n",
        "        x = F.relu(self.fc1(x))\n",
        "        x = self.dropout(x)  # apply dropout during training\n",
        "        x = self.fc2(x)\n",
        "        return x\n",
        "\n",
        "# Instantiate the model with dropout\n",
        "dropout_model = DropoutNN(input_size=784, hidden_size=256, output_size=10)\n",
        "print(dropout_model)"
      ]
    },
    {
      "cell_type": "markdown",
      "metadata": {
        "id": "-eZDcMXqmu1b"
      },
      "source": [
        "### Batch Normalization\n",
        "\n",
        "Batch normalization is an optimization technique designed to stabilize and accelerate the training of deep neural networks. Here's how it works:\n",
        "\n",
        "1. **Normalization**: During training, for each mini-batch, batch normalization computes the mean and variance of the activations of a layer. It then normalizes the activations to have a mean of zero and a standard deviation of one.\n",
        "2. **Scaling and Shifting**: After normalization, batch normalization introduces two learnable parameters, scale and shift, for each activation. This allows the model to scale and shift the normalized activations if it determines that the original mean and variance were beneficial.\n",
        "\n",
        "The key benefits of batch normalization are:\n",
        "\n",
        "- **Smoothing the Optimization Landscape**: One of the primary benefits of batch normalization is that it smooths the optimization landscape, making the loss surface more tractable for gradient-based optimization methods. This can lead to faster training and less sensitivity to the initialization of weights.\n",
        "- **Faster Convergence**: By ensuring that activations have a consistent distribution, the training process becomes more stable, allowing for higher learning rates and faster convergence.\n",
        "- **Acts as a Regularizer**: Batch normalization can also serve as a form of regularization. The noise introduced during training, due to the use of mini-batch statistics, can improve generalization in some cases, reducing the need for other regularization techniques like dropout.\n",
        "- **Mitigating Internal Covariate Shift**\\*: Originally, it was believed that batch normalization primarily worked by reducing internal covariate shift, which refers to the change in the distribution of layer activations as the network trains. While normalization does address this, recent research suggests that this might not be the primary reason for the effectiveness of BatchNorm. Nonetheless, it's a point of consideration.\n",
        "\n",
        "For a visual understanding of Batch Normalization: https://www.youtube.com/watch?v=DtEq44FTPM4\n",
        "\n",
        "With this understanding, let's see how batch normalization is implemented in PyTorch."
      ]
    },
    {
      "cell_type": "code",
      "execution_count": 31,
      "metadata": {
        "colab": {
          "base_uri": "https://localhost:8080/"
        },
        "id": "EjpwavYWlFAZ",
        "outputId": "7c519bab-3fdc-405d-afcc-da03a8817463"
      },
      "outputs": [
        {
          "output_type": "stream",
          "name": "stdout",
          "text": [
            "BatchNormNN(\n",
            "  (fc1): Linear(in_features=784, out_features=256, bias=True)\n",
            "  (batchnorm): BatchNorm1d(256, eps=1e-05, momentum=0.1, affine=True, track_running_stats=True)\n",
            "  (fc2): Linear(in_features=256, out_features=10, bias=True)\n",
            ")\n"
          ]
        }
      ],
      "source": [
        "class BatchNormNN(nn.Module):\n",
        "    def __init__(self, input_size, hidden_size, output_size):\n",
        "        super(BatchNormNN, self).__init__()\n",
        "        self.fc1 = nn.Linear(input_size, hidden_size)\n",
        "        # Batch normalization layer for the hidden layer\n",
        "        self.batchnorm = nn.BatchNorm1d(hidden_size)\n",
        "        self.fc2 = nn.Linear(hidden_size, output_size)\n",
        "\n",
        "    def forward(self, x):\n",
        "        x = self.fc1(x)\n",
        "        x = self.batchnorm(x)  # apply batch normalization\n",
        "        x = F.relu(x)\n",
        "        x = self.fc2(x)\n",
        "        return x\n",
        "\n",
        "# Instantiate the model with batch normalization\n",
        "batchnorm_model = BatchNormNN(input_size=784, hidden_size=256, output_size=10)\n",
        "print(batchnorm_model)"
      ]
    },
    {
      "cell_type": "markdown",
      "metadata": {
        "id": "xYnX_8Cu6LAc"
      },
      "source": [
        "### Learning Rate Scheduling\n",
        "\n",
        "The learning rate is one of the most crucial hyperparameters to set in training deep neural networks. It determines the step size at each iteration while moving towards a minimum of the loss function. Set it too high, and the algorithm might overshoot the minimum; too low, and the training might become exceedingly slow.\n",
        "\n",
        "Learning Rate Scheduling provides a solution to adapt the learning rate during training. Instead of using a fixed learning rate, we adjust it over time. This allows us to start with a larger learning rate, which decreases as we get closer to the minimum, ensuring faster convergence and better final performance.\n",
        "\n",
        "There are various strategies for learning rate scheduling, such as Step Decay, Exponential Decay, and Cosine Annealing. In this section, we will explore Step Decay and implement it!\n",
        "\n",
        "For a visual understanding of the different types of learning rate decay: https://www.youtube.com/watch?v=QzulmoOg2JE"
      ]
    },
    {
      "cell_type": "markdown",
      "metadata": {
        "id": "lX8zdzed6TiW"
      },
      "source": [
        "### StepLR - Step Decay Learning Rate\n",
        "\n",
        "Step Decay is a strategy where the learning rate is reduced by a factor every few epochs. For instance, if our initial learning rate is 0.1 and we have a decay factor (often called gamma) of 0.1, the learning rate will drop to 0.01 after a specified number of epochs, referred to as the `step_size`. This approach allows the model to make larger updates at the beginning of the training, capturing coarse-grained features, and then make smaller, fine-tuning updates later on to refine its understanding.\n",
        "\n",
        "In PyTorch, we can implement Step Decay with the `StepLR` scheduler. The step_size parameter determines the epoch interval at which the learning rate will be reduced.\n"
      ]
    },
    {
      "cell_type": "code",
      "execution_count": 32,
      "metadata": {
        "colab": {
          "base_uri": "https://localhost:8080/"
        },
        "id": "MYHxjCX41i_G",
        "outputId": "3be3ca94-a44d-4478-f48f-b46ec5cf71fc"
      },
      "outputs": [
        {
          "output_type": "stream",
          "name": "stdout",
          "text": [
            "Downloading http://yann.lecun.com/exdb/mnist/train-images-idx3-ubyte.gz\n",
            "Downloading http://yann.lecun.com/exdb/mnist/train-images-idx3-ubyte.gz to ./data/MNIST/raw/train-images-idx3-ubyte.gz\n"
          ]
        },
        {
          "output_type": "stream",
          "name": "stderr",
          "text": [
            "100%|██████████| 9912422/9912422 [00:00<00:00, 167978599.49it/s]"
          ]
        },
        {
          "output_type": "stream",
          "name": "stdout",
          "text": [
            "Extracting ./data/MNIST/raw/train-images-idx3-ubyte.gz to ./data/MNIST/raw\n"
          ]
        },
        {
          "output_type": "stream",
          "name": "stderr",
          "text": [
            "\n"
          ]
        },
        {
          "output_type": "stream",
          "name": "stdout",
          "text": [
            "\n",
            "Downloading http://yann.lecun.com/exdb/mnist/train-labels-idx1-ubyte.gz\n",
            "Downloading http://yann.lecun.com/exdb/mnist/train-labels-idx1-ubyte.gz to ./data/MNIST/raw/train-labels-idx1-ubyte.gz\n"
          ]
        },
        {
          "output_type": "stream",
          "name": "stderr",
          "text": [
            "100%|██████████| 28881/28881 [00:00<00:00, 26823670.02it/s]\n"
          ]
        },
        {
          "output_type": "stream",
          "name": "stdout",
          "text": [
            "Extracting ./data/MNIST/raw/train-labels-idx1-ubyte.gz to ./data/MNIST/raw\n",
            "\n",
            "Downloading http://yann.lecun.com/exdb/mnist/t10k-images-idx3-ubyte.gz\n",
            "Downloading http://yann.lecun.com/exdb/mnist/t10k-images-idx3-ubyte.gz to ./data/MNIST/raw/t10k-images-idx3-ubyte.gz\n"
          ]
        },
        {
          "output_type": "stream",
          "name": "stderr",
          "text": [
            "100%|██████████| 1648877/1648877 [00:00<00:00, 43884508.81it/s]\n"
          ]
        },
        {
          "output_type": "stream",
          "name": "stdout",
          "text": [
            "Extracting ./data/MNIST/raw/t10k-images-idx3-ubyte.gz to ./data/MNIST/raw\n",
            "\n",
            "Downloading http://yann.lecun.com/exdb/mnist/t10k-labels-idx1-ubyte.gz\n",
            "Downloading http://yann.lecun.com/exdb/mnist/t10k-labels-idx1-ubyte.gz to ./data/MNIST/raw/t10k-labels-idx1-ubyte.gz\n"
          ]
        },
        {
          "output_type": "stream",
          "name": "stderr",
          "text": [
            "100%|██████████| 4542/4542 [00:00<00:00, 3735397.80it/s]\n"
          ]
        },
        {
          "output_type": "stream",
          "name": "stdout",
          "text": [
            "Extracting ./data/MNIST/raw/t10k-labels-idx1-ubyte.gz to ./data/MNIST/raw\n",
            "\n",
            "Epoch 1/15, Loss: 2.2600, Learning Rate: 0.1\n",
            "Epoch 2/15, Loss: 0.5444, Learning Rate: 0.1\n",
            "Epoch 3/15, Loss: 0.4701, Learning Rate: 0.1\n",
            "Epoch 4/15, Loss: 0.3937, Learning Rate: 0.1\n",
            "Epoch 5/15, Loss: 0.3832, Learning Rate: 0.1\n",
            "Epoch 6/15, Loss: 0.2708, Learning Rate: 0.010000000000000002\n",
            "Epoch 7/15, Loss: 0.2649, Learning Rate: 0.010000000000000002\n",
            "Epoch 8/15, Loss: 0.2619, Learning Rate: 0.010000000000000002\n",
            "Epoch 9/15, Loss: 0.2602, Learning Rate: 0.010000000000000002\n",
            "Epoch 10/15, Loss: 0.2584, Learning Rate: 0.010000000000000002\n",
            "Epoch 11/15, Loss: 0.2560, Learning Rate: 0.0010000000000000002\n",
            "Epoch 12/15, Loss: 0.2539, Learning Rate: 0.0010000000000000002\n",
            "Epoch 13/15, Loss: 0.2540, Learning Rate: 0.0010000000000000002\n",
            "Epoch 14/15, Loss: 0.2533, Learning Rate: 0.0010000000000000002\n",
            "Epoch 15/15, Loss: 0.2532, Learning Rate: 0.0010000000000000002\n"
          ]
        }
      ],
      "source": [
        "import torch\n",
        "from torchvision import datasets, transforms\n",
        "from torch.utils.data import DataLoader, random_split\n",
        "from torch.optim.lr_scheduler import StepLR\n",
        "\n",
        "# Data loading and preprocessing\n",
        "transform = transforms.Compose([\n",
        "    transforms.ToTensor(),\n",
        "    transforms.Normalize((0.5,), (0.5,))\n",
        "])\n",
        "\n",
        "# Load only a subset of MNIST for faster demonstration\n",
        "train_dataset = datasets.MNIST(root='./data', train=True, download=True, transform=transform)\n",
        "# Use only 1/10 of the dataset\n",
        "train_subset, _ = random_split(train_dataset, [len(train_dataset) // 10, len(train_dataset) - len(train_dataset) // 10])\n",
        "train_loader = DataLoader(train_subset, batch_size=64, shuffle=True)\n",
        "\n",
        "# Define a simple model for demonstration\n",
        "class SimpleNN(nn.Module):\n",
        "    def __init__(self):\n",
        "        super(SimpleNN, self).__init__()\n",
        "        self.fc = nn.Linear(28*28, 10)\n",
        "\n",
        "    def forward(self, x):\n",
        "        x = x.view(-1, 28*28)\n",
        "        return self.fc(x)\n",
        "\n",
        "# Instantiate the model, criterion, and optimizer\n",
        "model = SimpleNN()\n",
        "criterion = nn.CrossEntropyLoss()\n",
        "optimizer = torch.optim.SGD(model.parameters(), lr=0.1)  # initial learning rate set to 0.1\n",
        "\n",
        "# Define StepLR scheduler with a smaller step size\n",
        "scheduler = StepLR(optimizer, step_size=5)\n",
        "\n",
        "# Training loop with learning rate scheduling over fewer epochs\n",
        "num_epochs = 15\n",
        "for epoch in range(num_epochs):\n",
        "    running_loss = 0.0\n",
        "    for images, labels in train_loader:\n",
        "        optimizer.zero_grad()\n",
        "        outputs = model(images)\n",
        "        loss = criterion(outputs, labels)\n",
        "        loss.backward()\n",
        "        optimizer.step()\n",
        "        running_loss += loss.item()\n",
        "\n",
        "    avg_loss = running_loss / len(train_loader)\n",
        "    print(f\"Epoch {epoch+1}/{num_epochs}, Loss: {avg_loss:.4f}, Learning Rate: {scheduler.get_last_lr()[0]}\")\n",
        "    scheduler.step()"
      ]
    },
    {
      "cell_type": "markdown",
      "metadata": {
        "id": "g5BK6K8__d9x"
      },
      "source": [
        "## Transfer Learning in PyTorch\n",
        "\n",
        "Transfer learning is a machine learning technique where a model, developed for a particular task, is reused as a starting point for a model on a second task. It's a popular approach in deep learning because it can train deep neural networks with comparatively little data. This is very useful, as most real-world datasets are typically much smaller than the massive datasets (like ImageNet) used to train popular models.\n",
        "\n",
        "The core idea is to leverage the features learned from one task and apply them to another. In the context of neural networks, this means using the architecture and weights of a pre-trained model and adapting them to a new task.\n",
        "\n",
        "There are two main approaches in transfer learning:\n",
        "\n",
        "1. **Feature Extraction**: Here, we freeze all the layers of the pre-trained model except the final fully connected layer. This last layer is replaced with a new one that matches the number of classes in the new dataset and is trained from scratch.\n",
        "2. **Fine-tuning**: In this approach, we unfreeze some or all of the layers of the pre-trained model and train them on the new data. This can help in adapting the pre-trained features more closely to the new task.\n",
        "Let's see how to perform transfer learning using PyTorch.\n",
        "\n",
        "For more information about approaches to transfer learning and its significance: https://builtin.com/data-science/transfer-learning"
      ]
    },
    {
      "cell_type": "code",
      "execution_count": 33,
      "metadata": {
        "colab": {
          "base_uri": "https://localhost:8080/"
        },
        "id": "lVWWw1F97b81",
        "outputId": "36362090-3f2f-4972-dd34-3b6fcc59f299"
      },
      "outputs": [
        {
          "output_type": "stream",
          "name": "stdout",
          "text": [
            "Files already downloaded and verified\n"
          ]
        },
        {
          "output_type": "stream",
          "name": "stderr",
          "text": [
            "/usr/local/lib/python3.10/dist-packages/torchvision/models/_utils.py:208: UserWarning: The parameter 'pretrained' is deprecated since 0.13 and may be removed in the future, please use 'weights' instead.\n",
            "  warnings.warn(\n",
            "/usr/local/lib/python3.10/dist-packages/torchvision/models/_utils.py:223: UserWarning: Arguments other than a weight enum or `None` for 'weights' are deprecated since 0.13 and may be removed in the future. The current behavior is equivalent to passing `weights=AlexNet_Weights.IMAGENET1K_V1`. You can also use `weights=AlexNet_Weights.DEFAULT` to get the most up-to-date weights.\n",
            "  warnings.warn(msg)\n",
            "Downloading: \"https://download.pytorch.org/models/alexnet-owt-7be5be79.pth\" to /root/.cache/torch/hub/checkpoints/alexnet-owt-7be5be79.pth\n",
            "100%|██████████| 233M/233M [00:00<00:00, 284MB/s]\n"
          ]
        },
        {
          "output_type": "stream",
          "name": "stdout",
          "text": [
            "Epoch 1/2, Loss: 2.0929\n",
            "Epoch 2/2, Loss: 1.6876\n"
          ]
        }
      ],
      "source": [
        "import torch.nn as nn\n",
        "import torchvision.models as models\n",
        "from torchvision import datasets, transforms\n",
        "from torch.utils.data import DataLoader, random_split\n",
        "\n",
        "# Load and preprocess an even smaller subset of CIFAR-10\n",
        "transform = transforms.Compose([\n",
        "    transforms.Resize(256),\n",
        "    transforms.CenterCrop(224),\n",
        "    transforms.ToTensor(),\n",
        "    transforms.Normalize(mean=[0.485, 0.456, 0.406], std=[0.229, 0.224, 0.225])\n",
        "])\n",
        "\n",
        "full_dataset = datasets.CIFAR10(root='./data', train=True, download=True, transform=transform)\n",
        "train_size = int(0.02 * len(full_dataset))  # Using only 2% of the dataset\n",
        "_, train_subset = random_split(full_dataset, [len(full_dataset) - train_size, train_size])\n",
        "train_loader = DataLoader(train_subset, batch_size=32, shuffle=True)\n",
        "\n",
        "# Load a pre-trained model (using AlexNet for faster computation)\n",
        "model = models.alexnet(pretrained=True)\n",
        "\n",
        "# Freeze all layers\n",
        "for param in model.parameters():\n",
        "    param.requires_grad = False\n",
        "\n",
        "# Modify the final layer\n",
        "model.classifier[6] = nn.Linear(model.classifier[6].in_features, 10)\n",
        "\n",
        "# Define a loss function and optimizer\n",
        "criterion = nn.CrossEntropyLoss()\n",
        "optimizer = torch.optim.SGD(model.classifier[6].parameters(), lr=0.001)\n",
        "\n",
        "# Shortened training loop\n",
        "for epoch in range(2):  # Reduced to 2 epochs\n",
        "    running_loss = 0.0\n",
        "    for images, labels in train_loader:\n",
        "        optimizer.zero_grad()\n",
        "        outputs = model(images)\n",
        "        loss = criterion(outputs, labels)\n",
        "        loss.backward()\n",
        "        optimizer.step()\n",
        "        running_loss += loss.item()\n",
        "    avg_loss = running_loss / len(train_loader)\n",
        "    print(f\"Epoch {epoch+1}/2, Loss: {avg_loss:.4f}\")"
      ]
    },
    {
      "cell_type": "code",
      "execution_count": 34,
      "metadata": {
        "colab": {
          "base_uri": "https://localhost:8080/"
        },
        "id": "FC4ZnXYK_2YV",
        "outputId": "2a3a627a-b81f-44ef-e3aa-530ce1af2610"
      },
      "outputs": [
        {
          "output_type": "stream",
          "name": "stdout",
          "text": [
            "Accuracy of the model on the validation images: 52.40%\n"
          ]
        }
      ],
      "source": [
        "# Split the CIFAR-10 dataset into training, validation, and test subsets\n",
        "val_size = int(0.02 * len(full_dataset))  # Using 2% for validation\n",
        "test_size = len(full_dataset) - train_size - val_size\n",
        "train_subset, val_subset, test_subset = random_split(full_dataset, [train_size, val_size, test_size])\n",
        "\n",
        "val_loader = DataLoader(val_subset, batch_size=32, shuffle=False)\n",
        "\n",
        "# Evaluate the model's performance on the validation set\n",
        "model.eval()  # Set the model to evaluation mode\n",
        "correct = 0\n",
        "total = 0\n",
        "with torch.no_grad():\n",
        "    for images, labels in val_loader:\n",
        "        outputs = model(images)\n",
        "        _, predicted = torch.max(outputs, 1)\n",
        "        total += labels.size(0)\n",
        "        correct += (predicted == labels).sum().item()\n",
        "\n",
        "accuracy = 100 * correct / total\n",
        "print(f'Accuracy of the model on the validation images: {accuracy:.2f}%')"
      ]
    },
    {
      "cell_type": "markdown",
      "metadata": {
        "id": "O0XETckaIK8n"
      },
      "source": [
        "Keep in mind:\n",
        "\n",
        "- A randomly initialized model (without any training) would have an accuracy of about 10% since there are 10 classes.\n",
        "- A modest transfer learning approach like this, with only 2% of the data and 2 epochs, might achieve accuracies in the range of 40-60%, depending on various factors like the specific samples in the 2%.\n",
        "- More sophisticated models trained on the entire CIFAR-10 dataset can achieve accuracies above 90%."
      ]
    },
    {
      "cell_type": "markdown",
      "source": [
        "## Advanced Applications with Real-world Data"
      ],
      "metadata": {
        "id": "W2wLCEZECBiA"
      }
    },
    {
      "cell_type": "markdown",
      "metadata": {
        "id": "H4G8AAaTu1Ba"
      },
      "source": [
        "### Text Classification with LSTMs\n",
        "\n",
        "Text classification is a staple task in Natural Language Processing (NLP). The goal is to take a text input and assign it to one of the predefined classes. Examples of text classification include spam detection, sentiment analysis, and topic assignment.\n",
        "\n",
        "Long Short-Term Memory (LSTM) networks, a type of Recurrent Neural Network (RNN), are particularly well-suited for sequence-based tasks, including text classification. This is due to their capability to remember long-term dependencies in the data."
      ]
    },
    {
      "cell_type": "code",
      "execution_count": 35,
      "metadata": {
        "colab": {
          "base_uri": "https://localhost:8080/"
        },
        "id": "01enX_kTAqaK",
        "outputId": "1e7c516c-9250-4e29-945e-f250c50acb3d"
      },
      "outputs": [
        {
          "output_type": "stream",
          "name": "stdout",
          "text": [
            "Collecting portalocker>=2.0.0\n",
            "  Downloading portalocker-2.8.2-py3-none-any.whl (17 kB)\n",
            "Installing collected packages: portalocker\n",
            "Successfully installed portalocker-2.8.2\n"
          ]
        }
      ],
      "source": [
        "!pip install 'portalocker>=2.0.0'"
      ]
    },
    {
      "cell_type": "code",
      "execution_count": 36,
      "metadata": {
        "id": "vtwYbpiWHu--"
      },
      "outputs": [],
      "source": [
        "from torchtext.data.utils import get_tokenizer\n",
        "from torchtext.datasets import IMDB\n",
        "from sklearn.model_selection import train_test_split\n",
        "from torchtext.vocab import build_vocab_from_iterator, GloVe\n",
        "from torch.utils.data import DataLoader\n",
        "from torch.nn.utils.rnn import pad_sequence\n",
        "\n",
        "# Define the tokenizer\n",
        "tokenizer = get_tokenizer('spacy', language='en_core_web_sm')\n",
        "\n",
        "# Load the raw IMDB dataset\n",
        "raw_train_data, raw_test_data = IMDB()\n",
        "\n",
        "# Tokenize and preprocess the data\n",
        "def tokenize_and_preprocess(dataset):\n",
        "    tokenized_data = []\n",
        "    for label, text in dataset:\n",
        "        tokens = tokenizer(text)\n",
        "        # Convert to lowercase\n",
        "        tokens = [token.lower() for token in tokens]\n",
        "        tokenized_data.append((tokens, label))\n",
        "    return tokenized_data\n",
        "\n",
        "train_data = tokenize_and_preprocess(raw_train_data)\n",
        "test_data = tokenize_and_preprocess(raw_test_data)\n",
        "\n",
        "train_data, valid_data = train_test_split(train_data, test_size=0.2, random_state=42)\n",
        "\n",
        "# Define a function to return the tokenized data iterator\n",
        "def yield_tokens(data_iter):\n",
        "    for text, _ in data_iter:\n",
        "        yield from text\n",
        "\n",
        "# Build vocabulary with vectors directly\n",
        "vocab = build_vocab_from_iterator(yield_tokens(train_data), specials=['<unk>', '<pad>'])\n",
        "\n",
        "# Define the custom collate function\n",
        "def collate_batch(batch):\n",
        "    label_list, text_list, lengths_list = [], [], []\n",
        "    for (_text, _label) in batch:\n",
        "        label_list.append(label_pipeline(_label))\n",
        "        processed_text = torch.tensor(text_pipeline(_text), dtype=torch.int64)\n",
        "        text_list.append(processed_text)\n",
        "        lengths_list.append(processed_text.size(0))\n",
        "    return torch.tensor(label_list, dtype=torch.float64), pad_sequence(text_list, padding_value=2.0), torch.tensor(lengths_list, dtype=torch.int64)\n",
        "\n",
        "# Define the text and label pipelines\n",
        "def text_pipeline(text):\n",
        "    return [vocab[token] for token in text]\n",
        "\n",
        "def label_pipeline(label):\n",
        "    return 1 if label == 'pos' else 0\n",
        "\n",
        "# Create data loaders\n",
        "train_loader = DataLoader(train_data, batch_size=64, shuffle=True, collate_fn=collate_batch)\n",
        "valid_loader = DataLoader(valid_data, batch_size=64, shuffle=False, collate_fn=collate_batch)\n",
        "test_loader = DataLoader(test_data, batch_size=64, shuffle=False, collate_fn=collate_batch)\n",
        "\n",
        "class LSTMClassifier(nn.Module):\n",
        "    def __init__(self, vocab_size, embedding_dim, hidden_dim, output_dim, pad_idx):\n",
        "        super().__init__()\n",
        "        self.embedding = nn.Embedding(vocab_size, embedding_dim, padding_idx=pad_idx)\n",
        "        self.rnn = nn.LSTM(embedding_dim, hidden_dim)\n",
        "        self.fc = nn.Linear(hidden_dim, output_dim)\n",
        "\n",
        "    def forward(self, text, text_lengths):\n",
        "        embedded = self.embedding(text)\n",
        "        packed_embedded = nn.utils.rnn.pack_padded_sequence(embedded, text_lengths)\n",
        "        packed_output, (hidden, cell) = self.rnn(packed_embedded)\n",
        "        return self.fc(hidden.squeeze(0))\n",
        "\n",
        "# Note: Training the model would be the next step, but for conciseness, we're showcasing the setup here."
      ]
    },
    {
      "cell_type": "markdown",
      "metadata": {
        "id": "0KRavSPwTxlM"
      },
      "source": [
        "### Other Examples of Advanced Applications\n",
        "\n",
        "**Sentiment Analysis**\n",
        "\n",
        "Sentiment Analysis is an NLP sub-field aiming to deduce sentiment or emotion from text. Commonly applied to customer feedback, its primary goal is to categorize sentiment into classes like positive, negative, or neutral. For hands-on practice, the IMDB movie review dataset is a popular choice.\n",
        "\n",
        "**Image Segmentation**\n",
        "\n",
        "In Image Segmentation, images are divided into multiple segments or \"super-pixels\", converting them into more analyzable representations. Unlike image classification, which tags an entire image with one label, segmentation classifies each pixel. It can be:\n",
        "\n",
        "- **Semantic Segmentation**: Classifying each pixel based on the class of its enclosing object or region.\n",
        "- **Instance Segmentation**: Identifying each object instance per pixel.\n",
        "\n",
        "**Object Detection**\n",
        "\n",
        "Object Detection, a computer vision task, locates and classifies objects in images. It provides bounding boxes for detected objects, coupled with its class label. Several architectures cater to object detection, such as Faster R-CNN, YOLO, and SSD."
      ]
    },
    {
      "cell_type": "markdown",
      "metadata": {
        "id": "9lTp0cvLVi-Z"
      },
      "source": [
        "### Training a Pre-trained Object Detector using Faster R-CNN\n",
        "\n",
        "Now that we've decided on object detection as our project focus, we'll be leveraging a pre-trained model for our task. Utilizing a pre-trained model, especially on tasks as complex as object detection, saves a significant amount of time and computational resources. Instead of training a model from scratch, we can use a model trained on a large dataset and fine-tune or directly deploy it for our specific use case.\n",
        "\n",
        "**Faster R-CNN** is one of the state-of-the-art architectures for object detection. It effectively combines the strengths of both Region-based Convolutional Networks (R-CNN) and Fast R-CNN, offering speed and accuracy."
      ]
    },
    {
      "cell_type": "code",
      "source": [
        "import torchvision\n",
        "from torchvision.models.detection import fasterrcnn_resnet50_fpn\n",
        "from torchvision.transforms import functional as F\n",
        "from PIL import Image, ImageDraw, ImageFont\n",
        "import matplotlib.pyplot as plt\n",
        "import numpy as np\n",
        "import requests\n",
        "from io import BytesIO\n",
        "\n",
        "# Load a pre-trained Faster R-CNN model\n",
        "model = fasterrcnn_resnet50_fpn(pretrained=True)\n",
        "model.eval()\n",
        "\n",
        "# Load an image\n",
        "def load_image_from_url(url):\n",
        "    \"\"\"\n",
        "    Loads an image from a given URL.\n",
        "    \"\"\"\n",
        "    response = requests.get(url)\n",
        "    return Image.open(BytesIO(response.content)).convert(\"RGB\")\n",
        "\n",
        "# Input an image url - An example of a bicycle is given\n",
        "image_url = 'https://image-and-file-storage.storage.googleapis.com/images/library/large/trek-wahoo-26-345352-3363194-1.png'  # Bicycle Example\n",
        "image = load_image_from_url(image_url)\n",
        "\n",
        "\n",
        "# Apply transformations and pass image through the model\n",
        "transform = torchvision.transforms.ToTensor()\n",
        "image_tensor = transform(image).unsqueeze(0)\n",
        "predictions = model(image_tensor)\n",
        "\n",
        "COCO_CLASSES = [\n",
        "    '__background__', 'person', 'bicycle', 'car', 'motorcycle', 'airplane', 'bus',\n",
        "    'train', 'truck', 'boat', 'traffic light', 'fire hydrant', 'N/A', 'stop sign',\n",
        "    'parking meter', 'bench', 'bird', 'cat', 'dog', 'horse', 'sheep', 'cow',\n",
        "    'elephant', 'bear', 'zebra', 'giraffe', 'N/A', 'backpack', 'umbrella', 'N/A', 'N/A',\n",
        "    'handbag', 'tie', 'suitcase', 'frisbee', 'skis', 'snowboard', 'sports ball',\n",
        "    'kite', 'baseball bat', 'baseball glove', 'skateboard', 'surfboard', 'tennis racket',\n",
        "    'bottle', 'N/A', 'wine glass', 'cup', 'fork', 'knife', 'spoon', 'bowl',\n",
        "    'banana', 'apple', 'sandwich', 'orange', 'broccoli', 'carrot', 'hot dog', 'pizza',\n",
        "    'donut', 'cake', 'chair', 'couch', 'potted plant', 'bed', 'N/A', 'dining table', 'N/A',\n",
        "    'N/A', 'toilet', 'N/A', 'tv', 'laptop', 'mouse', 'remote', 'keyboard', 'cell phone',\n",
        "    'microwave', 'oven', 'toaster', 'sink', 'refrigerator', 'N/A', 'book',\n",
        "    'clock', 'vase', 'scissors', 'teddy bear', 'hair drier', 'toothbrush'\n",
        "]\n",
        "\n",
        "def visualize_detection(img, prediction):\n",
        "    image_copy = img.copy()\n",
        "    draw = ImageDraw.Draw(image_copy)\n",
        "    boxes = prediction[0]['boxes'].detach().numpy()\n",
        "    scores = prediction[0]['scores'].detach().numpy()\n",
        "    labels = prediction[0]['labels'].detach().numpy()\n",
        "\n",
        "    # Define the threshold for scores. Only boxes with scores above this threshold will be drawn.\n",
        "    threshold = 0.5\n",
        "\n",
        "    # Use default font with specified size\n",
        "    font = ImageFont.load_default()\n",
        "\n",
        "    for box, score, label in zip(boxes, scores, labels):\n",
        "        if score > threshold:\n",
        "            draw.rectangle(list(box), outline='red', width=2)\n",
        "            draw.text((box[0], box[1]), f\"{COCO_CLASSES[label]}: {score:.2f}\", fill='red', font=font)\n",
        "    return image_copy\n",
        "\n",
        "# Get the visualized image\n",
        "result_image = visualize_detection(image, predictions)\n",
        "print(result_image)\n",
        "result_image.show()\n",
        "# Display the visualized image using matplotlib\n",
        "plt.figure(figsize=(12, 8))\n",
        "plt.imshow(result_image)\n",
        "plt.axis('off')\n",
        "plt.show()"
      ],
      "metadata": {
        "colab": {
          "base_uri": "https://localhost:8080/",
          "height": 795
        },
        "id": "Nz2yZfv7PCZe",
        "outputId": "e1b3c523-a635-4365-b797-6bfb1399be24"
      },
      "execution_count": 37,
      "outputs": [
        {
          "output_type": "stream",
          "name": "stderr",
          "text": [
            "/usr/local/lib/python3.10/dist-packages/torchvision/models/_utils.py:208: UserWarning: The parameter 'pretrained' is deprecated since 0.13 and may be removed in the future, please use 'weights' instead.\n",
            "  warnings.warn(\n",
            "/usr/local/lib/python3.10/dist-packages/torchvision/models/_utils.py:223: UserWarning: Arguments other than a weight enum or `None` for 'weights' are deprecated since 0.13 and may be removed in the future. The current behavior is equivalent to passing `weights=FasterRCNN_ResNet50_FPN_Weights.COCO_V1`. You can also use `weights=FasterRCNN_ResNet50_FPN_Weights.DEFAULT` to get the most up-to-date weights.\n",
            "  warnings.warn(msg)\n",
            "Downloading: \"https://download.pytorch.org/models/fasterrcnn_resnet50_fpn_coco-258fb6c6.pth\" to /root/.cache/torch/hub/checkpoints/fasterrcnn_resnet50_fpn_coco-258fb6c6.pth\n",
            "100%|██████████| 160M/160M [00:00<00:00, 208MB/s]\n"
          ]
        },
        {
          "output_type": "stream",
          "name": "stdout",
          "text": [
            "<PIL.Image.Image image mode=RGB size=1000x725 at 0x7F267004C9A0>\n"
          ]
        },
        {
          "output_type": "display_data",
          "data": {
            "text/plain": [
              "<Figure size 1200x800 with 1 Axes>"
            ],
            "image/png": "[encoded data removed]"
          },
          "metadata": {}
        }
      ]
    },
    {
      "cell_type": "markdown",
      "source": [
        "## Saving and Loading Trained Models:\n",
        "\n",
        "Once a model is trained, you'd want to save its architecture and trained parameters (weights) so that you can reuse it later without having to retrain it. This is especially true for models that take a long time to train.\n",
        "\n",
        "PyTorch Documentation for Saving and Loading Trained Models: https://pytorch.org/tutorials/beginner/saving_loading_models.html"
      ],
      "metadata": {
        "id": "d5eqAdMNns1X"
      }
    },
    {
      "cell_type": "markdown",
      "source": [
        "Saving the weights of a simple neural network:"
      ],
      "metadata": {
        "id": "XFK2YK_Sudbg"
      }
    },
    {
      "cell_type": "code",
      "source": [
        "%%writefile model.py\n",
        "\n",
        "import torch\n",
        "\n",
        "# Define a simple neural network model\n",
        "class SimpleModel(nn.Module):\n",
        "    def __init__(self):\n",
        "        super(SimpleModel, self).__init__()\n",
        "        self.fc = nn.Linear(10, 1)\n",
        "\n",
        "    def forward(self, x):\n",
        "        return self.fc(x)\n",
        "\n",
        "model = SimpleModel()\n",
        "\n",
        "# Generating random data to simulate training\n",
        "inputs = torch.randn(100, 10)\n",
        "targets = torch.randn(100, 1)\n",
        "\n",
        "# Training the model for a few iterations\n",
        "optimizer = optim.SGD(model.parameters(), lr=0.01)\n",
        "criterion = nn.MSELoss()\n",
        "\n",
        "for _ in range(10):  # Train for 10 epochs\n",
        "    optimizer.zero_grad()\n",
        "    outputs = model(inputs)\n",
        "    loss = criterion(outputs, targets)\n",
        "    loss.backward()\n",
        "    optimizer.step()\n",
        "\n",
        "# Saving the model weights to 'model_weights.pth'\n",
        "torch.save(model.state_dict(), 'model_weights.pth')  # Saving in the persistent storage directory\n"
      ],
      "metadata": {
        "colab": {
          "base_uri": "https://localhost:8080/"
        },
        "id": "az5F7KBEuSNP",
        "outputId": "b1b022ca-b6b5-4bb7-b54a-1012ea6414f3"
      },
      "execution_count": 38,
      "outputs": [
        {
          "output_type": "stream",
          "name": "stdout",
          "text": [
            "Writing model.py\n"
          ]
        }
      ]
    },
    {
      "cell_type": "code",
      "source": [
        "with open('model.py', 'r') as f:\n",
        "    code = f.read()\n",
        "    exec(code)"
      ],
      "metadata": {
        "id": "XFJQUwH0YMov"
      },
      "execution_count": 39,
      "outputs": []
    },
    {
      "cell_type": "code",
      "execution_count": 40,
      "metadata": {
        "id": "nZhhjmitQCi1",
        "colab": {
          "base_uri": "https://localhost:8080/"
        },
        "outputId": "2014fbbe-72f6-4982-81a4-6ea1c3308221"
      },
      "outputs": [
        {
          "output_type": "execute_result",
          "data": {
            "text/plain": [
              "SimpleModel(\n",
              "  (fc): Linear(in_features=10, out_features=1, bias=True)\n",
              ")"
            ]
          },
          "metadata": {},
          "execution_count": 40
        }
      ],
      "source": [
        "# Assuming model is the defined model architecture\n",
        "model.load_state_dict(torch.load('model_weights.pth'))\n",
        "model.eval()  # Ensure the model is in evaluation mode"
      ]
    },
    {
      "cell_type": "markdown",
      "source": [
        "The model.eval() call is crucial when your model has layers like dropout or batch normalization that behave differently during training and evaluation."
      ],
      "metadata": {
        "id": "mDFq0Ef4oA82"
      }
    },
    {
      "cell_type": "markdown",
      "source": [
        "### PyTorch to ONNX for Cross-platform Deployment (An Open Standard for Machine Learning Interoperability):\n",
        "\n",
        "ONNX (Open Neural Network Exchange) is an open format built to represent machine learning models. It allows developers to move models between state-of-the-art tools and choose the combination that is best for them. For more information on converting models into ONNX: https://deci.ai/blog/how-to-convert-a-pytorch-model-to-onnx/. Let's export a PyTorch model to ONNX:"
      ],
      "metadata": {
        "id": "lqXhTazloH6T"
      }
    },
    {
      "cell_type": "code",
      "source": [
        "!pip install onnx"
      ],
      "metadata": {
        "colab": {
          "base_uri": "https://localhost:8080/"
        },
        "id": "tYtolVVJwkeG",
        "outputId": "29ba6da4-2083-4b70-c0f5-c4f872cf2932"
      },
      "execution_count": 41,
      "outputs": [
        {
          "output_type": "stream",
          "name": "stdout",
          "text": [
            "Collecting onnx\n",
            "  Downloading onnx-1.14.1-cp310-cp310-manylinux_2_17_x86_64.manylinux2014_x86_64.whl (14.6 MB)\n",
            "\u001b[2K     \u001b[90m━━━━━━━━━━━━━━━━━━━━━━━━━━━━━━━━━━━━━━━━\u001b[0m \u001b[32m14.6/14.6 MB\u001b[0m \u001b[31m38.4 MB/s\u001b[0m eta \u001b[36m0:00:00\u001b[0m\n",
            "\u001b[?25hRequirement already satisfied: numpy in /usr/local/lib/python3.10/dist-packages (from onnx) (1.23.5)\n",
            "Requirement already satisfied: protobuf>=3.20.2 in /usr/local/lib/python3.10/dist-packages (from onnx) (3.20.3)\n",
            "Requirement already satisfied: typing-extensions>=3.6.2.1 in /usr/local/lib/python3.10/dist-packages (from onnx) (4.5.0)\n",
            "Installing collected packages: onnx\n",
            "Successfully installed onnx-1.14.1\n"
          ]
        }
      ]
    },
    {
      "cell_type": "code",
      "source": [
        "import torch.onnx\n",
        "\n",
        "# Create a dummy input that matches the model's input format\n",
        "dummy_input = torch.randn(1, 10)  # A random tensor of shape [1, 10]\n",
        "\n",
        "# Export the model to ONNX format\n",
        "torch.onnx.export(model, dummy_input, \"model.onnx\")\n"
      ],
      "metadata": {
        "colab": {
          "base_uri": "https://localhost:8080/"
        },
        "id": "ONQ1jzMCn9VM",
        "outputId": "513f0f6e-be7c-482f-cd0c-eea9cf046eac"
      },
      "execution_count": 42,
      "outputs": [
        {
          "output_type": "stream",
          "name": "stdout",
          "text": [
            "============= Diagnostic Run torch.onnx.export version 2.0.1+cu118 =============\n",
            "verbose: False, log level: Level.ERROR\n",
            "======================= 0 NONE 0 NOTE 0 WARNING 0 ERROR ========================\n",
            "\n"
          ]
        }
      ]
    },
    {
      "cell_type": "markdown",
      "source": [
        "### Introduction to TorchServe for Deployment:\n",
        "\n",
        "TorchServe is a flexible tool for serving PyTorch models in production environments. It handles tasks like model versioning, logging, metrics, and more. Let's start using it! (Note: TorchServe usage is more involved and often requires setup tailored to the specific deployment environment, showing it here for the give a basic sense of how it works). For a far more detailed example of deploying a transfer learning CNN model with ResNet as the backbone: https://towardsdatascience.com/serving-pytorch-models-with-torchserve-6b8e8cbdb632"
      ],
      "metadata": {
        "id": "FfEzvNp5otDD"
      }
    },
    {
      "cell_type": "markdown",
      "source": [
        "#### Install TorchServe:"
      ],
      "metadata": {
        "id": "lu1E6l-Xo5M-"
      }
    },
    {
      "cell_type": "code",
      "source": [
        "!pip install torchserve torch-model-archiver"
      ],
      "metadata": {
        "colab": {
          "base_uri": "https://localhost:8080/"
        },
        "id": "5tfEoeHXojqz",
        "outputId": "2e1261b6-f1ba-44d9-e125-e74b2d6fbd25"
      },
      "execution_count": 43,
      "outputs": [
        {
          "output_type": "stream",
          "name": "stdout",
          "text": [
            "Collecting torchserve\n",
            "  Downloading torchserve-0.8.2-py3-none-any.whl (23.8 MB)\n",
            "\u001b[2K     \u001b[90m━━━━━━━━━━━━━━━━━━━━━━━━━━━━━━━━━━━━━━━━\u001b[0m \u001b[32m23.8/23.8 MB\u001b[0m \u001b[31m10.7 MB/s\u001b[0m eta \u001b[36m0:00:00\u001b[0m\n",
            "\u001b[?25hCollecting torch-model-archiver\n",
            "  Downloading torch_model_archiver-0.8.2-py3-none-any.whl (14 kB)\n",
            "Requirement already satisfied: Pillow in /usr/local/lib/python3.10/dist-packages (from torchserve) (9.4.0)\n",
            "Requirement already satisfied: psutil in /usr/local/lib/python3.10/dist-packages (from torchserve) (5.9.5)\n",
            "Requirement already satisfied: packaging in /usr/local/lib/python3.10/dist-packages (from torchserve) (23.1)\n",
            "Requirement already satisfied: wheel in /usr/local/lib/python3.10/dist-packages (from torchserve) (0.41.2)\n",
            "Collecting enum-compat (from torch-model-archiver)\n",
            "  Downloading enum_compat-0.0.3-py3-none-any.whl (1.3 kB)\n",
            "Installing collected packages: enum-compat, torchserve, torch-model-archiver\n",
            "Successfully installed enum-compat-0.0.3 torch-model-archiver-0.8.2 torchserve-0.8.2\n"
          ]
        }
      ]
    },
    {
      "cell_type": "markdown",
      "source": [
        "#### Package the Model:"
      ],
      "metadata": {
        "id": "VRmoSAj2pECB"
      }
    },
    {
      "cell_type": "code",
      "source": [
        "!torch-model-archiver --model-name my_model --version 1.0 --model-file model.py --serialized-file model_weights.pth --handler image_classifier"
      ],
      "metadata": {
        "id": "KSztpwdmpDeR"
      },
      "execution_count": 44,
      "outputs": []
    },
    {
      "cell_type": "markdown",
      "source": [
        "#### Start the TorchServe:"
      ],
      "metadata": {
        "id": "rU7xkPKspTd8"
      }
    },
    {
      "cell_type": "code",
      "source": [
        "!mkdir model_store\n",
        "!mv my_model.mar model_store/\n",
        "\n",
        "!torchserve --start --ncs --model-store model_store --models my_model=my_model.mar"
      ],
      "metadata": {
        "colab": {
          "base_uri": "https://localhost:8080/"
        },
        "id": "ogpJx-9ppQIG",
        "outputId": "6986199e-b125-4478-b588-3b07787e15cd"
      },
      "execution_count": 45,
      "outputs": [
        {
          "output_type": "stream",
          "name": "stdout",
          "text": [
            "WARNING: sun.reflect.Reflection.getCallerClass is not supported. This will impact performance.\n",
            "2023-10-02T06:45:41,869 [WARN ] main org.pytorch.serve.util.ConfigManager - Your torchserve instance can access any URL to load models. When deploying to production, make sure to limit the set of allowed_urls in config.properties\n",
            "2023-10-02T06:45:41,874 [INFO ] main org.pytorch.serve.servingsdk.impl.PluginsManager - Initializing plugins manager...\n",
            "2023-10-02T06:45:41,996 [INFO ] main org.pytorch.serve.metrics.configuration.MetricConfiguration - Successfully loaded metrics configuration from /usr/local/lib/python3.10/dist-packages/ts/configs/metrics.yaml\n",
            "2023-10-02T06:45:42,125 [INFO ] main org.pytorch.serve.ModelServer - \n",
            "Torchserve version: 0.8.2\n",
            "TS Home: /usr/local/lib/python3.10/dist-packages\n",
            "Current directory: /content\n",
            "Temp directory: /tmp\n",
            "Metrics config path: /usr/local/lib/python3.10/dist-packages/ts/configs/metrics.yaml\n",
            "Number of GPUs: 1\n",
            "Number of CPUs: 2\n",
            "Max heap size: 3246 M\n",
            "Python executable: /usr/bin/python3\n",
            "Config file: N/A\n",
            "Inference address: http://127.0.0.1:8080\n",
            "Management address: http://127.0.0.1:8081\n",
            "Metrics address: http://127.0.0.1:8082\n",
            "Model Store: /content/model_store\n",
            "Initial Models: my_model=my_model.mar\n",
            "Log dir: /content/logs\n",
            "Metrics dir: /content/logs\n",
            "Netty threads: 0\n",
            "Netty client threads: 0\n",
            "Default workers per model: 1\n",
            "Blacklist Regex: N/A\n",
            "Maximum Response Size: 6553500\n",
            "Maximum Request Size: 6553500\n",
            "Limit Maximum Image Pixels: true\n",
            "Prefer direct buffer: false\n",
            "Allowed Urls: [file://.*|http(s)?://.*]\n",
            "Custom python dependency for model allowed: false\n",
            "Enable metrics API: true\n",
            "Metrics mode: log\n",
            "Disable system metrics: false\n",
            "Workflow Store: /content/model_store\n",
            "Model config: N/A\n",
            "2023-10-02T06:45:42,136 [INFO ] main org.pytorch.serve.servingsdk.impl.PluginsManager -  Loading snapshot serializer plugin...\n",
            "2023-10-02T06:45:42,171 [INFO ] main org.pytorch.serve.ModelServer - Loading initial models: my_model.mar\n",
            "2023-10-02T06:45:42,204 [DEBUG] main org.pytorch.serve.wlm.ModelVersionedRefs - Adding new version 1.0 for model my_model\n",
            "2023-10-02T06:45:42,205 [DEBUG] main org.pytorch.serve.wlm.ModelVersionedRefs - Setting default version to 1.0 for model my_model\n",
            "2023-10-02T06:45:42,206 [INFO ] main org.pytorch.serve.wlm.ModelManager - Model my_model loaded.\n",
            "2023-10-02T06:45:42,207 [DEBUG] main org.pytorch.serve.wlm.ModelManager - updateModel: my_model, count: 1\n",
            "2023-10-02T06:45:42,238 [INFO ] main org.pytorch.serve.ModelServer - Initialize Inference server with: EpollServerSocketChannel.\n",
            "2023-10-02T06:45:42,245 [DEBUG] W-9000-my_model_1.0 org.pytorch.serve.wlm.WorkerLifeCycle - Worker cmdline: [/usr/bin/python3, /usr/local/lib/python3.10/dist-packages/ts/model_service_worker.py, --sock-type, unix, --sock-name, /tmp/.ts.sock.9000, --metrics-config, /usr/local/lib/python3.10/dist-packages/ts/configs/metrics.yaml]\n",
            "2023-10-02T06:45:44,479 [INFO ] main org.pytorch.serve.ModelServer - Torchserve stopped.\n",
            "java.io.IOException: Failed to bind to address: http://127.0.0.1:8080\n",
            "\tat org.pytorch.serve.ModelServer.initializeServer(ModelServer.java:351)\n",
            "\tat org.pytorch.serve.ModelServer.startRESTserver(ModelServer.java:412)\n",
            "\tat org.pytorch.serve.ModelServer.startAndWait(ModelServer.java:118)\n",
            "\tat org.pytorch.serve.ModelServer.main(ModelServer.java:99)\n",
            "Caused by: io.netty.channel.unix.Errors$NativeIoException: bind(..) failed: Address already in use\n",
            "2023-10-02T06:45:44,518 [INFO ] Thread-0 org.pytorch.serve.ModelServer - Unregistering model my_model version 1.0\n",
            "2023-10-02T06:45:44,523 [DEBUG] Thread-0 org.pytorch.serve.wlm.ModelVersionedRefs - Removed model: my_model version: 1.0\n",
            "2023-10-02T06:45:44,532 [DEBUG] Thread-0 org.pytorch.serve.wlm.WorkerThread - W-9000-my_model_1.0 State change null -> WORKER_SCALED_DOWN\n",
            "2023-10-02T06:45:44,533 [WARN ] Thread-0 org.pytorch.serve.wlm.WorkerLifeCycle - terminateIOStreams() threadName=W-9000-my_model_1.0-stderr\n",
            "2023-10-02T06:45:44,534 [WARN ] Thread-0 org.pytorch.serve.wlm.WorkerLifeCycle - terminateIOStreams() threadName=W-9000-my_model_1.0-stdout\n",
            "2023-10-02T06:45:44,535 [WARN ] W-9000-my_model_1.0 org.pytorch.serve.wlm.WorkerLifeCycle - terminateIOStreams() threadName=W-9000-my_model_1.0-stderr\n",
            "2023-10-02T06:45:44,536 [WARN ] W-9000-my_model_1.0 org.pytorch.serve.wlm.WorkerLifeCycle - terminateIOStreams() threadName=W-9000-my_model_1.0-stdout\n",
            "2023-10-02T06:45:44,538 [DEBUG] W-9000-my_model_1.0 org.pytorch.serve.wlm.WorkerThread - System state is : WORKER_SCALED_DOWN\n",
            "2023-10-02T06:45:44,538 [DEBUG] W-9000-my_model_1.0 org.pytorch.serve.wlm.WorkerThread - Shutting down the thread .. Scaling down.\n",
            "2023-10-02T06:45:44,538 [DEBUG] W-9000-my_model_1.0 org.pytorch.serve.wlm.WorkerThread - W-9000-my_model_1.0 State change WORKER_SCALED_DOWN -> WORKER_STOPPED\n",
            "2023-10-02T06:45:44,538 [WARN ] W-9000-my_model_1.0 org.pytorch.serve.wlm.WorkerLifeCycle - terminateIOStreams() threadName=W-9000-my_model_1.0-stderr\n",
            "2023-10-02T06:45:44,541 [WARN ] W-9000-my_model_1.0 org.pytorch.serve.wlm.WorkerLifeCycle - terminateIOStreams() threadName=W-9000-my_model_1.0-stdout\n",
            "2023-10-02T06:45:44,541 [DEBUG] W-9000-my_model_1.0 org.pytorch.serve.wlm.WorkerThread - Worker terminated due to scale-down call.\n"
          ]
        }
      ]
    },
    {
      "cell_type": "markdown",
      "source": [
        "# Final Project - Lyric Completion\n",
        "## Data Collection\n",
        "\n",
        "For our project, we'll use a dataset of Beatles' lyrics! While there are many lyric datasets available, for simplicity, we will use a very small toy dataset (roughly 15,400 tokens) to demonstrate the process. This dataset contains cleaned lyrics from the Beatles' catalog of music. While it's rudimentary, it serves to demonstrate the process. In practice, you'd concatenate lyrics/text from multiple files, tokenize it, and prepare it for the model."
      ],
      "metadata": {
        "id": "gA15bKSx0Un_"
      }
    },
    {
      "cell_type": "markdown",
      "source": [
        "## Gathering our dataset\n",
        "First, let's gather our data! For this project, we're using the `wget` tool to fetch our dataset directly from the crash course's repository. This method provides a seamless way to obtain datasets without the need for manual downloads or uploads."
      ],
      "metadata": {
        "id": "qsjxpbuz1HWa"
      }
    },
    {
      "cell_type": "code",
      "source": [
        "!pip install wget"
      ],
      "metadata": {
        "colab": {
          "base_uri": "https://localhost:8080/"
        },
        "id": "ciCtQJp3ad5W",
        "outputId": "2922c543-9c3d-4f30-ba07-9b90416ea26f"
      },
      "execution_count": 46,
      "outputs": [
        {
          "output_type": "stream",
          "name": "stdout",
          "text": [
            "Collecting wget\n",
            "  Downloading wget-3.2.zip (10 kB)\n",
            "  Preparing metadata (setup.py) ... \u001b[?25l\u001b[?25hdone\n",
            "Building wheels for collected packages: wget\n",
            "  Building wheel for wget (setup.py) ... \u001b[?25l\u001b[?25hdone\n",
            "  Created wheel for wget: filename=wget-3.2-py3-none-any.whl size=9655 sha256=bc5bf632f23bc0c23d6d2f2285c6b1fc29cc4b5857e042100b49ee7f162d174e\n",
            "  Stored in directory: /root/.cache/pip/wheels/8b/f1/7f/5c94f0a7a505ca1c81cd1d9208ae2064675d97582078e6c769\n",
            "Successfully built wget\n",
            "Installing collected packages: wget\n",
            "Successfully installed wget-3.2\n"
          ]
        }
      ]
    },
    {
      "cell_type": "code",
      "source": [
        "!wget <https://github.com/nbetts2020/PyTorch-Crash-Course/blob/main/lyrics_dataset.csv> -O lyrics_dataset.csv"
      ],
      "metadata": {
        "colab": {
          "base_uri": "https://localhost:8080/"
        },
        "id": "MxNkhdgKaIkQ",
        "outputId": "74f725a5-b875-40fe-ff66-c111678b9d16"
      },
      "execution_count": 65,
      "outputs": [
        {
          "output_type": "stream",
          "name": "stdout",
          "text": [
            "/bin/bash: line 1: https://github.com/nbetts2020/PyTorch-Crash-Course/blob/main/lyrics_dataset.csv: No such file or directory\n"
          ]
        }
      ]
    },
    {
      "cell_type": "markdown",
      "source": [
        "Previewing the dataset"
      ],
      "metadata": {
        "id": "2mFC04DZsmsU"
      }
    },
    {
      "cell_type": "code",
      "source": [
        "import pandas as pd\n",
        "# Load the CSV file into a pandas DataFrame\n",
        "df_lyrics_csv = pd.read_csv(\"lyrics_dataset.csv\")\n",
        "# Convert all lyrics to lowercase\n",
        "df_lyrics_csv['lyrics'] = df_lyrics_csv['lyrics'].str.lower()\n",
        "\n",
        "# Remove leading and trailing whitespaces\n",
        "df_lyrics_csv['lyrics'] = df_lyrics_csv['lyrics'].str.strip()\n",
        "df_lyrics_csv['lyrics'].head()"
      ],
      "metadata": {
        "colab": {
          "base_uri": "https://localhost:8080/"
        },
        "id": "G1wMvGYbNIpN",
        "outputId": "a98c87de-dff3-4071-b4a9-4184511799f1"
      },
      "execution_count": 49,
      "outputs": [
        {
          "output_type": "execute_result",
          "data": {
            "text/plain": [
              "0    come together, yeah\\ncome together, yeah\\ncome...\n",
              "1    i don't want to leave her now\\nyou know i beli...\n",
              "2    bang! bang! maxwell's silver hammer\\ncame down...\n",
              "3    oh! darling, if you leave me\\ni'll never make ...\n",
              "4    we would shout and swim about\\nthe coral that ...\n",
              "Name: lyrics, dtype: object"
            ]
          },
          "metadata": {},
          "execution_count": 49
        }
      ]
    },
    {
      "cell_type": "markdown",
      "source": [
        "## Model Setup\n",
        "Next, we will load a pre-trained model. The GPT-2 model from HuggingFace's `transformers` library is a popular choice for text generation tasks. HuggingFace's description (We will be using the 355 million parameter GPT2-medium model. This is a small text generation model. For reference, GPT3 has 175 billion parameters): https://huggingface.co/gpt2-medium#:~:text=Model%20Description%3A%20GPT%2D2%20Medium,language%20modeling%20(CLM)%20objective."
      ],
      "metadata": {
        "id": "xNXd2p1oq9C0"
      }
    },
    {
      "cell_type": "code",
      "source": [
        "!pip install transformers"
      ],
      "metadata": {
        "id": "wiBc7Xfsrm2N",
        "colab": {
          "base_uri": "https://localhost:8080/"
        },
        "outputId": "f0444912-bc13-49cd-d944-a10816434184"
      },
      "execution_count": 50,
      "outputs": [
        {
          "output_type": "stream",
          "name": "stdout",
          "text": [
            "Collecting transformers\n",
            "  Downloading transformers-4.33.3-py3-none-any.whl (7.6 MB)\n",
            "\u001b[2K     \u001b[90m━━━━━━━━━━━━━━━━━━━━━━━━━━━━━━━━━━━━━━━━\u001b[0m \u001b[32m7.6/7.6 MB\u001b[0m \u001b[31m23.6 MB/s\u001b[0m eta \u001b[36m0:00:00\u001b[0m\n",
            "\u001b[?25hRequirement already satisfied: filelock in /usr/local/lib/python3.10/dist-packages (from transformers) (3.12.2)\n",
            "Collecting huggingface-hub<1.0,>=0.15.1 (from transformers)\n",
            "  Downloading huggingface_hub-0.17.3-py3-none-any.whl (295 kB)\n",
            "\u001b[2K     \u001b[90m━━━━━━━━━━━━━━━━━━━━━━━━━━━━━━━━━━━━━━\u001b[0m \u001b[32m295.0/295.0 kB\u001b[0m \u001b[31m33.2 MB/s\u001b[0m eta \u001b[36m0:00:00\u001b[0m\n",
            "\u001b[?25hRequirement already satisfied: numpy>=1.17 in /usr/local/lib/python3.10/dist-packages (from transformers) (1.23.5)\n",
            "Requirement already satisfied: packaging>=20.0 in /usr/local/lib/python3.10/dist-packages (from transformers) (23.1)\n",
            "Requirement already satisfied: pyyaml>=5.1 in /usr/local/lib/python3.10/dist-packages (from transformers) (6.0.1)\n",
            "Requirement already satisfied: regex!=2019.12.17 in /usr/local/lib/python3.10/dist-packages (from transformers) (2023.6.3)\n",
            "Requirement already satisfied: requests in /usr/local/lib/python3.10/dist-packages (from transformers) (2.31.0)\n",
            "Collecting tokenizers!=0.11.3,<0.14,>=0.11.1 (from transformers)\n",
            "  Downloading tokenizers-0.13.3-cp310-cp310-manylinux_2_17_x86_64.manylinux2014_x86_64.whl (7.8 MB)\n",
            "\u001b[2K     \u001b[90m━━━━━━━━━━━━━━━━━━━━━━━━━━━━━━━━━━━━━━━━\u001b[0m \u001b[32m7.8/7.8 MB\u001b[0m \u001b[31m62.9 MB/s\u001b[0m eta \u001b[36m0:00:00\u001b[0m\n",
            "\u001b[?25hCollecting safetensors>=0.3.1 (from transformers)\n",
            "  Downloading safetensors-0.3.3-cp310-cp310-manylinux_2_17_x86_64.manylinux2014_x86_64.whl (1.3 MB)\n",
            "\u001b[2K     \u001b[90m━━━━━━━━━━━━━━━━━━━━━━━━━━━━━━━━━━━━━━━━\u001b[0m \u001b[32m1.3/1.3 MB\u001b[0m \u001b[31m64.6 MB/s\u001b[0m eta \u001b[36m0:00:00\u001b[0m\n",
            "\u001b[?25hRequirement already satisfied: tqdm>=4.27 in /usr/local/lib/python3.10/dist-packages (from transformers) (4.66.1)\n",
            "Requirement already satisfied: fsspec in /usr/local/lib/python3.10/dist-packages (from huggingface-hub<1.0,>=0.15.1->transformers) (2023.6.0)\n",
            "Requirement already satisfied: typing-extensions>=3.7.4.3 in /usr/local/lib/python3.10/dist-packages (from huggingface-hub<1.0,>=0.15.1->transformers) (4.5.0)\n",
            "Requirement already satisfied: charset-normalizer<4,>=2 in /usr/local/lib/python3.10/dist-packages (from requests->transformers) (3.2.0)\n",
            "Requirement already satisfied: idna<4,>=2.5 in /usr/local/lib/python3.10/dist-packages (from requests->transformers) (3.4)\n",
            "Requirement already satisfied: urllib3<3,>=1.21.1 in /usr/local/lib/python3.10/dist-packages (from requests->transformers) (2.0.4)\n",
            "Requirement already satisfied: certifi>=2017.4.17 in /usr/local/lib/python3.10/dist-packages (from requests->transformers) (2023.7.22)\n",
            "Installing collected packages: tokenizers, safetensors, huggingface-hub, transformers\n",
            "Successfully installed huggingface-hub-0.17.3 safetensors-0.3.3 tokenizers-0.13.3 transformers-4.33.3\n"
          ]
        }
      ]
    },
    {
      "cell_type": "code",
      "source": [
        "from transformers import GPT2Tokenizer, GPT2LMHeadModel, GPT2Config, AdamW, get_linear_schedule_with_warmup\n",
        "from torch.utils.data import Dataset, DataLoader\n",
        "import torch\n",
        "\n",
        "# Setting up the device\n",
        "device = torch.device(\"cuda\" if torch.cuda.is_available() else \"cpu\")\n",
        "\n",
        "# Load pre-trained GPT-2 tokenizer\n",
        "tokenizer = GPT2Tokenizer.from_pretrained('gpt2-medium')\n",
        "tokenizer.pad_token = tokenizer.eos_token\n",
        "\n",
        "# Model configuration\n",
        "configuration = GPT2Config.from_pretrained('gpt2-medium', output_hidden_states=False)\n",
        "\n",
        "# Load pre-trained GPT-2 model\n",
        "model = GPT2LMHeadModel.from_pretrained('gpt2-medium', config=configuration)\n",
        "model.resize_token_embeddings(len(tokenizer))\n",
        "model.to(device)\n",
        "\n",
        "# Define some hyperparameters\n",
        "EPOCHS = 10\n",
        "LEARNING_RATE = 3e-4\n",
        "WARMUP_STEPS = 1e2\n",
        "MAX_LEN = 400\n",
        "TRAIN_BATCH_SIZE = 2\n",
        "VAL_BATCH_SIZE = 1\n",
        "\n",
        "# Dataset class for lyrics\n",
        "class LyricsDataset(Dataset):\n",
        "\n",
        "    def __init__(self, df, tokenizer, gpt2_type=\"gpt2\", max_length=MAX_LEN):\n",
        "\n",
        "        self.tokenizer = tokenizer\n",
        "        self.input_ids = []\n",
        "        self.attn_masks = []\n",
        "\n",
        "        for index, row in df.iterrows():\n",
        "            encodings_dict = tokenizer(row['lyrics'], truncation=True,\n",
        "                                       max_length=max_length, padding=\"max_length\")\n",
        "\n",
        "            self.input_ids.append(torch.tensor(encodings_dict['input_ids']))\n",
        "            self.attn_masks.append(torch.tensor(encodings_dict['attention_mask']))\n",
        "\n",
        "    def __len__(self):\n",
        "        return len(self.input_ids)\n",
        "\n",
        "    def __getitem__(self, idx):\n",
        "        return self.input_ids[idx], self.attn_masks[idx]\n",
        "\n",
        "# Create DataLoader for lyrics\n",
        "train_dataset = LyricsDataset(df_lyrics_csv, tokenizer)\n",
        "train_dataloader = DataLoader(train_dataset, batch_size=TRAIN_BATCH_SIZE, shuffle=True)\n",
        "\n",
        "# Optimizer and learning rate scheduler\n",
        "optimizer = AdamW(model.parameters(), lr=LEARNING_RATE)\n",
        "scheduler = get_linear_schedule_with_warmup(optimizer, num_warmup_steps=WARMUP_STEPS, num_training_steps=-1)"
      ],
      "metadata": {
        "id": "yALyHGT203Jm",
        "colab": {
          "base_uri": "https://localhost:8080/",
          "height": 249,
          "referenced_widgets": [
            "0f9ca0740efb4a5384358245aa0739bf",
            "7a9067b2fdfa4ff8938df37c96f4c275",
            "712592fe1efe4ac288d0313d56f2e6d1",
            "daddda71ec744a4faa8362a605f6f035",
            "f35471e19a254edf8b2155c2db0bd895",
            "4c6f1c1d614748d3bc5690a0514d5bbf",
            "7e896f82264341c1b903656f225e61a9",
            "4238b7fcea374057aa66648fe4a0a38e",
            "c9e4103ccf614c40bf21269aae149fd7",
            "74483032ae6c4c00a8cc75e18fa10187",
            "90de5ba3e86a47fea0013b03a2b7767c",
            "9ed0fa96267a498aae9cdd8f461c7f0d",
            "4551e706fa144ba8bcda71ad23d8daa4",
            "b09fade65dc04848a32d4410412368c1",
            "4b4cc62eedda4f708efffd9c16db3993",
            "93e5d9e8a9644c87b8a1594ed3b2e008",
            "6111fb2402ce4549a882e3600400f08f",
            "37ff7eb3a97e48348fa36c2ca4717c45",
            "45325a493cca40c2888ef751e259c491",
            "ea0bd01704244edaa23153d91fadff24",
            "09b785616bac4828822c973e2795bee0",
            "ec7794240fe94f179a7e55fc1e91f242",
            "6e6f1890a4614b39bed3e62cac74403e",
            "78979a6ea707477c9ed9865930120c31",
            "793b3644a5e24c849eddfc640ca67958",
            "897fbe282809487d867dfe8b0ce3cf66",
            "f5c030f0330b497481160f3332c2390b",
            "70e506f20dfd46e29f047f842126984b",
            "4b05c2809ec74af895963d76342bf5bc",
            "e22fe9b5d63442c1880415246b368e6e",
            "9c7433a0f5034cc7963d16b1bdb6f57f",
            "b039dcc2f1c349efb979f3994fa6e671",
            "5b05e50d87dd4fb4855423f5f4b58c21",
            "c338804f0ff94304aa95f29901aa7dae",
            "5258265757ff479889c6f818325a533b",
            "5c7a4844e9574b57bf5be9d92d9a209f",
            "d79497bc5cbb43b185c85eb9be4bca93",
            "dfd535b60d6f464ebc93ca77b7b1e5c7",
            "2c5acb7efe02466faa398e9d6d6f1189",
            "ae60a91d96084ed1b5ed15bf3e27c854",
            "c2011bba6e6e496ba29c3a2f54a53800",
            "f8d5f2a62c8d4071ae4328ec7e091daf",
            "06698355351648fc9e5f29da23f41e63",
            "f1d8380f00c74ec1817aa88d666f13cc",
            "9da480e4a8b64d3d84f3f73ee4208f7e",
            "aeb0020b3c5c4c828a56d4430d906c04",
            "7639bf8ca54a49f8ae43d27fe5c19f1a",
            "2fefa1ec2d9a42c986efbf56e43fa7a4",
            "4caad6d2bf724a318a68a6f7d6beb13a",
            "f76c097f403b4c968f5442f104e21d9d",
            "d9b2bba35fec4cb1b171fedb1c1eace9",
            "eea248b3437045b8949f82cf5e2201f5",
            "25184f79f50f4a9c952e5a4c011b8f88",
            "c58f5b0cac86458cb8d1940ec3aa941f",
            "4449088c3d26458ab0bc6769a1c925e9"
          ]
        },
        "outputId": "9fa15332-9113-48ba-d251-6a04f0f16598"
      },
      "execution_count": 51,
      "outputs": [
        {
          "output_type": "display_data",
          "data": {
            "text/plain": [
              "Downloading (…)olve/main/vocab.json:   0%|          | 0.00/1.04M [00:00<?, ?B/s]"
            ],
            "application/vnd.jupyter.widget-view+json": {
              "version_major": 2,
              "version_minor": 0,
              "model_id": "0f9ca0740efb4a5384358245aa0739bf"
            }
          },
          "metadata": {}
        },
        {
          "output_type": "display_data",
          "data": {
            "text/plain": [
              "Downloading (…)olve/main/merges.txt:   0%|          | 0.00/456k [00:00<?, ?B/s]"
            ],
            "application/vnd.jupyter.widget-view+json": {
              "version_major": 2,
              "version_minor": 0,
              "model_id": "9ed0fa96267a498aae9cdd8f461c7f0d"
            }
          },
          "metadata": {}
        },
        {
          "output_type": "display_data",
          "data": {
            "text/plain": [
              "Downloading (…)lve/main/config.json:   0%|          | 0.00/718 [00:00<?, ?B/s]"
            ],
            "application/vnd.jupyter.widget-view+json": {
              "version_major": 2,
              "version_minor": 0,
              "model_id": "6e6f1890a4614b39bed3e62cac74403e"
            }
          },
          "metadata": {}
        },
        {
          "output_type": "display_data",
          "data": {
            "text/plain": [
              "Downloading model.safetensors:   0%|          | 0.00/1.52G [00:00<?, ?B/s]"
            ],
            "application/vnd.jupyter.widget-view+json": {
              "version_major": 2,
              "version_minor": 0,
              "model_id": "c338804f0ff94304aa95f29901aa7dae"
            }
          },
          "metadata": {}
        },
        {
          "output_type": "display_data",
          "data": {
            "text/plain": [
              "Downloading (…)neration_config.json:   0%|          | 0.00/124 [00:00<?, ?B/s]"
            ],
            "application/vnd.jupyter.widget-view+json": {
              "version_major": 2,
              "version_minor": 0,
              "model_id": "9da480e4a8b64d3d84f3f73ee4208f7e"
            }
          },
          "metadata": {}
        },
        {
          "output_type": "stream",
          "name": "stderr",
          "text": [
            "You are resizing the embedding layer without providing a `pad_to_multiple_of` parameter. This means that the new embedding dimension will be 50257. This might induce some performance reduction as *Tensor Cores* will not be available. For more details about this, or help on choosing the correct value for resizing, refer to this guide: https://docs.nvidia.com/deeplearning/performance/dl-performance-matrix-multiplication/index.html#requirements-tc\n",
            "/usr/local/lib/python3.10/dist-packages/transformers/optimization.py:411: FutureWarning: This implementation of AdamW is deprecated and will be removed in a future version. Use the PyTorch implementation torch.optim.AdamW instead, or set `no_deprecation_warning=True` to disable this warning\n",
            "  warnings.warn(\n"
          ]
        }
      ]
    },
    {
      "cell_type": "markdown",
      "source": [
        "Now that we've set up the model, tokenizer, and dataloader, the next step involves training our model on the code dataset."
      ],
      "metadata": {
        "id": "lsTkxxne1ZYj"
      }
    },
    {
      "cell_type": "markdown",
      "source": [
        "## Fine-tuning the GPT-2 Model\n",
        "Now that we have everything set up, we will proceed to fine-tune the GPT-2 model on our code dataset. Fine-tuning allows the pre-trained model to adapt to the specific style and structure of our code, enabling it to generate more coherent and contextually relevant code completions later on."
      ],
      "metadata": {
        "id": "IYobTcvt9E2t"
      }
    },
    {
      "cell_type": "markdown",
      "source": [
        "### Data Splitting\n",
        "To ensure our model doesn't overfit to our training data, it's essential to evaluate its performance on unseen data, called validation data. We'll start by splitting our data into training and validation sets."
      ],
      "metadata": {
        "id": "mfgcNItPMQon"
      }
    },
    {
      "cell_type": "code",
      "source": [
        "from sklearn.model_selection import train_test_split\n",
        "\n",
        "# Splitting the dataset into training and validation sets (80-20 split for this example)\n",
        "train_df, val_df = train_test_split(df_lyrics_csv, test_size=0.2, random_state=42)"
      ],
      "metadata": {
        "id": "snVqSEq8MP7J"
      },
      "execution_count": 52,
      "outputs": []
    },
    {
      "cell_type": "markdown",
      "source": [
        "### DataLoader Setup\n",
        "Now that we have our data split, let's prepare DataLoaders for both training and validation datasets."
      ],
      "metadata": {
        "id": "IzLX6v7tMXO4"
      }
    },
    {
      "cell_type": "code",
      "source": [
        "train_dataset = LyricsDataset(train_df, tokenizer)\n",
        "val_dataset = LyricsDataset(val_df, tokenizer)\n",
        "\n",
        "train_dataloader = DataLoader(train_dataset, batch_size=TRAIN_BATCH_SIZE, shuffle=True)\n",
        "val_dataloader = DataLoader(val_dataset, batch_size=VAL_BATCH_SIZE, shuffle=False)"
      ],
      "metadata": {
        "id": "qgzXjZX8MVZt"
      },
      "execution_count": 53,
      "outputs": []
    },
    {
      "cell_type": "markdown",
      "source": [
        "### Model Fine-tuning\n",
        "For the fine-tuning process, we'll:\n",
        "\n",
        "1. Feed our training data into the model.\n",
        "2. Compute the training loss.\n",
        "3. Backpropagate the error to adjust the model weights."
      ],
      "metadata": {
        "id": "BvZjWVGbMpgj"
      }
    },
    {
      "cell_type": "code",
      "source": [
        "# Training function\n",
        "def train_epoch(model, data_loader, optimizer, device, scheduler, n_examples):\n",
        "    model = model.train()\n",
        "\n",
        "    total_train_loss = 0\n",
        "\n",
        "    for batch in data_loader:\n",
        "        b_input_ids = batch[0].to(device)\n",
        "        b_labels = batch[0].to(device)\n",
        "        b_masks = batch[1].to(device)\n",
        "\n",
        "        outputs = model(b_input_ids, attention_mask=b_masks, labels=b_labels)\n",
        "        loss = outputs[0]\n",
        "        total_train_loss += loss.item()\n",
        "\n",
        "        optimizer.zero_grad()\n",
        "        loss.backward()\n",
        "        optimizer.step()\n",
        "        scheduler.step()\n",
        "\n",
        "    avg_train_loss = total_train_loss / len(data_loader)\n",
        "\n",
        "    return avg_train_loss"
      ],
      "metadata": {
        "id": "ipHFUR7KMbm_"
      },
      "execution_count": 54,
      "outputs": []
    },
    {
      "cell_type": "markdown",
      "source": [
        "### Model Evaluation\n",
        "After each epoch of training, we'll evaluate the model on our validation data. This will help us understand how well the model is generalizing."
      ],
      "metadata": {
        "id": "BRgG0JzGMyHE"
      }
    },
    {
      "cell_type": "code",
      "source": [
        "# Evaluation function\n",
        "def eval_epoch(model, data_loader, device):\n",
        "    model = model.eval()\n",
        "    total_loss = 0\n",
        "    with torch.no_grad():\n",
        "        for batch in data_loader:\n",
        "            b_input_ids = batch[0].to(device)\n",
        "            b_labels = batch[0].to(device)\n",
        "            b_masks = batch[1].to(device)\n",
        "\n",
        "            outputs = model(b_input_ids, attention_mask=b_masks, labels=b_labels)\n",
        "            loss = outputs[0]\n",
        "            total_loss += loss.item()\n",
        "    return total_loss / len(data_loader)"
      ],
      "metadata": {
        "id": "eIzozD7TMxqW"
      },
      "execution_count": 55,
      "outputs": []
    },
    {
      "cell_type": "markdown",
      "source": [
        "### Fine-tuning and Evaluation Loop\n",
        "Now that our functions are set up, we'll proceed with the fine-tuning and evaluation loop."
      ],
      "metadata": {
        "id": "KjaZkktxM5_t"
      }
    },
    {
      "cell_type": "code",
      "source": [
        "# Fine-tuning and evaluating the model\n",
        "for epoch in range(EPOCHS):\n",
        "    print(f\"Epoch {epoch + 1}/{EPOCHS}\")\n",
        "    print(\"-\" * 10)\n",
        "\n",
        "    train_loss = train_epoch(model, train_dataloader, optimizer, device, scheduler, len(train_dataset))\n",
        "    print(f\"Train loss: {train_loss:.4f}\")\n",
        "\n",
        "    val_loss = eval_epoch(model, val_dataloader, device)\n",
        "    print(f\"Validation loss: {val_loss:.4f}\\n\")"
      ],
      "metadata": {
        "colab": {
          "base_uri": "https://localhost:8080/"
        },
        "id": "Zr0v7n3sM217",
        "outputId": "fcd68351-58b3-42f7-acac-efe938597c94"
      },
      "execution_count": 56,
      "outputs": [
        {
          "output_type": "stream",
          "name": "stdout",
          "text": [
            "Epoch 1/10\n",
            "----------\n",
            "Train loss: 1.5626\n",
            "Validation loss: 0.4154\n",
            "\n",
            "Epoch 2/10\n",
            "----------\n",
            "Train loss: 0.3694\n",
            "Validation loss: 0.4159\n",
            "\n",
            "Epoch 3/10\n",
            "----------\n",
            "Train loss: 0.3219\n",
            "Validation loss: 0.4159\n",
            "\n",
            "Epoch 4/10\n",
            "----------\n",
            "Train loss: 0.3236\n",
            "Validation loss: 0.4159\n",
            "\n",
            "Epoch 5/10\n",
            "----------\n",
            "Train loss: 0.3243\n",
            "Validation loss: 0.4159\n",
            "\n",
            "Epoch 6/10\n",
            "----------\n",
            "Train loss: 0.3237\n",
            "Validation loss: 0.4159\n",
            "\n",
            "Epoch 7/10\n",
            "----------\n",
            "Train loss: 0.3227\n",
            "Validation loss: 0.4159\n",
            "\n",
            "Epoch 8/10\n",
            "----------\n",
            "Train loss: 0.3217\n",
            "Validation loss: 0.4159\n",
            "\n",
            "Epoch 9/10\n",
            "----------\n",
            "Train loss: 0.3209\n",
            "Validation loss: 0.4159\n",
            "\n",
            "Epoch 10/10\n",
            "----------\n",
            "Train loss: 0.3218\n",
            "Validation loss: 0.4159\n",
            "\n"
          ]
        }
      ]
    },
    {
      "cell_type": "markdown",
      "source": [
        "## Generating Lyrics using the Fine-tuned Model\n",
        "After training and evaluating our model, we can now use it to generate lyric completions. By feeding a prompt to the model, it can predict the subsequent tokens and provide suggestions for lyric continuation."
      ],
      "metadata": {
        "id": "z76VIxP19f2U"
      }
    },
    {
      "cell_type": "code",
      "source": [
        "def generate_lyrics(prompt, max_length=50):\n",
        "    input_ids = tokenizer.encode(prompt, return_tensors=\"pt\").to(device)\n",
        "    attention_mask = torch.ones(input_ids.shape, device=device)\n",
        "    output = model.generate(input_ids, attention_mask=attention_mask, max_length=max_length, temperature=0, num_return_sequences=5, num_beams=5)\n",
        "    return [tokenizer.decode(gen_code, skip_special_tokens=True, clean_up_tokenization_spaces=True) for gen_code in output]\n",
        "\n",
        "prompt = \"When I looked out my window I saw\"\n",
        "generated_codes = generate_lyrics(prompt)\n",
        "for i, code in enumerate(generated_codes):\n",
        "    print(f\"Suggestion {i + 1}:\\n{code}\\n{'-' * 50}\\n\")"
      ],
      "metadata": {
        "id": "qG9VIYxgtCdh",
        "colab": {
          "base_uri": "https://localhost:8080/"
        },
        "outputId": "72d04d2b-5acd-4aa1-9c9e-461aad5da3e4"
      },
      "execution_count": 57,
      "outputs": [
        {
          "output_type": "stream",
          "name": "stderr",
          "text": [
            "/usr/local/lib/python3.10/dist-packages/transformers/generation/configuration_utils.py:362: UserWarning: `do_sample` is set to `False`. However, `temperature` is set to `0` -- this flag is only used in sample-based generation modes. You should set `do_sample=True` or unset `temperature`.\n",
            "  warnings.warn(\n",
            "Setting `pad_token_id` to `eos_token_id`:50256 for open-end generation.\n"
          ]
        },
        {
          "output_type": "stream",
          "name": "stdout",
          "text": [
            "Suggestion 1:\n",
            "When I looked out my window I saw a man standing alone at the top of the stairs\n",
            "looking down at me from the top of the stairs\n",
            "looking down at me from the top of the stairs\n",
            "looking down at me from the top of the\n",
            "--------------------------------------------------\n",
            "\n",
            "Suggestion 2:\n",
            "When I looked out my window I saw a man standing alone at the top of the stairs\n",
            "looking down at me\n",
            "looking down at me\n",
            "looking down at me\n",
            "looking down at me\n",
            "looking down at me\n",
            "looking down at me\n",
            "looking\n",
            "--------------------------------------------------\n",
            "\n",
            "Suggestion 3:\n",
            "When I looked out my window I saw a man standing alone at the top of the stairs\n",
            "looking down at me\n",
            "looking down at me\n",
            "looking down at me\n",
            "looking down at me\n",
            "looking down at me\n",
            "looking down at me\n",
            "\n",
            "\n",
            "\n",
            "--------------------------------------------------\n",
            "\n",
            "Suggestion 4:\n",
            "When I looked out my window I saw a man standing alone at the top of the stairs\n",
            "looking down at me\n",
            "looking down at me\n",
            "looking down at me\n",
            "looking down at me\n",
            "looking down at me\n",
            "looking down at me\n",
            "--------------------------------------------------\n",
            "\n",
            "Suggestion 5:\n",
            "When I looked out my window I saw a man standing alone at the top of the stairs\n",
            "looking down at me from the top of the stairs\n",
            "looking at me from the top of the stairs\n",
            "looking down at me from the top of the stairs\n",
            "--------------------------------------------------\n",
            "\n"
          ]
        }
      ]
    },
    {
      "cell_type": "markdown",
      "source": [
        "## Repetitive Isn't It?\n",
        "Such repetition can stem from various factors like the model overfitting to certain patterns in the training data, or from nuances in the generation algorithm itself. While the model is technically doing what it's trained to do—predicting the next most likely word—it can sometimes get \"stuck\" in a loop, leading to such repetitive sequences.\n",
        "\n",
        "To address this, we need a smarter approach. One that's more aware of the context and can dynamically adapt to ensure diversity in the generated content.\n",
        "\n",
        "In the next cell, we'll introduce an improved version of our text generation function. This new function will incorporate mechanisms to detect and counteract repetitive sequences, ensuring more varied and contextually relevant outputs. Let's dive in:"
      ],
      "metadata": {
        "id": "zO6lSSLd7t26"
      }
    },
    {
      "cell_type": "code",
      "source": [
        "def generate_lyrics_with_penalty(prompt, max_length=50, repetition_penalty=0.1):\n",
        "    model.eval()  # Ensure model is in evaluation mode\n",
        "\n",
        "    # Encode the prompt and get the initial input tensor\n",
        "    input_ids = tokenizer.encode(prompt, return_tensors=\"pt\").to(device)\n",
        "\n",
        "    # Empty list to store the generated sequences\n",
        "    generated_sequences = []\n",
        "\n",
        "    for _ in range(5):  # Generate 5 sequences\n",
        "        sequence_input_ids = input_ids.clone()\n",
        "\n",
        "        # Generate tokens one-by-one\n",
        "        for _ in range(max_length):\n",
        "            with torch.no_grad():\n",
        "                outputs = model(sequence_input_ids)\n",
        "\n",
        "            # Get logits from model outputs\n",
        "            logits = outputs.logits[:, -1, :]\n",
        "\n",
        "            # Apply repetition penalty to logits of already generated tokens\n",
        "            for token_id in sequence_input_ids[0]:\n",
        "                logits[0, token_id] -= repetition_penalty\n",
        "\n",
        "            # Sample a token from the adjusted logits\n",
        "            next_token_id = torch.multinomial(torch.nn.functional.softmax(logits, dim=-1), num_samples=1).squeeze(0)\n",
        "\n",
        "            # Append the sampled token to the sequence\n",
        "            sequence_input_ids = torch.cat((sequence_input_ids, next_token_id.unsqueeze(1)), dim=1)\n",
        "\n",
        "            # Decode the generated sequence and add to the list\n",
        "            generated_sequence = tokenizer.decode(sequence_input_ids[0], skip_special_tokens=True)\n",
        "            generated_sequences.append(generated_sequence)\n",
        "\n",
        "    return generated_sequences\n",
        "\n",
        "prompt = \"When I looked out my window I saw\"\n",
        "max_length = 50\n",
        "generated_codes = generate_lyrics_with_penalty(prompt, max_length)\n",
        "for i, code in enumerate(generated_codes):\n",
        "    if (i+1) % max_length == 0:\n",
        "        print(f\"Suggestion {(i + 1)//max_length}:\\n{code}\\n{'-' * 50}\\n\")"
      ],
      "metadata": {
        "id": "L66-gzFZ9NNH",
        "colab": {
          "base_uri": "https://localhost:8080/"
        },
        "outputId": "28206ce2-aad8-4bdd-cd1d-f28000e0c04b"
      },
      "execution_count": 58,
      "outputs": [
        {
          "output_type": "stream",
          "name": "stdout",
          "text": [
            "Suggestion 1:\n",
            "When I looked out my window I saw that the rain had gone down and was a great brown,\n",
            "so dark and heavy, standing beneath the chaining of chains,\n",
            "(watches through a glass\n",
            "as he keeps on untying the horses)\n",
            "let his feet fall down upon\n",
            "--------------------------------------------------\n",
            "\n",
            "Suggestion 2:\n",
            "When I looked out my window I saw a naked goth girl lying sleeping there in the middle of the, oh, how they danced to her music\n",
            "'cause I was a crazy man\n",
            "--------------------------------------------------\n",
            "\n",
            "Suggestion 3:\n",
            "When I looked out my window I saw a bus at the turn of the posse stop, the words DAD and KS stands out in my mind as the words that my father is no more\n",
            "(haha)\n",
            "\n",
            "\n",
            "welp now look on the Microsoft point of view\n",
            "\n",
            "--------------------------------------------------\n",
            "\n",
            "Suggestion 4:\n",
            "When I looked out my window I saw a blue moon up there gone yellow and green with blue stars and the stars shine down on a yellow sunset\n",
            "some little girl has been playing at observe a house in the Garden of a live tree, a group of girl's trails come through her bed\n",
            "--------------------------------------------------\n",
            "\n",
            "Suggestion 5:\n",
            "When I looked out my window I saw the girl in blue standing on the street\n",
            "in futile hope that they would find her\n",
            "she was crying tear, would tear\n",
            "that tears be our garters and the tears of our hearts\n",
            "and we roam the and fields of Hope\n",
            "\n",
            "\n",
            "where\n",
            "--------------------------------------------------\n",
            "\n"
          ]
        }
      ]
    },
    {
      "cell_type": "markdown",
      "source": [
        "# And in the end...\n",
        "\n",
        "That's a wrap! In this PyTorch Crash Course we learned:\n",
        " - The basics of PyTorch (Tensors, Reshaping tensors, Broadcasting)\n",
        " - Building a Basic Neural Network (What are Layers?, Activation functions, Feed forward networks)\n",
        " - Building an Advanced Neural Network (CNNs, RNNs, Evaluating Models)\n",
        " - Regularization and Optimization Techniques (Dropout, Batch Normalization, Learning Rate)\n",
        " - Transfer Learning\n",
        " - Text Classification with LSTMs\n",
        " - Inference with an R-CNN Object Detection Model\n",
        " - The Basics of Saving and Loading Trained Models (ONNX, TorchServe)\n",
        " - Fine-Tuning Transformer Based Architectures (tokenizing a dataset, GPT2-Medium, text completion, repetitive token deterrence)\n",
        "\n",
        "\n",
        "And a whole lot more!\n",
        "\n",
        "Thank you to everyone who checked out this course! This notebook is provided under the MIT License, permitting you to use, adapt, and share it though still retaining the original attribution.\n",
        "\n",
        "Email: nbettencourt2020@gmail.com\n",
        "\n",
        "GitHub: https://github.com/nbetts2020\n",
        "\n",
        "LinkedIn: https://www.linkedin.com/in/nicholas-bettencourt/"
      ],
      "metadata": {
        "id": "9u4UddaD6jdP"
      }
    },
    {
      "cell_type": "code",
      "source": [],
      "metadata": {
        "id": "RP-D0EE9MVpO"
      },
      "execution_count": null,
      "outputs": []
    }
  ],
  "metadata": {
    "colab": {
      "provenance": [],
      "gpuType": "T4"
    },
    "kernelspec": {
      "display_name": "Python 3",
      "name": "python3"
    },
    "language_info": {
      "name": "python"
    },
    "accelerator": "GPU",
    "widgets": {
      "application/vnd.jupyter.widget-state+json": {
        "0f9ca0740efb4a5384358245aa0739bf": {
          "model_module": "@jupyter-widgets/controls",
          "model_name": "HBoxModel",
          "model_module_version": "1.5.0",
          "state": {
            "_dom_classes": [],
            "_model_module": "@jupyter-widgets/controls",
            "_model_module_version": "1.5.0",
            "_model_name": "HBoxModel",
            "_view_count": null,
            "_view_module": "@jupyter-widgets/controls",
            "_view_module_version": "1.5.0",
            "_view_name": "HBoxView",
            "box_style": "",
            "children": [
              "IPY_MODEL_7a9067b2fdfa4ff8938df37c96f4c275",
              "IPY_MODEL_712592fe1efe4ac288d0313d56f2e6d1",
              "IPY_MODEL_daddda71ec744a4faa8362a605f6f035"
            ],
            "layout": "IPY_MODEL_f35471e19a254edf8b2155c2db0bd895"
          }
        },
        "7a9067b2fdfa4ff8938df37c96f4c275": {
          "model_module": "@jupyter-widgets/controls",
          "model_name": "HTMLModel",
          "model_module_version": "1.5.0",
          "state": {
            "_dom_classes": [],
            "_model_module": "@jupyter-widgets/controls",
            "_model_module_version": "1.5.0",
            "_model_name": "HTMLModel",
            "_view_count": null,
            "_view_module": "@jupyter-widgets/controls",
            "_view_module_version": "1.5.0",
            "_view_name": "HTMLView",
            "description": "",
            "description_tooltip": null,
            "layout": "IPY_MODEL_4c6f1c1d614748d3bc5690a0514d5bbf",
            "placeholder": "​",
            "style": "IPY_MODEL_7e896f82264341c1b903656f225e61a9",
            "value": "Downloading (…)olve/main/vocab.json: 100%"
          }
        },
        "712592fe1efe4ac288d0313d56f2e6d1": {
          "model_module": "@jupyter-widgets/controls",
          "model_name": "FloatProgressModel",
          "model_module_version": "1.5.0",
          "state": {
            "_dom_classes": [],
            "_model_module": "@jupyter-widgets/controls",
            "_model_module_version": "1.5.0",
            "_model_name": "FloatProgressModel",
            "_view_count": null,
            "_view_module": "@jupyter-widgets/controls",
            "_view_module_version": "1.5.0",
            "_view_name": "ProgressView",
            "bar_style": "success",
            "description": "",
            "description_tooltip": null,
            "layout": "IPY_MODEL_4238b7fcea374057aa66648fe4a0a38e",
            "max": 1042301,
            "min": 0,
            "orientation": "horizontal",
            "style": "IPY_MODEL_c9e4103ccf614c40bf21269aae149fd7",
            "value": 1042301
          }
        },
        "daddda71ec744a4faa8362a605f6f035": {
          "model_module": "@jupyter-widgets/controls",
          "model_name": "HTMLModel",
          "model_module_version": "1.5.0",
          "state": {
            "_dom_classes": [],
            "_model_module": "@jupyter-widgets/controls",
            "_model_module_version": "1.5.0",
            "_model_name": "HTMLModel",
            "_view_count": null,
            "_view_module": "@jupyter-widgets/controls",
            "_view_module_version": "1.5.0",
            "_view_name": "HTMLView",
            "description": "",
            "description_tooltip": null,
            "layout": "IPY_MODEL_74483032ae6c4c00a8cc75e18fa10187",
            "placeholder": "​",
            "style": "IPY_MODEL_90de5ba3e86a47fea0013b03a2b7767c",
            "value": " 1.04M/1.04M [00:00&lt;00:00, 5.38MB/s]"
          }
        },
        "f35471e19a254edf8b2155c2db0bd895": {
          "model_module": "@jupyter-widgets/base",
          "model_name": "LayoutModel",
          "model_module_version": "1.2.0",
          "state": {
            "_model_module": "@jupyter-widgets/base",
            "_model_module_version": "1.2.0",
            "_model_name": "LayoutModel",
            "_view_count": null,
            "_view_module": "@jupyter-widgets/base",
            "_view_module_version": "1.2.0",
            "_view_name": "LayoutView",
            "align_content": null,
            "align_items": null,
            "align_self": null,
            "border": null,
            "bottom": null,
            "display": null,
            "flex": null,
            "flex_flow": null,
            "grid_area": null,
            "grid_auto_columns": null,
            "grid_auto_flow": null,
            "grid_auto_rows": null,
            "grid_column": null,
            "grid_gap": null,
            "grid_row": null,
            "grid_template_areas": null,
            "grid_template_columns": null,
            "grid_template_rows": null,
            "height": null,
            "justify_content": null,
            "justify_items": null,
            "left": null,
            "margin": null,
            "max_height": null,
            "max_width": null,
            "min_height": null,
            "min_width": null,
            "object_fit": null,
            "object_position": null,
            "order": null,
            "overflow": null,
            "overflow_x": null,
            "overflow_y": null,
            "padding": null,
            "right": null,
            "top": null,
            "visibility": null,
            "width": null
          }
        },
        "4c6f1c1d614748d3bc5690a0514d5bbf": {
          "model_module": "@jupyter-widgets/base",
          "model_name": "LayoutModel",
          "model_module_version": "1.2.0",
          "state": {
            "_model_module": "@jupyter-widgets/base",
            "_model_module_version": "1.2.0",
            "_model_name": "LayoutModel",
            "_view_count": null,
            "_view_module": "@jupyter-widgets/base",
            "_view_module_version": "1.2.0",
            "_view_name": "LayoutView",
            "align_content": null,
            "align_items": null,
            "align_self": null,
            "border": null,
            "bottom": null,
            "display": null,
            "flex": null,
            "flex_flow": null,
            "grid_area": null,
            "grid_auto_columns": null,
            "grid_auto_flow": null,
            "grid_auto_rows": null,
            "grid_column": null,
            "grid_gap": null,
            "grid_row": null,
            "grid_template_areas": null,
            "grid_template_columns": null,
            "grid_template_rows": null,
            "height": null,
            "justify_content": null,
            "justify_items": null,
            "left": null,
            "margin": null,
            "max_height": null,
            "max_width": null,
            "min_height": null,
            "min_width": null,
            "object_fit": null,
            "object_position": null,
            "order": null,
            "overflow": null,
            "overflow_x": null,
            "overflow_y": null,
            "padding": null,
            "right": null,
            "top": null,
            "visibility": null,
            "width": null
          }
        },
        "7e896f82264341c1b903656f225e61a9": {
          "model_module": "@jupyter-widgets/controls",
          "model_name": "DescriptionStyleModel",
          "model_module_version": "1.5.0",
          "state": {
            "_model_module": "@jupyter-widgets/controls",
            "_model_module_version": "1.5.0",
            "_model_name": "DescriptionStyleModel",
            "_view_count": null,
            "_view_module": "@jupyter-widgets/base",
            "_view_module_version": "1.2.0",
            "_view_name": "StyleView",
            "description_width": ""
          }
        },
        "4238b7fcea374057aa66648fe4a0a38e": {
          "model_module": "@jupyter-widgets/base",
          "model_name": "LayoutModel",
          "model_module_version": "1.2.0",
          "state": {
            "_model_module": "@jupyter-widgets/base",
            "_model_module_version": "1.2.0",
            "_model_name": "LayoutModel",
            "_view_count": null,
            "_view_module": "@jupyter-widgets/base",
            "_view_module_version": "1.2.0",
            "_view_name": "LayoutView",
            "align_content": null,
            "align_items": null,
            "align_self": null,
            "border": null,
            "bottom": null,
            "display": null,
            "flex": null,
            "flex_flow": null,
            "grid_area": null,
            "grid_auto_columns": null,
            "grid_auto_flow": null,
            "grid_auto_rows": null,
            "grid_column": null,
            "grid_gap": null,
            "grid_row": null,
            "grid_template_areas": null,
            "grid_template_columns": null,
            "grid_template_rows": null,
            "height": null,
            "justify_content": null,
            "justify_items": null,
            "left": null,
            "margin": null,
            "max_height": null,
            "max_width": null,
            "min_height": null,
            "min_width": null,
            "object_fit": null,
            "object_position": null,
            "order": null,
            "overflow": null,
            "overflow_x": null,
            "overflow_y": null,
            "padding": null,
            "right": null,
            "top": null,
            "visibility": null,
            "width": null
          }
        },
        "c9e4103ccf614c40bf21269aae149fd7": {
          "model_module": "@jupyter-widgets/controls",
          "model_name": "ProgressStyleModel",
          "model_module_version": "1.5.0",
          "state": {
            "_model_module": "@jupyter-widgets/controls",
            "_model_module_version": "1.5.0",
            "_model_name": "ProgressStyleModel",
            "_view_count": null,
            "_view_module": "@jupyter-widgets/base",
            "_view_module_version": "1.2.0",
            "_view_name": "StyleView",
            "bar_color": null,
            "description_width": ""
          }
        },
        "74483032ae6c4c00a8cc75e18fa10187": {
          "model_module": "@jupyter-widgets/base",
          "model_name": "LayoutModel",
          "model_module_version": "1.2.0",
          "state": {
            "_model_module": "@jupyter-widgets/base",
            "_model_module_version": "1.2.0",
            "_model_name": "LayoutModel",
            "_view_count": null,
            "_view_module": "@jupyter-widgets/base",
            "_view_module_version": "1.2.0",
            "_view_name": "LayoutView",
            "align_content": null,
            "align_items": null,
            "align_self": null,
            "border": null,
            "bottom": null,
            "display": null,
            "flex": null,
            "flex_flow": null,
            "grid_area": null,
            "grid_auto_columns": null,
            "grid_auto_flow": null,
            "grid_auto_rows": null,
            "grid_column": null,
            "grid_gap": null,
            "grid_row": null,
            "grid_template_areas": null,
            "grid_template_columns": null,
            "grid_template_rows": null,
            "height": null,
            "justify_content": null,
            "justify_items": null,
            "left": null,
            "margin": null,
            "max_height": null,
            "max_width": null,
            "min_height": null,
            "min_width": null,
            "object_fit": null,
            "object_position": null,
            "order": null,
            "overflow": null,
            "overflow_x": null,
            "overflow_y": null,
            "padding": null,
            "right": null,
            "top": null,
            "visibility": null,
            "width": null
          }
        },
        "90de5ba3e86a47fea0013b03a2b7767c": {
          "model_module": "@jupyter-widgets/controls",
          "model_name": "DescriptionStyleModel",
          "model_module_version": "1.5.0",
          "state": {
            "_model_module": "@jupyter-widgets/controls",
            "_model_module_version": "1.5.0",
            "_model_name": "DescriptionStyleModel",
            "_view_count": null,
            "_view_module": "@jupyter-widgets/base",
            "_view_module_version": "1.2.0",
            "_view_name": "StyleView",
            "description_width": ""
          }
        },
        "9ed0fa96267a498aae9cdd8f461c7f0d": {
          "model_module": "@jupyter-widgets/controls",
          "model_name": "HBoxModel",
          "model_module_version": "1.5.0",
          "state": {
            "_dom_classes": [],
            "_model_module": "@jupyter-widgets/controls",
            "_model_module_version": "1.5.0",
            "_model_name": "HBoxModel",
            "_view_count": null,
            "_view_module": "@jupyter-widgets/controls",
            "_view_module_version": "1.5.0",
            "_view_name": "HBoxView",
            "box_style": "",
            "children": [
              "IPY_MODEL_4551e706fa144ba8bcda71ad23d8daa4",
              "IPY_MODEL_b09fade65dc04848a32d4410412368c1",
              "IPY_MODEL_4b4cc62eedda4f708efffd9c16db3993"
            ],
            "layout": "IPY_MODEL_93e5d9e8a9644c87b8a1594ed3b2e008"
          }
        },
        "4551e706fa144ba8bcda71ad23d8daa4": {
          "model_module": "@jupyter-widgets/controls",
          "model_name": "HTMLModel",
          "model_module_version": "1.5.0",
          "state": {
            "_dom_classes": [],
            "_model_module": "@jupyter-widgets/controls",
            "_model_module_version": "1.5.0",
            "_model_name": "HTMLModel",
            "_view_count": null,
            "_view_module": "@jupyter-widgets/controls",
            "_view_module_version": "1.5.0",
            "_view_name": "HTMLView",
            "description": "",
            "description_tooltip": null,
            "layout": "IPY_MODEL_6111fb2402ce4549a882e3600400f08f",
            "placeholder": "​",
            "style": "IPY_MODEL_37ff7eb3a97e48348fa36c2ca4717c45",
            "value": "Downloading (…)olve/main/merges.txt: 100%"
          }
        },
        "b09fade65dc04848a32d4410412368c1": {
          "model_module": "@jupyter-widgets/controls",
          "model_name": "FloatProgressModel",
          "model_module_version": "1.5.0",
          "state": {
            "_dom_classes": [],
            "_model_module": "@jupyter-widgets/controls",
            "_model_module_version": "1.5.0",
            "_model_name": "FloatProgressModel",
            "_view_count": null,
            "_view_module": "@jupyter-widgets/controls",
            "_view_module_version": "1.5.0",
            "_view_name": "ProgressView",
            "bar_style": "success",
            "description": "",
            "description_tooltip": null,
            "layout": "IPY_MODEL_45325a493cca40c2888ef751e259c491",
            "max": 456318,
            "min": 0,
            "orientation": "horizontal",
            "style": "IPY_MODEL_ea0bd01704244edaa23153d91fadff24",
            "value": 456318
          }
        },
        "4b4cc62eedda4f708efffd9c16db3993": {
          "model_module": "@jupyter-widgets/controls",
          "model_name": "HTMLModel",
          "model_module_version": "1.5.0",
          "state": {
            "_dom_classes": [],
            "_model_module": "@jupyter-widgets/controls",
            "_model_module_version": "1.5.0",
            "_model_name": "HTMLModel",
            "_view_count": null,
            "_view_module": "@jupyter-widgets/controls",
            "_view_module_version": "1.5.0",
            "_view_name": "HTMLView",
            "description": "",
            "description_tooltip": null,
            "layout": "IPY_MODEL_09b785616bac4828822c973e2795bee0",
            "placeholder": "​",
            "style": "IPY_MODEL_ec7794240fe94f179a7e55fc1e91f242",
            "value": " 456k/456k [00:00&lt;00:00, 2.34MB/s]"
          }
        },
        "93e5d9e8a9644c87b8a1594ed3b2e008": {
          "model_module": "@jupyter-widgets/base",
          "model_name": "LayoutModel",
          "model_module_version": "1.2.0",
          "state": {
            "_model_module": "@jupyter-widgets/base",
            "_model_module_version": "1.2.0",
            "_model_name": "LayoutModel",
            "_view_count": null,
            "_view_module": "@jupyter-widgets/base",
            "_view_module_version": "1.2.0",
            "_view_name": "LayoutView",
            "align_content": null,
            "align_items": null,
            "align_self": null,
            "border": null,
            "bottom": null,
            "display": null,
            "flex": null,
            "flex_flow": null,
            "grid_area": null,
            "grid_auto_columns": null,
            "grid_auto_flow": null,
            "grid_auto_rows": null,
            "grid_column": null,
            "grid_gap": null,
            "grid_row": null,
            "grid_template_areas": null,
            "grid_template_columns": null,
            "grid_template_rows": null,
            "height": null,
            "justify_content": null,
            "justify_items": null,
            "left": null,
            "margin": null,
            "max_height": null,
            "max_width": null,
            "min_height": null,
            "min_width": null,
            "object_fit": null,
            "object_position": null,
            "order": null,
            "overflow": null,
            "overflow_x": null,
            "overflow_y": null,
            "padding": null,
            "right": null,
            "top": null,
            "visibility": null,
            "width": null
          }
        },
        "6111fb2402ce4549a882e3600400f08f": {
          "model_module": "@jupyter-widgets/base",
          "model_name": "LayoutModel",
          "model_module_version": "1.2.0",
          "state": {
            "_model_module": "@jupyter-widgets/base",
            "_model_module_version": "1.2.0",
            "_model_name": "LayoutModel",
            "_view_count": null,
            "_view_module": "@jupyter-widgets/base",
            "_view_module_version": "1.2.0",
            "_view_name": "LayoutView",
            "align_content": null,
            "align_items": null,
            "align_self": null,
            "border": null,
            "bottom": null,
            "display": null,
            "flex": null,
            "flex_flow": null,
            "grid_area": null,
            "grid_auto_columns": null,
            "grid_auto_flow": null,
            "grid_auto_rows": null,
            "grid_column": null,
            "grid_gap": null,
            "grid_row": null,
            "grid_template_areas": null,
            "grid_template_columns": null,
            "grid_template_rows": null,
            "height": null,
            "justify_content": null,
            "justify_items": null,
            "left": null,
            "margin": null,
            "max_height": null,
            "max_width": null,
            "min_height": null,
            "min_width": null,
            "object_fit": null,
            "object_position": null,
            "order": null,
            "overflow": null,
            "overflow_x": null,
            "overflow_y": null,
            "padding": null,
            "right": null,
            "top": null,
            "visibility": null,
            "width": null
          }
        },
        "37ff7eb3a97e48348fa36c2ca4717c45": {
          "model_module": "@jupyter-widgets/controls",
          "model_name": "DescriptionStyleModel",
          "model_module_version": "1.5.0",
          "state": {
            "_model_module": "@jupyter-widgets/controls",
            "_model_module_version": "1.5.0",
            "_model_name": "DescriptionStyleModel",
            "_view_count": null,
            "_view_module": "@jupyter-widgets/base",
            "_view_module_version": "1.2.0",
            "_view_name": "StyleView",
            "description_width": ""
          }
        },
        "45325a493cca40c2888ef751e259c491": {
          "model_module": "@jupyter-widgets/base",
          "model_name": "LayoutModel",
          "model_module_version": "1.2.0",
          "state": {
            "_model_module": "@jupyter-widgets/base",
            "_model_module_version": "1.2.0",
            "_model_name": "LayoutModel",
            "_view_count": null,
            "_view_module": "@jupyter-widgets/base",
            "_view_module_version": "1.2.0",
            "_view_name": "LayoutView",
            "align_content": null,
            "align_items": null,
            "align_self": null,
            "border": null,
            "bottom": null,
            "display": null,
            "flex": null,
            "flex_flow": null,
            "grid_area": null,
            "grid_auto_columns": null,
            "grid_auto_flow": null,
            "grid_auto_rows": null,
            "grid_column": null,
            "grid_gap": null,
            "grid_row": null,
            "grid_template_areas": null,
            "grid_template_columns": null,
            "grid_template_rows": null,
            "height": null,
            "justify_content": null,
            "justify_items": null,
            "left": null,
            "margin": null,
            "max_height": null,
            "max_width": null,
            "min_height": null,
            "min_width": null,
            "object_fit": null,
            "object_position": null,
            "order": null,
            "overflow": null,
            "overflow_x": null,
            "overflow_y": null,
            "padding": null,
            "right": null,
            "top": null,
            "visibility": null,
            "width": null
          }
        },
        "ea0bd01704244edaa23153d91fadff24": {
          "model_module": "@jupyter-widgets/controls",
          "model_name": "ProgressStyleModel",
          "model_module_version": "1.5.0",
          "state": {
            "_model_module": "@jupyter-widgets/controls",
            "_model_module_version": "1.5.0",
            "_model_name": "ProgressStyleModel",
            "_view_count": null,
            "_view_module": "@jupyter-widgets/base",
            "_view_module_version": "1.2.0",
            "_view_name": "StyleView",
            "bar_color": null,
            "description_width": ""
          }
        },
        "09b785616bac4828822c973e2795bee0": {
          "model_module": "@jupyter-widgets/base",
          "model_name": "LayoutModel",
          "model_module_version": "1.2.0",
          "state": {
            "_model_module": "@jupyter-widgets/base",
            "_model_module_version": "1.2.0",
            "_model_name": "LayoutModel",
            "_view_count": null,
            "_view_module": "@jupyter-widgets/base",
            "_view_module_version": "1.2.0",
            "_view_name": "LayoutView",
            "align_content": null,
            "align_items": null,
            "align_self": null,
            "border": null,
            "bottom": null,
            "display": null,
            "flex": null,
            "flex_flow": null,
            "grid_area": null,
            "grid_auto_columns": null,
            "grid_auto_flow": null,
            "grid_auto_rows": null,
            "grid_column": null,
            "grid_gap": null,
            "grid_row": null,
            "grid_template_areas": null,
            "grid_template_columns": null,
            "grid_template_rows": null,
            "height": null,
            "justify_content": null,
            "justify_items": null,
            "left": null,
            "margin": null,
            "max_height": null,
            "max_width": null,
            "min_height": null,
            "min_width": null,
            "object_fit": null,
            "object_position": null,
            "order": null,
            "overflow": null,
            "overflow_x": null,
            "overflow_y": null,
            "padding": null,
            "right": null,
            "top": null,
            "visibility": null,
            "width": null
          }
        },
        "ec7794240fe94f179a7e55fc1e91f242": {
          "model_module": "@jupyter-widgets/controls",
          "model_name": "DescriptionStyleModel",
          "model_module_version": "1.5.0",
          "state": {
            "_model_module": "@jupyter-widgets/controls",
            "_model_module_version": "1.5.0",
            "_model_name": "DescriptionStyleModel",
            "_view_count": null,
            "_view_module": "@jupyter-widgets/base",
            "_view_module_version": "1.2.0",
            "_view_name": "StyleView",
            "description_width": ""
          }
        },
        "6e6f1890a4614b39bed3e62cac74403e": {
          "model_module": "@jupyter-widgets/controls",
          "model_name": "HBoxModel",
          "model_module_version": "1.5.0",
          "state": {
            "_dom_classes": [],
            "_model_module": "@jupyter-widgets/controls",
            "_model_module_version": "1.5.0",
            "_model_name": "HBoxModel",
            "_view_count": null,
            "_view_module": "@jupyter-widgets/controls",
            "_view_module_version": "1.5.0",
            "_view_name": "HBoxView",
            "box_style": "",
            "children": [
              "IPY_MODEL_78979a6ea707477c9ed9865930120c31",
              "IPY_MODEL_793b3644a5e24c849eddfc640ca67958",
              "IPY_MODEL_897fbe282809487d867dfe8b0ce3cf66"
            ],
            "layout": "IPY_MODEL_f5c030f0330b497481160f3332c2390b"
          }
        },
        "78979a6ea707477c9ed9865930120c31": {
          "model_module": "@jupyter-widgets/controls",
          "model_name": "HTMLModel",
          "model_module_version": "1.5.0",
          "state": {
            "_dom_classes": [],
            "_model_module": "@jupyter-widgets/controls",
            "_model_module_version": "1.5.0",
            "_model_name": "HTMLModel",
            "_view_count": null,
            "_view_module": "@jupyter-widgets/controls",
            "_view_module_version": "1.5.0",
            "_view_name": "HTMLView",
            "description": "",
            "description_tooltip": null,
            "layout": "IPY_MODEL_70e506f20dfd46e29f047f842126984b",
            "placeholder": "​",
            "style": "IPY_MODEL_4b05c2809ec74af895963d76342bf5bc",
            "value": "Downloading (…)lve/main/config.json: 100%"
          }
        },
        "793b3644a5e24c849eddfc640ca67958": {
          "model_module": "@jupyter-widgets/controls",
          "model_name": "FloatProgressModel",
          "model_module_version": "1.5.0",
          "state": {
            "_dom_classes": [],
            "_model_module": "@jupyter-widgets/controls",
            "_model_module_version": "1.5.0",
            "_model_name": "FloatProgressModel",
            "_view_count": null,
            "_view_module": "@jupyter-widgets/controls",
            "_view_module_version": "1.5.0",
            "_view_name": "ProgressView",
            "bar_style": "success",
            "description": "",
            "description_tooltip": null,
            "layout": "IPY_MODEL_e22fe9b5d63442c1880415246b368e6e",
            "max": 718,
            "min": 0,
            "orientation": "horizontal",
            "style": "IPY_MODEL_9c7433a0f5034cc7963d16b1bdb6f57f",
            "value": 718
          }
        },
        "897fbe282809487d867dfe8b0ce3cf66": {
          "model_module": "@jupyter-widgets/controls",
          "model_name": "HTMLModel",
          "model_module_version": "1.5.0",
          "state": {
            "_dom_classes": [],
            "_model_module": "@jupyter-widgets/controls",
            "_model_module_version": "1.5.0",
            "_model_name": "HTMLModel",
            "_view_count": null,
            "_view_module": "@jupyter-widgets/controls",
            "_view_module_version": "1.5.0",
            "_view_name": "HTMLView",
            "description": "",
            "description_tooltip": null,
            "layout": "IPY_MODEL_b039dcc2f1c349efb979f3994fa6e671",
            "placeholder": "​",
            "style": "IPY_MODEL_5b05e50d87dd4fb4855423f5f4b58c21",
            "value": " 718/718 [00:00&lt;00:00, 51.8kB/s]"
          }
        },
        "f5c030f0330b497481160f3332c2390b": {
          "model_module": "@jupyter-widgets/base",
          "model_name": "LayoutModel",
          "model_module_version": "1.2.0",
          "state": {
            "_model_module": "@jupyter-widgets/base",
            "_model_module_version": "1.2.0",
            "_model_name": "LayoutModel",
            "_view_count": null,
            "_view_module": "@jupyter-widgets/base",
            "_view_module_version": "1.2.0",
            "_view_name": "LayoutView",
            "align_content": null,
            "align_items": null,
            "align_self": null,
            "border": null,
            "bottom": null,
            "display": null,
            "flex": null,
            "flex_flow": null,
            "grid_area": null,
            "grid_auto_columns": null,
            "grid_auto_flow": null,
            "grid_auto_rows": null,
            "grid_column": null,
            "grid_gap": null,
            "grid_row": null,
            "grid_template_areas": null,
            "grid_template_columns": null,
            "grid_template_rows": null,
            "height": null,
            "justify_content": null,
            "justify_items": null,
            "left": null,
            "margin": null,
            "max_height": null,
            "max_width": null,
            "min_height": null,
            "min_width": null,
            "object_fit": null,
            "object_position": null,
            "order": null,
            "overflow": null,
            "overflow_x": null,
            "overflow_y": null,
            "padding": null,
            "right": null,
            "top": null,
            "visibility": null,
            "width": null
          }
        },
        "70e506f20dfd46e29f047f842126984b": {
          "model_module": "@jupyter-widgets/base",
          "model_name": "LayoutModel",
          "model_module_version": "1.2.0",
          "state": {
            "_model_module": "@jupyter-widgets/base",
            "_model_module_version": "1.2.0",
            "_model_name": "LayoutModel",
            "_view_count": null,
            "_view_module": "@jupyter-widgets/base",
            "_view_module_version": "1.2.0",
            "_view_name": "LayoutView",
            "align_content": null,
            "align_items": null,
            "align_self": null,
            "border": null,
            "bottom": null,
            "display": null,
            "flex": null,
            "flex_flow": null,
            "grid_area": null,
            "grid_auto_columns": null,
            "grid_auto_flow": null,
            "grid_auto_rows": null,
            "grid_column": null,
            "grid_gap": null,
            "grid_row": null,
            "grid_template_areas": null,
            "grid_template_columns": null,
            "grid_template_rows": null,
            "height": null,
            "justify_content": null,
            "justify_items": null,
            "left": null,
            "margin": null,
            "max_height": null,
            "max_width": null,
            "min_height": null,
            "min_width": null,
            "object_fit": null,
            "object_position": null,
            "order": null,
            "overflow": null,
            "overflow_x": null,
            "overflow_y": null,
            "padding": null,
            "right": null,
            "top": null,
            "visibility": null,
            "width": null
          }
        },
        "4b05c2809ec74af895963d76342bf5bc": {
          "model_module": "@jupyter-widgets/controls",
          "model_name": "DescriptionStyleModel",
          "model_module_version": "1.5.0",
          "state": {
            "_model_module": "@jupyter-widgets/controls",
            "_model_module_version": "1.5.0",
            "_model_name": "DescriptionStyleModel",
            "_view_count": null,
            "_view_module": "@jupyter-widgets/base",
            "_view_module_version": "1.2.0",
            "_view_name": "StyleView",
            "description_width": ""
          }
        },
        "e22fe9b5d63442c1880415246b368e6e": {
          "model_module": "@jupyter-widgets/base",
          "model_name": "LayoutModel",
          "model_module_version": "1.2.0",
          "state": {
            "_model_module": "@jupyter-widgets/base",
            "_model_module_version": "1.2.0",
            "_model_name": "LayoutModel",
            "_view_count": null,
            "_view_module": "@jupyter-widgets/base",
            "_view_module_version": "1.2.0",
            "_view_name": "LayoutView",
            "align_content": null,
            "align_items": null,
            "align_self": null,
            "border": null,
            "bottom": null,
            "display": null,
            "flex": null,
            "flex_flow": null,
            "grid_area": null,
            "grid_auto_columns": null,
            "grid_auto_flow": null,
            "grid_auto_rows": null,
            "grid_column": null,
            "grid_gap": null,
            "grid_row": null,
            "grid_template_areas": null,
            "grid_template_columns": null,
            "grid_template_rows": null,
            "height": null,
            "justify_content": null,
            "justify_items": null,
            "left": null,
            "margin": null,
            "max_height": null,
            "max_width": null,
            "min_height": null,
            "min_width": null,
            "object_fit": null,
            "object_position": null,
            "order": null,
            "overflow": null,
            "overflow_x": null,
            "overflow_y": null,
            "padding": null,
            "right": null,
            "top": null,
            "visibility": null,
            "width": null
          }
        },
        "9c7433a0f5034cc7963d16b1bdb6f57f": {
          "model_module": "@jupyter-widgets/controls",
          "model_name": "ProgressStyleModel",
          "model_module_version": "1.5.0",
          "state": {
            "_model_module": "@jupyter-widgets/controls",
            "_model_module_version": "1.5.0",
            "_model_name": "ProgressStyleModel",
            "_view_count": null,
            "_view_module": "@jupyter-widgets/base",
            "_view_module_version": "1.2.0",
            "_view_name": "StyleView",
            "bar_color": null,
            "description_width": ""
          }
        },
        "b039dcc2f1c349efb979f3994fa6e671": {
          "model_module": "@jupyter-widgets/base",
          "model_name": "LayoutModel",
          "model_module_version": "1.2.0",
          "state": {
            "_model_module": "@jupyter-widgets/base",
            "_model_module_version": "1.2.0",
            "_model_name": "LayoutModel",
            "_view_count": null,
            "_view_module": "@jupyter-widgets/base",
            "_view_module_version": "1.2.0",
            "_view_name": "LayoutView",
            "align_content": null,
            "align_items": null,
            "align_self": null,
            "border": null,
            "bottom": null,
            "display": null,
            "flex": null,
            "flex_flow": null,
            "grid_area": null,
            "grid_auto_columns": null,
            "grid_auto_flow": null,
            "grid_auto_rows": null,
            "grid_column": null,
            "grid_gap": null,
            "grid_row": null,
            "grid_template_areas": null,
            "grid_template_columns": null,
            "grid_template_rows": null,
            "height": null,
            "justify_content": null,
            "justify_items": null,
            "left": null,
            "margin": null,
            "max_height": null,
            "max_width": null,
            "min_height": null,
            "min_width": null,
            "object_fit": null,
            "object_position": null,
            "order": null,
            "overflow": null,
            "overflow_x": null,
            "overflow_y": null,
            "padding": null,
            "right": null,
            "top": null,
            "visibility": null,
            "width": null
          }
        },
        "5b05e50d87dd4fb4855423f5f4b58c21": {
          "model_module": "@jupyter-widgets/controls",
          "model_name": "DescriptionStyleModel",
          "model_module_version": "1.5.0",
          "state": {
            "_model_module": "@jupyter-widgets/controls",
            "_model_module_version": "1.5.0",
            "_model_name": "DescriptionStyleModel",
            "_view_count": null,
            "_view_module": "@jupyter-widgets/base",
            "_view_module_version": "1.2.0",
            "_view_name": "StyleView",
            "description_width": ""
          }
        },
        "c338804f0ff94304aa95f29901aa7dae": {
          "model_module": "@jupyter-widgets/controls",
          "model_name": "HBoxModel",
          "model_module_version": "1.5.0",
          "state": {
            "_dom_classes": [],
            "_model_module": "@jupyter-widgets/controls",
            "_model_module_version": "1.5.0",
            "_model_name": "HBoxModel",
            "_view_count": null,
            "_view_module": "@jupyter-widgets/controls",
            "_view_module_version": "1.5.0",
            "_view_name": "HBoxView",
            "box_style": "",
            "children": [
              "IPY_MODEL_5258265757ff479889c6f818325a533b",
              "IPY_MODEL_5c7a4844e9574b57bf5be9d92d9a209f",
              "IPY_MODEL_d79497bc5cbb43b185c85eb9be4bca93"
            ],
            "layout": "IPY_MODEL_dfd535b60d6f464ebc93ca77b7b1e5c7"
          }
        },
        "5258265757ff479889c6f818325a533b": {
          "model_module": "@jupyter-widgets/controls",
          "model_name": "HTMLModel",
          "model_module_version": "1.5.0",
          "state": {
            "_dom_classes": [],
            "_model_module": "@jupyter-widgets/controls",
            "_model_module_version": "1.5.0",
            "_model_name": "HTMLModel",
            "_view_count": null,
            "_view_module": "@jupyter-widgets/controls",
            "_view_module_version": "1.5.0",
            "_view_name": "HTMLView",
            "description": "",
            "description_tooltip": null,
            "layout": "IPY_MODEL_2c5acb7efe02466faa398e9d6d6f1189",
            "placeholder": "​",
            "style": "IPY_MODEL_ae60a91d96084ed1b5ed15bf3e27c854",
            "value": "Downloading model.safetensors: 100%"
          }
        },
        "5c7a4844e9574b57bf5be9d92d9a209f": {
          "model_module": "@jupyter-widgets/controls",
          "model_name": "FloatProgressModel",
          "model_module_version": "1.5.0",
          "state": {
            "_dom_classes": [],
            "_model_module": "@jupyter-widgets/controls",
            "_model_module_version": "1.5.0",
            "_model_name": "FloatProgressModel",
            "_view_count": null,
            "_view_module": "@jupyter-widgets/controls",
            "_view_module_version": "1.5.0",
            "_view_name": "ProgressView",
            "bar_style": "success",
            "description": "",
            "description_tooltip": null,
            "layout": "IPY_MODEL_c2011bba6e6e496ba29c3a2f54a53800",
            "max": 1519984962,
            "min": 0,
            "orientation": "horizontal",
            "style": "IPY_MODEL_f8d5f2a62c8d4071ae4328ec7e091daf",
            "value": 1519984962
          }
        },
        "d79497bc5cbb43b185c85eb9be4bca93": {
          "model_module": "@jupyter-widgets/controls",
          "model_name": "HTMLModel",
          "model_module_version": "1.5.0",
          "state": {
            "_dom_classes": [],
            "_model_module": "@jupyter-widgets/controls",
            "_model_module_version": "1.5.0",
            "_model_name": "HTMLModel",
            "_view_count": null,
            "_view_module": "@jupyter-widgets/controls",
            "_view_module_version": "1.5.0",
            "_view_name": "HTMLView",
            "description": "",
            "description_tooltip": null,
            "layout": "IPY_MODEL_06698355351648fc9e5f29da23f41e63",
            "placeholder": "​",
            "style": "IPY_MODEL_f1d8380f00c74ec1817aa88d666f13cc",
            "value": " 1.52G/1.52G [00:15&lt;00:00, 156MB/s]"
          }
        },
        "dfd535b60d6f464ebc93ca77b7b1e5c7": {
          "model_module": "@jupyter-widgets/base",
          "model_name": "LayoutModel",
          "model_module_version": "1.2.0",
          "state": {
            "_model_module": "@jupyter-widgets/base",
            "_model_module_version": "1.2.0",
            "_model_name": "LayoutModel",
            "_view_count": null,
            "_view_module": "@jupyter-widgets/base",
            "_view_module_version": "1.2.0",
            "_view_name": "LayoutView",
            "align_content": null,
            "align_items": null,
            "align_self": null,
            "border": null,
            "bottom": null,
            "display": null,
            "flex": null,
            "flex_flow": null,
            "grid_area": null,
            "grid_auto_columns": null,
            "grid_auto_flow": null,
            "grid_auto_rows": null,
            "grid_column": null,
            "grid_gap": null,
            "grid_row": null,
            "grid_template_areas": null,
            "grid_template_columns": null,
            "grid_template_rows": null,
            "height": null,
            "justify_content": null,
            "justify_items": null,
            "left": null,
            "margin": null,
            "max_height": null,
            "max_width": null,
            "min_height": null,
            "min_width": null,
            "object_fit": null,
            "object_position": null,
            "order": null,
            "overflow": null,
            "overflow_x": null,
            "overflow_y": null,
            "padding": null,
            "right": null,
            "top": null,
            "visibility": null,
            "width": null
          }
        },
        "2c5acb7efe02466faa398e9d6d6f1189": {
          "model_module": "@jupyter-widgets/base",
          "model_name": "LayoutModel",
          "model_module_version": "1.2.0",
          "state": {
            "_model_module": "@jupyter-widgets/base",
            "_model_module_version": "1.2.0",
            "_model_name": "LayoutModel",
            "_view_count": null,
            "_view_module": "@jupyter-widgets/base",
            "_view_module_version": "1.2.0",
            "_view_name": "LayoutView",
            "align_content": null,
            "align_items": null,
            "align_self": null,
            "border": null,
            "bottom": null,
            "display": null,
            "flex": null,
            "flex_flow": null,
            "grid_area": null,
            "grid_auto_columns": null,
            "grid_auto_flow": null,
            "grid_auto_rows": null,
            "grid_column": null,
            "grid_gap": null,
            "grid_row": null,
            "grid_template_areas": null,
            "grid_template_columns": null,
            "grid_template_rows": null,
            "height": null,
            "justify_content": null,
            "justify_items": null,
            "left": null,
            "margin": null,
            "max_height": null,
            "max_width": null,
            "min_height": null,
            "min_width": null,
            "object_fit": null,
            "object_position": null,
            "order": null,
            "overflow": null,
            "overflow_x": null,
            "overflow_y": null,
            "padding": null,
            "right": null,
            "top": null,
            "visibility": null,
            "width": null
          }
        },
        "ae60a91d96084ed1b5ed15bf3e27c854": {
          "model_module": "@jupyter-widgets/controls",
          "model_name": "DescriptionStyleModel",
          "model_module_version": "1.5.0",
          "state": {
            "_model_module": "@jupyter-widgets/controls",
            "_model_module_version": "1.5.0",
            "_model_name": "DescriptionStyleModel",
            "_view_count": null,
            "_view_module": "@jupyter-widgets/base",
            "_view_module_version": "1.2.0",
            "_view_name": "StyleView",
            "description_width": ""
          }
        },
        "c2011bba6e6e496ba29c3a2f54a53800": {
          "model_module": "@jupyter-widgets/base",
          "model_name": "LayoutModel",
          "model_module_version": "1.2.0",
          "state": {
            "_model_module": "@jupyter-widgets/base",
            "_model_module_version": "1.2.0",
            "_model_name": "LayoutModel",
            "_view_count": null,
            "_view_module": "@jupyter-widgets/base",
            "_view_module_version": "1.2.0",
            "_view_name": "LayoutView",
            "align_content": null,
            "align_items": null,
            "align_self": null,
            "border": null,
            "bottom": null,
            "display": null,
            "flex": null,
            "flex_flow": null,
            "grid_area": null,
            "grid_auto_columns": null,
            "grid_auto_flow": null,
            "grid_auto_rows": null,
            "grid_column": null,
            "grid_gap": null,
            "grid_row": null,
            "grid_template_areas": null,
            "grid_template_columns": null,
            "grid_template_rows": null,
            "height": null,
            "justify_content": null,
            "justify_items": null,
            "left": null,
            "margin": null,
            "max_height": null,
            "max_width": null,
            "min_height": null,
            "min_width": null,
            "object_fit": null,
            "object_position": null,
            "order": null,
            "overflow": null,
            "overflow_x": null,
            "overflow_y": null,
            "padding": null,
            "right": null,
            "top": null,
            "visibility": null,
            "width": null
          }
        },
        "f8d5f2a62c8d4071ae4328ec7e091daf": {
          "model_module": "@jupyter-widgets/controls",
          "model_name": "ProgressStyleModel",
          "model_module_version": "1.5.0",
          "state": {
            "_model_module": "@jupyter-widgets/controls",
            "_model_module_version": "1.5.0",
            "_model_name": "ProgressStyleModel",
            "_view_count": null,
            "_view_module": "@jupyter-widgets/base",
            "_view_module_version": "1.2.0",
            "_view_name": "StyleView",
            "bar_color": null,
            "description_width": ""
          }
        },
        "06698355351648fc9e5f29da23f41e63": {
          "model_module": "@jupyter-widgets/base",
          "model_name": "LayoutModel",
          "model_module_version": "1.2.0",
          "state": {
            "_model_module": "@jupyter-widgets/base",
            "_model_module_version": "1.2.0",
            "_model_name": "LayoutModel",
            "_view_count": null,
            "_view_module": "@jupyter-widgets/base",
            "_view_module_version": "1.2.0",
            "_view_name": "LayoutView",
            "align_content": null,
            "align_items": null,
            "align_self": null,
            "border": null,
            "bottom": null,
            "display": null,
            "flex": null,
            "flex_flow": null,
            "grid_area": null,
            "grid_auto_columns": null,
            "grid_auto_flow": null,
            "grid_auto_rows": null,
            "grid_column": null,
            "grid_gap": null,
            "grid_row": null,
            "grid_template_areas": null,
            "grid_template_columns": null,
            "grid_template_rows": null,
            "height": null,
            "justify_content": null,
            "justify_items": null,
            "left": null,
            "margin": null,
            "max_height": null,
            "max_width": null,
            "min_height": null,
            "min_width": null,
            "object_fit": null,
            "object_position": null,
            "order": null,
            "overflow": null,
            "overflow_x": null,
            "overflow_y": null,
            "padding": null,
            "right": null,
            "top": null,
            "visibility": null,
            "width": null
          }
        },
        "f1d8380f00c74ec1817aa88d666f13cc": {
          "model_module": "@jupyter-widgets/controls",
          "model_name": "DescriptionStyleModel",
          "model_module_version": "1.5.0",
          "state": {
            "_model_module": "@jupyter-widgets/controls",
            "_model_module_version": "1.5.0",
            "_model_name": "DescriptionStyleModel",
            "_view_count": null,
            "_view_module": "@jupyter-widgets/base",
            "_view_module_version": "1.2.0",
            "_view_name": "StyleView",
            "description_width": ""
          }
        },
        "9da480e4a8b64d3d84f3f73ee4208f7e": {
          "model_module": "@jupyter-widgets/controls",
          "model_name": "HBoxModel",
          "model_module_version": "1.5.0",
          "state": {
            "_dom_classes": [],
            "_model_module": "@jupyter-widgets/controls",
            "_model_module_version": "1.5.0",
            "_model_name": "HBoxModel",
            "_view_count": null,
            "_view_module": "@jupyter-widgets/controls",
            "_view_module_version": "1.5.0",
            "_view_name": "HBoxView",
            "box_style": "",
            "children": [
              "IPY_MODEL_aeb0020b3c5c4c828a56d4430d906c04",
              "IPY_MODEL_7639bf8ca54a49f8ae43d27fe5c19f1a",
              "IPY_MODEL_2fefa1ec2d9a42c986efbf56e43fa7a4"
            ],
            "layout": "IPY_MODEL_4caad6d2bf724a318a68a6f7d6beb13a"
          }
        },
        "aeb0020b3c5c4c828a56d4430d906c04": {
          "model_module": "@jupyter-widgets/controls",
          "model_name": "HTMLModel",
          "model_module_version": "1.5.0",
          "state": {
            "_dom_classes": [],
            "_model_module": "@jupyter-widgets/controls",
            "_model_module_version": "1.5.0",
            "_model_name": "HTMLModel",
            "_view_count": null,
            "_view_module": "@jupyter-widgets/controls",
            "_view_module_version": "1.5.0",
            "_view_name": "HTMLView",
            "description": "",
            "description_tooltip": null,
            "layout": "IPY_MODEL_f76c097f403b4c968f5442f104e21d9d",
            "placeholder": "​",
            "style": "IPY_MODEL_d9b2bba35fec4cb1b171fedb1c1eace9",
            "value": "Downloading (…)neration_config.json: 100%"
          }
        },
        "7639bf8ca54a49f8ae43d27fe5c19f1a": {
          "model_module": "@jupyter-widgets/controls",
          "model_name": "FloatProgressModel",
          "model_module_version": "1.5.0",
          "state": {
            "_dom_classes": [],
            "_model_module": "@jupyter-widgets/controls",
            "_model_module_version": "1.5.0",
            "_model_name": "FloatProgressModel",
            "_view_count": null,
            "_view_module": "@jupyter-widgets/controls",
            "_view_module_version": "1.5.0",
            "_view_name": "ProgressView",
            "bar_style": "success",
            "description": "",
            "description_tooltip": null,
            "layout": "IPY_MODEL_eea248b3437045b8949f82cf5e2201f5",
            "max": 124,
            "min": 0,
            "orientation": "horizontal",
            "style": "IPY_MODEL_25184f79f50f4a9c952e5a4c011b8f88",
            "value": 124
          }
        },
        "2fefa1ec2d9a42c986efbf56e43fa7a4": {
          "model_module": "@jupyter-widgets/controls",
          "model_name": "HTMLModel",
          "model_module_version": "1.5.0",
          "state": {
            "_dom_classes": [],
            "_model_module": "@jupyter-widgets/controls",
            "_model_module_version": "1.5.0",
            "_model_name": "HTMLModel",
            "_view_count": null,
            "_view_module": "@jupyter-widgets/controls",
            "_view_module_version": "1.5.0",
            "_view_name": "HTMLView",
            "description": "",
            "description_tooltip": null,
            "layout": "IPY_MODEL_c58f5b0cac86458cb8d1940ec3aa941f",
            "placeholder": "​",
            "style": "IPY_MODEL_4449088c3d26458ab0bc6769a1c925e9",
            "value": " 124/124 [00:00&lt;00:00, 3.22kB/s]"
          }
        },
        "4caad6d2bf724a318a68a6f7d6beb13a": {
          "model_module": "@jupyter-widgets/base",
          "model_name": "LayoutModel",
          "model_module_version": "1.2.0",
          "state": {
            "_model_module": "@jupyter-widgets/base",
            "_model_module_version": "1.2.0",
            "_model_name": "LayoutModel",
            "_view_count": null,
            "_view_module": "@jupyter-widgets/base",
            "_view_module_version": "1.2.0",
            "_view_name": "LayoutView",
            "align_content": null,
            "align_items": null,
            "align_self": null,
            "border": null,
            "bottom": null,
            "display": null,
            "flex": null,
            "flex_flow": null,
            "grid_area": null,
            "grid_auto_columns": null,
            "grid_auto_flow": null,
            "grid_auto_rows": null,
            "grid_column": null,
            "grid_gap": null,
            "grid_row": null,
            "grid_template_areas": null,
            "grid_template_columns": null,
            "grid_template_rows": null,
            "height": null,
            "justify_content": null,
            "justify_items": null,
            "left": null,
            "margin": null,
            "max_height": null,
            "max_width": null,
            "min_height": null,
            "min_width": null,
            "object_fit": null,
            "object_position": null,
            "order": null,
            "overflow": null,
            "overflow_x": null,
            "overflow_y": null,
            "padding": null,
            "right": null,
            "top": null,
            "visibility": null,
            "width": null
          }
        },
        "f76c097f403b4c968f5442f104e21d9d": {
          "model_module": "@jupyter-widgets/base",
          "model_name": "LayoutModel",
          "model_module_version": "1.2.0",
          "state": {
            "_model_module": "@jupyter-widgets/base",
            "_model_module_version": "1.2.0",
            "_model_name": "LayoutModel",
            "_view_count": null,
            "_view_module": "@jupyter-widgets/base",
            "_view_module_version": "1.2.0",
            "_view_name": "LayoutView",
            "align_content": null,
            "align_items": null,
            "align_self": null,
            "border": null,
            "bottom": null,
            "display": null,
            "flex": null,
            "flex_flow": null,
            "grid_area": null,
            "grid_auto_columns": null,
            "grid_auto_flow": null,
            "grid_auto_rows": null,
            "grid_column": null,
            "grid_gap": null,
            "grid_row": null,
            "grid_template_areas": null,
            "grid_template_columns": null,
            "grid_template_rows": null,
            "height": null,
            "justify_content": null,
            "justify_items": null,
            "left": null,
            "margin": null,
            "max_height": null,
            "max_width": null,
            "min_height": null,
            "min_width": null,
            "object_fit": null,
            "object_position": null,
            "order": null,
            "overflow": null,
            "overflow_x": null,
            "overflow_y": null,
            "padding": null,
            "right": null,
            "top": null,
            "visibility": null,
            "width": null
          }
        },
        "d9b2bba35fec4cb1b171fedb1c1eace9": {
          "model_module": "@jupyter-widgets/controls",
          "model_name": "DescriptionStyleModel",
          "model_module_version": "1.5.0",
          "state": {
            "_model_module": "@jupyter-widgets/controls",
            "_model_module_version": "1.5.0",
            "_model_name": "DescriptionStyleModel",
            "_view_count": null,
            "_view_module": "@jupyter-widgets/base",
            "_view_module_version": "1.2.0",
            "_view_name": "StyleView",
            "description_width": ""
          }
        },
        "eea248b3437045b8949f82cf5e2201f5": {
          "model_module": "@jupyter-widgets/base",
          "model_name": "LayoutModel",
          "model_module_version": "1.2.0",
          "state": {
            "_model_module": "@jupyter-widgets/base",
            "_model_module_version": "1.2.0",
            "_model_name": "LayoutModel",
            "_view_count": null,
            "_view_module": "@jupyter-widgets/base",
            "_view_module_version": "1.2.0",
            "_view_name": "LayoutView",
            "align_content": null,
            "align_items": null,
            "align_self": null,
            "border": null,
            "bottom": null,
            "display": null,
            "flex": null,
            "flex_flow": null,
            "grid_area": null,
            "grid_auto_columns": null,
            "grid_auto_flow": null,
            "grid_auto_rows": null,
            "grid_column": null,
            "grid_gap": null,
            "grid_row": null,
            "grid_template_areas": null,
            "grid_template_columns": null,
            "grid_template_rows": null,
            "height": null,
            "justify_content": null,
            "justify_items": null,
            "left": null,
            "margin": null,
            "max_height": null,
            "max_width": null,
            "min_height": null,
            "min_width": null,
            "object_fit": null,
            "object_position": null,
            "order": null,
            "overflow": null,
            "overflow_x": null,
            "overflow_y": null,
            "padding": null,
            "right": null,
            "top": null,
            "visibility": null,
            "width": null
          }
        },
        "25184f79f50f4a9c952e5a4c011b8f88": {
          "model_module": "@jupyter-widgets/controls",
          "model_name": "ProgressStyleModel",
          "model_module_version": "1.5.0",
          "state": {
            "_model_module": "@jupyter-widgets/controls",
            "_model_module_version": "1.5.0",
            "_model_name": "ProgressStyleModel",
            "_view_count": null,
            "_view_module": "@jupyter-widgets/base",
            "_view_module_version": "1.2.0",
            "_view_name": "StyleView",
            "bar_color": null,
            "description_width": ""
          }
        },
        "c58f5b0cac86458cb8d1940ec3aa941f": {
          "model_module": "@jupyter-widgets/base",
          "model_name": "LayoutModel",
          "model_module_version": "1.2.0",
          "state": {
            "_model_module": "@jupyter-widgets/base",
            "_model_module_version": "1.2.0",
            "_model_name": "LayoutModel",
            "_view_count": null,
            "_view_module": "@jupyter-widgets/base",
            "_view_module_version": "1.2.0",
            "_view_name": "LayoutView",
            "align_content": null,
            "align_items": null,
            "align_self": null,
            "border": null,
            "bottom": null,
            "display": null,
            "flex": null,
            "flex_flow": null,
            "grid_area": null,
            "grid_auto_columns": null,
            "grid_auto_flow": null,
            "grid_auto_rows": null,
            "grid_column": null,
            "grid_gap": null,
            "grid_row": null,
            "grid_template_areas": null,
            "grid_template_columns": null,
            "grid_template_rows": null,
            "height": null,
            "justify_content": null,
            "justify_items": null,
            "left": null,
            "margin": null,
            "max_height": null,
            "max_width": null,
            "min_height": null,
            "min_width": null,
            "object_fit": null,
            "object_position": null,
            "order": null,
            "overflow": null,
            "overflow_x": null,
            "overflow_y": null,
            "padding": null,
            "right": null,
            "top": null,
            "visibility": null,
            "width": null
          }
        },
        "4449088c3d26458ab0bc6769a1c925e9": {
          "model_module": "@jupyter-widgets/controls",
          "model_name": "DescriptionStyleModel",
          "model_module_version": "1.5.0",
          "state": {
            "_model_module": "@jupyter-widgets/controls",
            "_model_module_version": "1.5.0",
            "_model_name": "DescriptionStyleModel",
            "_view_count": null,
            "_view_module": "@jupyter-widgets/base",
            "_view_module_version": "1.2.0",
            "_view_name": "StyleView",
            "description_width": ""
          }
        }
      }
    }
  },
  "nbformat": 4,
  "nbformat_minor": 0
}